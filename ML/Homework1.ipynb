{
 "cells": [
  {
   "cell_type": "code",
   "execution_count": 110,
   "metadata": {},
   "outputs": [],
   "source": [
    "import pandas as pd"
   ]
  },
  {
   "cell_type": "code",
   "execution_count": 111,
   "metadata": {},
   "outputs": [],
   "source": [
    "df = pd.read_csv('boston_housing_titles.csv')"
   ]
  },
  {
   "cell_type": "code",
   "execution_count": 112,
   "metadata": {},
   "outputs": [
    {
     "data": {
      "text/html": [
       "<div>\n",
       "<style scoped>\n",
       "    .dataframe tbody tr th:only-of-type {\n",
       "        vertical-align: middle;\n",
       "    }\n",
       "\n",
       "    .dataframe tbody tr th {\n",
       "        vertical-align: top;\n",
       "    }\n",
       "\n",
       "    .dataframe thead th {\n",
       "        text-align: right;\n",
       "    }\n",
       "</style>\n",
       "<table border=\"1\" class=\"dataframe\">\n",
       "  <thead>\n",
       "    <tr style=\"text-align: right;\">\n",
       "      <th></th>\n",
       "      <th>1</th>\n",
       "      <th>crim</th>\n",
       "      <th>zn</th>\n",
       "      <th>indus</th>\n",
       "      <th>chas</th>\n",
       "      <th>nox</th>\n",
       "      <th>rm</th>\n",
       "      <th>age</th>\n",
       "      <th>dis</th>\n",
       "      <th>rad</th>\n",
       "      <th>tax</th>\n",
       "      <th>ptratio</th>\n",
       "      <th>black</th>\n",
       "      <th>lstat</th>\n",
       "      <th>medv</th>\n",
       "    </tr>\n",
       "  </thead>\n",
       "  <tbody>\n",
       "    <tr>\n",
       "      <th>0</th>\n",
       "      <td>continuous</td>\n",
       "      <td>continuous</td>\n",
       "      <td>continuous</td>\n",
       "      <td>continuous</td>\n",
       "      <td>discrete</td>\n",
       "      <td>continuous</td>\n",
       "      <td>continuous</td>\n",
       "      <td>continuous</td>\n",
       "      <td>continuous</td>\n",
       "      <td>continuous</td>\n",
       "      <td>continuous</td>\n",
       "      <td>continuous</td>\n",
       "      <td>continuous</td>\n",
       "      <td>continuous</td>\n",
       "      <td>continuous</td>\n",
       "    </tr>\n",
       "    <tr>\n",
       "      <th>1</th>\n",
       "      <td>NaN</td>\n",
       "      <td>NaN</td>\n",
       "      <td>NaN</td>\n",
       "      <td>NaN</td>\n",
       "      <td>NaN</td>\n",
       "      <td>NaN</td>\n",
       "      <td>NaN</td>\n",
       "      <td>NaN</td>\n",
       "      <td>NaN</td>\n",
       "      <td>NaN</td>\n",
       "      <td>NaN</td>\n",
       "      <td>NaN</td>\n",
       "      <td>NaN</td>\n",
       "      <td>NaN</td>\n",
       "      <td>NaN</td>\n",
       "    </tr>\n",
       "    <tr>\n",
       "      <th>2</th>\n",
       "      <td>2.0</td>\n",
       "      <td>0.02731</td>\n",
       "      <td>0.0</td>\n",
       "      <td>7.07</td>\n",
       "      <td>0</td>\n",
       "      <td>0.469</td>\n",
       "      <td>6.421</td>\n",
       "      <td>78.9</td>\n",
       "      <td>4.9671</td>\n",
       "      <td>2.0</td>\n",
       "      <td>242.0</td>\n",
       "      <td>17.8</td>\n",
       "      <td>396.9</td>\n",
       "      <td>9.14</td>\n",
       "      <td>21.6</td>\n",
       "    </tr>\n",
       "    <tr>\n",
       "      <th>3</th>\n",
       "      <td>3.0</td>\n",
       "      <td>0.02729</td>\n",
       "      <td>0.0</td>\n",
       "      <td>7.07</td>\n",
       "      <td>0</td>\n",
       "      <td>0.469</td>\n",
       "      <td>7.185</td>\n",
       "      <td>61.1</td>\n",
       "      <td>4.9671</td>\n",
       "      <td>2.0</td>\n",
       "      <td>242.0</td>\n",
       "      <td>17.8</td>\n",
       "      <td>392.83</td>\n",
       "      <td>4.03</td>\n",
       "      <td>34.7</td>\n",
       "    </tr>\n",
       "    <tr>\n",
       "      <th>4</th>\n",
       "      <td>4.0</td>\n",
       "      <td>0.03237</td>\n",
       "      <td>0.0</td>\n",
       "      <td>2.18</td>\n",
       "      <td>0</td>\n",
       "      <td>0.458</td>\n",
       "      <td>6.998</td>\n",
       "      <td>45.8</td>\n",
       "      <td>6.0622</td>\n",
       "      <td>3.0</td>\n",
       "      <td>222.0</td>\n",
       "      <td>18.7</td>\n",
       "      <td>394.63</td>\n",
       "      <td>2.94</td>\n",
       "      <td>33.4</td>\n",
       "    </tr>\n",
       "  </tbody>\n",
       "</table>\n",
       "</div>"
      ],
      "text/plain": [
       "            1        crim          zn       indus      chas         nox  \\\n",
       "0  continuous  continuous  continuous  continuous  discrete  continuous   \n",
       "1         NaN         NaN         NaN         NaN       NaN         NaN   \n",
       "2         2.0     0.02731         0.0        7.07         0       0.469   \n",
       "3         3.0     0.02729         0.0        7.07         0       0.469   \n",
       "4         4.0     0.03237         0.0        2.18         0       0.458   \n",
       "\n",
       "           rm         age         dis         rad         tax     ptratio  \\\n",
       "0  continuous  continuous  continuous  continuous  continuous  continuous   \n",
       "1         NaN         NaN         NaN         NaN         NaN         NaN   \n",
       "2       6.421        78.9      4.9671         2.0       242.0        17.8   \n",
       "3       7.185        61.1      4.9671         2.0       242.0        17.8   \n",
       "4       6.998        45.8      6.0622         3.0       222.0        18.7   \n",
       "\n",
       "        black       lstat        medv  \n",
       "0  continuous  continuous  continuous  \n",
       "1         NaN         NaN         NaN  \n",
       "2       396.9        9.14        21.6  \n",
       "3      392.83        4.03        34.7  \n",
       "4      394.63        2.94        33.4  "
      ]
     },
     "execution_count": 112,
     "metadata": {},
     "output_type": "execute_result"
    }
   ],
   "source": [
    "df.head()"
   ]
  },
  {
   "cell_type": "code",
   "execution_count": 113,
   "metadata": {},
   "outputs": [
    {
     "data": {
      "text/plain": [
       "1          1\n",
       "crim       1\n",
       "zn         1\n",
       "indus      1\n",
       "chas       1\n",
       "nox        1\n",
       "rm         1\n",
       "age        1\n",
       "dis        1\n",
       "rad        1\n",
       "tax        1\n",
       "ptratio    1\n",
       "black      1\n",
       "lstat      1\n",
       "medv       1\n",
       "dtype: int64"
      ]
     },
     "execution_count": 113,
     "metadata": {},
     "output_type": "execute_result"
    }
   ],
   "source": [
    "df.isna().sum()"
   ]
  },
  {
   "cell_type": "code",
   "execution_count": 114,
   "metadata": {},
   "outputs": [],
   "source": [
    "df = df.drop(index = 0, axis = 0)\n",
    "df = df.drop(index = 1, axis = 0)"
   ]
  },
  {
   "cell_type": "code",
   "execution_count": 115,
   "metadata": {},
   "outputs": [],
   "source": [
    "df.reset_index(drop= True , inplace= True )"
   ]
  },
  {
   "cell_type": "code",
   "execution_count": 116,
   "metadata": {},
   "outputs": [],
   "source": [
    "df = df.drop('1', axis = 1)"
   ]
  },
  {
   "cell_type": "code",
   "execution_count": 117,
   "metadata": {},
   "outputs": [
    {
     "data": {
      "text/html": [
       "<div>\n",
       "<style scoped>\n",
       "    .dataframe tbody tr th:only-of-type {\n",
       "        vertical-align: middle;\n",
       "    }\n",
       "\n",
       "    .dataframe tbody tr th {\n",
       "        vertical-align: top;\n",
       "    }\n",
       "\n",
       "    .dataframe thead th {\n",
       "        text-align: right;\n",
       "    }\n",
       "</style>\n",
       "<table border=\"1\" class=\"dataframe\">\n",
       "  <thead>\n",
       "    <tr style=\"text-align: right;\">\n",
       "      <th></th>\n",
       "      <th>crim</th>\n",
       "      <th>zn</th>\n",
       "      <th>indus</th>\n",
       "      <th>chas</th>\n",
       "      <th>nox</th>\n",
       "      <th>rm</th>\n",
       "      <th>age</th>\n",
       "      <th>dis</th>\n",
       "      <th>rad</th>\n",
       "      <th>tax</th>\n",
       "      <th>ptratio</th>\n",
       "      <th>black</th>\n",
       "      <th>lstat</th>\n",
       "      <th>medv</th>\n",
       "    </tr>\n",
       "  </thead>\n",
       "  <tbody>\n",
       "    <tr>\n",
       "      <th>0</th>\n",
       "      <td>0.02731</td>\n",
       "      <td>0.0</td>\n",
       "      <td>7.07</td>\n",
       "      <td>0</td>\n",
       "      <td>0.469</td>\n",
       "      <td>6.421</td>\n",
       "      <td>78.9</td>\n",
       "      <td>4.9671</td>\n",
       "      <td>2.0</td>\n",
       "      <td>242.0</td>\n",
       "      <td>17.8</td>\n",
       "      <td>396.9</td>\n",
       "      <td>9.14</td>\n",
       "      <td>21.6</td>\n",
       "    </tr>\n",
       "    <tr>\n",
       "      <th>1</th>\n",
       "      <td>0.02729</td>\n",
       "      <td>0.0</td>\n",
       "      <td>7.07</td>\n",
       "      <td>0</td>\n",
       "      <td>0.469</td>\n",
       "      <td>7.185</td>\n",
       "      <td>61.1</td>\n",
       "      <td>4.9671</td>\n",
       "      <td>2.0</td>\n",
       "      <td>242.0</td>\n",
       "      <td>17.8</td>\n",
       "      <td>392.83</td>\n",
       "      <td>4.03</td>\n",
       "      <td>34.7</td>\n",
       "    </tr>\n",
       "    <tr>\n",
       "      <th>2</th>\n",
       "      <td>0.03237</td>\n",
       "      <td>0.0</td>\n",
       "      <td>2.18</td>\n",
       "      <td>0</td>\n",
       "      <td>0.458</td>\n",
       "      <td>6.998</td>\n",
       "      <td>45.8</td>\n",
       "      <td>6.0622</td>\n",
       "      <td>3.0</td>\n",
       "      <td>222.0</td>\n",
       "      <td>18.7</td>\n",
       "      <td>394.63</td>\n",
       "      <td>2.94</td>\n",
       "      <td>33.4</td>\n",
       "    </tr>\n",
       "    <tr>\n",
       "      <th>3</th>\n",
       "      <td>0.06905</td>\n",
       "      <td>0.0</td>\n",
       "      <td>2.18</td>\n",
       "      <td>0</td>\n",
       "      <td>0.458</td>\n",
       "      <td>7.147</td>\n",
       "      <td>54.2</td>\n",
       "      <td>6.0622</td>\n",
       "      <td>3.0</td>\n",
       "      <td>222.0</td>\n",
       "      <td>18.7</td>\n",
       "      <td>396.9</td>\n",
       "      <td>5.33</td>\n",
       "      <td>36.2</td>\n",
       "    </tr>\n",
       "    <tr>\n",
       "      <th>4</th>\n",
       "      <td>0.02985</td>\n",
       "      <td>0.0</td>\n",
       "      <td>2.18</td>\n",
       "      <td>0</td>\n",
       "      <td>0.458</td>\n",
       "      <td>6.43</td>\n",
       "      <td>58.7</td>\n",
       "      <td>6.0622</td>\n",
       "      <td>3.0</td>\n",
       "      <td>222.0</td>\n",
       "      <td>18.7</td>\n",
       "      <td>394.12</td>\n",
       "      <td>5.21</td>\n",
       "      <td>28.7</td>\n",
       "    </tr>\n",
       "    <tr>\n",
       "      <th>...</th>\n",
       "      <td>...</td>\n",
       "      <td>...</td>\n",
       "      <td>...</td>\n",
       "      <td>...</td>\n",
       "      <td>...</td>\n",
       "      <td>...</td>\n",
       "      <td>...</td>\n",
       "      <td>...</td>\n",
       "      <td>...</td>\n",
       "      <td>...</td>\n",
       "      <td>...</td>\n",
       "      <td>...</td>\n",
       "      <td>...</td>\n",
       "      <td>...</td>\n",
       "    </tr>\n",
       "    <tr>\n",
       "      <th>500</th>\n",
       "      <td>0.06263</td>\n",
       "      <td>0.0</td>\n",
       "      <td>11.93</td>\n",
       "      <td>0</td>\n",
       "      <td>0.573</td>\n",
       "      <td>6.593</td>\n",
       "      <td>69.1</td>\n",
       "      <td>2.4786</td>\n",
       "      <td>1.0</td>\n",
       "      <td>273.0</td>\n",
       "      <td>21.0</td>\n",
       "      <td>391.99</td>\n",
       "      <td>9.67</td>\n",
       "      <td>22.4</td>\n",
       "    </tr>\n",
       "    <tr>\n",
       "      <th>501</th>\n",
       "      <td>0.04527</td>\n",
       "      <td>0.0</td>\n",
       "      <td>11.93</td>\n",
       "      <td>0</td>\n",
       "      <td>0.573</td>\n",
       "      <td>6.12</td>\n",
       "      <td>76.7</td>\n",
       "      <td>2.2875</td>\n",
       "      <td>1.0</td>\n",
       "      <td>273.0</td>\n",
       "      <td>21.0</td>\n",
       "      <td>396.9</td>\n",
       "      <td>9.08</td>\n",
       "      <td>20.6</td>\n",
       "    </tr>\n",
       "    <tr>\n",
       "      <th>502</th>\n",
       "      <td>0.06076</td>\n",
       "      <td>0.0</td>\n",
       "      <td>11.93</td>\n",
       "      <td>0</td>\n",
       "      <td>0.573</td>\n",
       "      <td>6.976</td>\n",
       "      <td>91.0</td>\n",
       "      <td>2.1675</td>\n",
       "      <td>1.0</td>\n",
       "      <td>273.0</td>\n",
       "      <td>21.0</td>\n",
       "      <td>396.9</td>\n",
       "      <td>5.64</td>\n",
       "      <td>23.9</td>\n",
       "    </tr>\n",
       "    <tr>\n",
       "      <th>503</th>\n",
       "      <td>0.10959</td>\n",
       "      <td>0.0</td>\n",
       "      <td>11.93</td>\n",
       "      <td>0</td>\n",
       "      <td>0.573</td>\n",
       "      <td>6.794</td>\n",
       "      <td>89.3</td>\n",
       "      <td>2.3889</td>\n",
       "      <td>1.0</td>\n",
       "      <td>273.0</td>\n",
       "      <td>21.0</td>\n",
       "      <td>393.45</td>\n",
       "      <td>6.48</td>\n",
       "      <td>22.0</td>\n",
       "    </tr>\n",
       "    <tr>\n",
       "      <th>504</th>\n",
       "      <td>0.04741</td>\n",
       "      <td>0.0</td>\n",
       "      <td>11.93</td>\n",
       "      <td>0</td>\n",
       "      <td>0.573</td>\n",
       "      <td>6.03</td>\n",
       "      <td>80.8</td>\n",
       "      <td>2.505</td>\n",
       "      <td>1.0</td>\n",
       "      <td>273.0</td>\n",
       "      <td>21.0</td>\n",
       "      <td>396.9</td>\n",
       "      <td>7.88</td>\n",
       "      <td>11.9</td>\n",
       "    </tr>\n",
       "  </tbody>\n",
       "</table>\n",
       "<p>505 rows × 14 columns</p>\n",
       "</div>"
      ],
      "text/plain": [
       "        crim   zn  indus chas    nox     rm   age     dis  rad    tax ptratio  \\\n",
       "0    0.02731  0.0   7.07    0  0.469  6.421  78.9  4.9671  2.0  242.0    17.8   \n",
       "1    0.02729  0.0   7.07    0  0.469  7.185  61.1  4.9671  2.0  242.0    17.8   \n",
       "2    0.03237  0.0   2.18    0  0.458  6.998  45.8  6.0622  3.0  222.0    18.7   \n",
       "3    0.06905  0.0   2.18    0  0.458  7.147  54.2  6.0622  3.0  222.0    18.7   \n",
       "4    0.02985  0.0   2.18    0  0.458   6.43  58.7  6.0622  3.0  222.0    18.7   \n",
       "..       ...  ...    ...  ...    ...    ...   ...     ...  ...    ...     ...   \n",
       "500  0.06263  0.0  11.93    0  0.573  6.593  69.1  2.4786  1.0  273.0    21.0   \n",
       "501  0.04527  0.0  11.93    0  0.573   6.12  76.7  2.2875  1.0  273.0    21.0   \n",
       "502  0.06076  0.0  11.93    0  0.573  6.976  91.0  2.1675  1.0  273.0    21.0   \n",
       "503  0.10959  0.0  11.93    0  0.573  6.794  89.3  2.3889  1.0  273.0    21.0   \n",
       "504  0.04741  0.0  11.93    0  0.573   6.03  80.8   2.505  1.0  273.0    21.0   \n",
       "\n",
       "      black lstat  medv  \n",
       "0     396.9  9.14  21.6  \n",
       "1    392.83  4.03  34.7  \n",
       "2    394.63  2.94  33.4  \n",
       "3     396.9  5.33  36.2  \n",
       "4    394.12  5.21  28.7  \n",
       "..      ...   ...   ...  \n",
       "500  391.99  9.67  22.4  \n",
       "501   396.9  9.08  20.6  \n",
       "502   396.9  5.64  23.9  \n",
       "503  393.45  6.48  22.0  \n",
       "504   396.9  7.88  11.9  \n",
       "\n",
       "[505 rows x 14 columns]"
      ]
     },
     "execution_count": 117,
     "metadata": {},
     "output_type": "execute_result"
    }
   ],
   "source": [
    "df"
   ]
  },
  {
   "cell_type": "code",
   "execution_count": 118,
   "metadata": {},
   "outputs": [],
   "source": [
    "from sklearn.model_selection import train_test_split"
   ]
  },
  {
   "cell_type": "code",
   "execution_count": 119,
   "metadata": {},
   "outputs": [],
   "source": [
    "X_train, X_test, y_train, y_test = train_test_split(df.drop('medv',axis=1), \n",
    "                                                    df['medv'], \n",
    "                                                    test_size=0.3, \n",
    "                                                    random_state=888)"
   ]
  },
  {
   "cell_type": "code",
   "execution_count": 120,
   "metadata": {},
   "outputs": [
    {
     "data": {
      "text/plain": [
       "(        crim    zn  indus chas    nox     rm    age     dis   rad    tax  \\\n",
       " 453  9.51363   0.0   18.1    0  0.713  6.728   94.1  2.4961  24.0  666.0   \n",
       " 424  15.8603   0.0   18.1    0  0.679  5.896   95.4  1.9096  24.0  666.0   \n",
       " 201  0.02177  82.5   2.03    0  0.415   7.61   15.7    6.27   2.0  348.0   \n",
       " 98    0.0686   0.0   2.89    0  0.445  7.416   62.5  3.4952   2.0  276.0   \n",
       " 255  0.01538  90.0   3.75    0  0.394  7.454   34.2  6.3361   3.0  244.0   \n",
       " ..       ...   ...    ...  ...    ...    ...    ...     ...   ...    ...   \n",
       " 115  0.13158   0.0  10.01    0  0.547  6.176   72.5  2.7301   6.0  432.0   \n",
       " 150  1.49632   0.0  19.58    0  0.871  5.404  100.0  1.5916   5.0  403.0   \n",
       " 239  0.11329  30.0   4.93    0  0.428  6.897   54.3  6.3361   6.0  300.0   \n",
       " 493  0.27957   0.0   9.69    0  0.585  5.926   42.6  2.3817   6.0  391.0   \n",
       " 410  14.0507   0.0   18.1    0  0.597  6.657  100.0  1.5275  24.0  666.0   \n",
       " \n",
       "     ptratio   black  lstat  \n",
       " 453    20.2    6.68  18.71  \n",
       " 424    20.2    7.68  24.39  \n",
       " 201    14.7  395.38   3.11  \n",
       " 98     18.0   396.9   6.19  \n",
       " 255    15.9  386.34   3.11  \n",
       " ..      ...     ...    ...  \n",
       " 115    17.8   393.3  12.04  \n",
       " 150    14.7   341.6  13.28  \n",
       " 239    16.6  391.25  11.38  \n",
       " 493    19.2   396.9  13.59  \n",
       " 410    20.2   35.05  21.22  \n",
       " \n",
       " [353 rows x 13 columns],\n",
       "         crim    zn  indus chas    nox     rm   age     dis   rad    tax  \\\n",
       " 212  0.14052   0.0  10.59    0  0.489  6.375  32.3  3.9454   4.0  277.0   \n",
       " 274  0.09604  40.0   6.41    0  0.447  6.854  42.8  4.2673   4.0  254.0   \n",
       " 12   0.62976   0.0   8.14    0  0.538  5.949  61.8  4.7075   4.0  307.0   \n",
       " 503  0.10959   0.0  11.93    0  0.573  6.794  89.3  2.3889   1.0  273.0   \n",
       " 363  3.47428   0.0   18.1    1  0.718   8.78  82.9  1.9047  24.0  666.0   \n",
       " ..       ...   ...    ...  ...    ...    ...   ...     ...   ...    ...   \n",
       " 237  0.08244  30.0   4.93    0  0.428  6.481  18.5  6.1899   6.0  300.0   \n",
       " 13   0.63796   0.0   8.14    0  0.538  6.096  84.5  4.4619   4.0  307.0   \n",
       " 159  1.27346   0.0  19.58    1  0.605   6.25  92.6  1.7984   5.0  403.0   \n",
       " 318  0.47547   0.0    9.9    0  0.544  6.113  58.8  4.0019   4.0  304.0   \n",
       " 375   15.288   0.0   18.1    0  0.671  6.649  93.3  1.3449  24.0  666.0   \n",
       " \n",
       "     ptratio   black  lstat  \n",
       " 212    18.6  385.81   9.38  \n",
       " 274    17.6   396.9   2.98  \n",
       " 12     21.0   396.9   8.26  \n",
       " 503    21.0  393.45   6.48  \n",
       " 363    20.2  354.55   5.29  \n",
       " ..      ...     ...    ...  \n",
       " 237    16.6  379.41   6.36  \n",
       " 13     21.0  380.02  10.26  \n",
       " 159    14.7  338.92    5.5  \n",
       " 318    18.4  396.23  12.73  \n",
       " 375    20.2  363.02  23.24  \n",
       " \n",
       " [152 rows x 13 columns],\n",
       " 453    14.9\n",
       " 424     8.3\n",
       " 201    42.3\n",
       " 98     33.2\n",
       " 255    44.0\n",
       "        ... \n",
       " 115    21.2\n",
       " 150    19.6\n",
       " 239    22.0\n",
       " 493    24.5\n",
       " 410    17.2\n",
       " Name: medv, Length: 353, dtype: object,\n",
       " 212    28.1\n",
       " 274    32.0\n",
       " 12     20.4\n",
       " 503    22.0\n",
       " 363    21.9\n",
       "        ... \n",
       " 237    23.7\n",
       " 13     18.2\n",
       " 159    27.0\n",
       " 318    21.0\n",
       " 375    13.9\n",
       " Name: medv, Length: 152, dtype: object)"
      ]
     },
     "execution_count": 120,
     "metadata": {},
     "output_type": "execute_result"
    }
   ],
   "source": [
    "X_train, X_test, y_train, y_test"
   ]
  },
  {
   "cell_type": "code",
   "execution_count": 121,
   "metadata": {},
   "outputs": [
    {
     "name": "stdout",
     "output_type": "stream",
     "text": [
      "(353, 13)\n",
      "(152, 13)\n"
     ]
    }
   ],
   "source": [
    "print(X_train.shape)\n",
    "print(X_test.shape)"
   ]
  },
  {
   "cell_type": "code",
   "execution_count": 122,
   "metadata": {},
   "outputs": [],
   "source": [
    "from sklearn.linear_model import LinearRegression"
   ]
  },
  {
   "cell_type": "code",
   "execution_count": 123,
   "metadata": {},
   "outputs": [],
   "source": [
    "my_linear = LinearRegression()"
   ]
  },
  {
   "cell_type": "code",
   "execution_count": 124,
   "metadata": {},
   "outputs": [
    {
     "name": "stdout",
     "output_type": "stream",
     "text": [
      "Wall time: 15 ms\n"
     ]
    },
    {
     "data": {
      "text/plain": [
       "LinearRegression()"
      ]
     },
     "execution_count": 124,
     "metadata": {},
     "output_type": "execute_result"
    }
   ],
   "source": [
    "%%time\n",
    "my_linear.fit(X_train, y_train)"
   ]
  },
  {
   "cell_type": "code",
   "execution_count": 125,
   "metadata": {},
   "outputs": [],
   "source": [
    "pred = my_linear.predict(X_test)\n",
    "#pred"
   ]
  },
  {
   "cell_type": "code",
   "execution_count": 126,
   "metadata": {},
   "outputs": [],
   "source": [
    "test_pred = X_test.copy()"
   ]
  },
  {
   "cell_type": "code",
   "execution_count": 127,
   "metadata": {},
   "outputs": [],
   "source": [
    "test_pred['predict'] = pred\n",
    "test_pred['medv'] = y_test"
   ]
  },
  {
   "cell_type": "code",
   "execution_count": 128,
   "metadata": {},
   "outputs": [
    {
     "data": {
      "text/html": [
       "<div>\n",
       "<style scoped>\n",
       "    .dataframe tbody tr th:only-of-type {\n",
       "        vertical-align: middle;\n",
       "    }\n",
       "\n",
       "    .dataframe tbody tr th {\n",
       "        vertical-align: top;\n",
       "    }\n",
       "\n",
       "    .dataframe thead th {\n",
       "        text-align: right;\n",
       "    }\n",
       "</style>\n",
       "<table border=\"1\" class=\"dataframe\">\n",
       "  <thead>\n",
       "    <tr style=\"text-align: right;\">\n",
       "      <th></th>\n",
       "      <th>predict</th>\n",
       "      <th>medv</th>\n",
       "    </tr>\n",
       "  </thead>\n",
       "  <tbody>\n",
       "    <tr>\n",
       "      <th>212</th>\n",
       "      <td>25.075368</td>\n",
       "      <td>28.1</td>\n",
       "    </tr>\n",
       "    <tr>\n",
       "      <th>274</th>\n",
       "      <td>34.183486</td>\n",
       "      <td>32.0</td>\n",
       "    </tr>\n",
       "    <tr>\n",
       "      <th>12</th>\n",
       "      <td>19.661636</td>\n",
       "      <td>20.4</td>\n",
       "    </tr>\n",
       "    <tr>\n",
       "      <th>503</th>\n",
       "      <td>26.472661</td>\n",
       "      <td>22.0</td>\n",
       "    </tr>\n",
       "    <tr>\n",
       "      <th>363</th>\n",
       "      <td>38.684910</td>\n",
       "      <td>21.9</td>\n",
       "    </tr>\n",
       "  </tbody>\n",
       "</table>\n",
       "</div>"
      ],
      "text/plain": [
       "       predict  medv\n",
       "212  25.075368  28.1\n",
       "274  34.183486  32.0\n",
       "12   19.661636  20.4\n",
       "503  26.472661  22.0\n",
       "363  38.684910  21.9"
      ]
     },
     "execution_count": 128,
     "metadata": {},
     "output_type": "execute_result"
    }
   ],
   "source": [
    "test_pred[['predict','medv']].head()"
   ]
  },
  {
   "cell_type": "code",
   "execution_count": 129,
   "metadata": {},
   "outputs": [],
   "source": [
    "from sklearn.metrics import mean_squared_error"
   ]
  },
  {
   "cell_type": "code",
   "execution_count": 130,
   "metadata": {},
   "outputs": [
    {
     "name": "stdout",
     "output_type": "stream",
     "text": [
      "Ошибка RMSE c random seed 888 = 23.361128777402897\n"
     ]
    }
   ],
   "source": [
    "print('Ошибка RMSE c random seed 888 =',mean_squared_error(y_test, pred))"
   ]
  },
  {
   "cell_type": "code",
   "execution_count": 131,
   "metadata": {},
   "outputs": [
    {
     "data": {
      "text/plain": [
       "24.342287113395784"
      ]
     },
     "execution_count": 131,
     "metadata": {},
     "output_type": "execute_result"
    }
   ],
   "source": [
    "pr = []\n",
    "\n",
    "\n",
    "for i in range(1000):\n",
    "    X_train, X_test, y_train, y_test = train_test_split(df.drop('medv',axis=1), \n",
    "                                                    df['medv'], \n",
    "                                                    test_size = 0.3, \n",
    "                                                    random_state = i)\n",
    "    my_linear = LinearRegression()\n",
    "    my_linear.fit(X_train, y_train)\n",
    "    pred = my_linear.predict(X_test)\n",
    "#     print('Ошибка c random seed=',i,' RMSE =',mean_squared_error(y_test, pred))\n",
    "    pr.append(mean_squared_error(y_test, pred))\n",
    "\n",
    "pd.Series(pr).mean()"
   ]
  },
  {
   "cell_type": "code",
   "execution_count": null,
   "metadata": {},
   "outputs": [],
   "source": []
  },
  {
   "cell_type": "code",
   "execution_count": null,
   "metadata": {},
   "outputs": [],
   "source": []
  },
  {
   "cell_type": "code",
   "execution_count": null,
   "metadata": {},
   "outputs": [],
   "source": []
  },
  {
   "cell_type": "code",
   "execution_count": null,
   "metadata": {},
   "outputs": [],
   "source": []
  },
  {
   "cell_type": "code",
   "execution_count": null,
   "metadata": {},
   "outputs": [],
   "source": []
  },
  {
   "cell_type": "code",
   "execution_count": null,
   "metadata": {},
   "outputs": [],
   "source": []
  }
 ],
 "metadata": {
  "kernelspec": {
   "display_name": "Python 3 (ipykernel)",
   "language": "python",
   "name": "python3"
  },
  "language_info": {
   "codemirror_mode": {
    "name": "ipython",
    "version": 3
   },
   "file_extension": ".py",
   "mimetype": "text/x-python",
   "name": "python",
   "nbconvert_exporter": "python",
   "pygments_lexer": "ipython3",
   "version": "3.9.13"
  }
 },
 "nbformat": 4,
 "nbformat_minor": 4
}
