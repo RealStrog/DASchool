{
 "cells": [
  {
   "cell_type": "markdown",
   "metadata": {},
   "source": [
    "<a target=\"_blank\" href=\"https://colab.research.google.com/github/da-python/new-modul-python/blob/main/Lesson2/hometask/HH-api-hometask.ipynb\">\n"
   ]
  },
  {
   "cell_type": "markdown",
   "metadata": {},
   "source": [
    "<a target=\"_blank\" href=\"https://colab.research.google.com/github/da-python/new-modul-python/blob/main/Lesson2/hometask/HH-api-hometask.ipynb\">\n",
    "  <img src=\"https://colab.research.google.com/assets/colab-badge.svg\" alt=\"Open In Colab\"/>\n",
    "</a>"
   ]
  },
  {
   "cell_type": "markdown",
   "metadata": {},
   "source": [
    "# Задание\n",
    "* Cкачайте все вакансии СБЕРа из api hh.ru (https://github.com/hhru/api у апи есть ограничение в 2000, подумайте как его обойти)\n",
    "* Извлеките все полные описания этих вакансий по запросу с https://api.hh.ru/vacancies/43326020 где 43326020 id вакансии\n",
    "* Создайте DataFrame в котором будут даты публикации вакансий, названия, описания,  только добавьте поле ключевые навыки\n",
    "* Переведите даты публикаций в формат datetime и постройте график опубликованных вакансий по датам\n",
    "* Переведите даты в дни недели, и определите день недели, в который больше всего публикуют вакансий\n",
    "* Найдите вакансии с использованием python, которые вам интересны\n",
    "* Определите по полю с ключевыми навыками, какие навыки больше всего востребованы для найденных вакансий\n",
    "* Постройте график наиболее востребованных навыков\n",
    "\n",
    "** В случае ответов от api.hh.ru с ошибками типа \"Captcha\" постарайтесь их обработать, например, с помощью time.sleep или изменения ip-адреса"
   ]
  },
  {
   "cell_type": "code",
   "execution_count": 178,
   "metadata": {},
   "outputs": [],
   "source": [
    "import requests\n",
    "from tqdm.auto import tqdm\n",
    "import pandas as pd\n",
    "import numpy as np\n",
    "import os\n",
    "from datetime import datetime\n",
    "from operator import itemgetter\n",
    "import time"
   ]
  },
  {
   "cell_type": "code",
   "execution_count": 179,
   "metadata": {},
   "outputs": [],
   "source": [
    "sber = '3529'\n",
    "page = 1\n",
    "num_per_page = 100\n",
    "moscow = 1\n",
    "url = f'https://api.hh.ru/vacancies?employer_id={sber}&page={page}&per_page={num_per_page}'"
   ]
  },
  {
   "cell_type": "code",
   "execution_count": 180,
   "metadata": {},
   "outputs": [
    {
     "data": {
      "text/plain": [
       "20"
      ]
     },
     "execution_count": 180,
     "metadata": {},
     "output_type": "execute_result"
    }
   ],
   "source": [
    "res = requests.get(url)\n",
    "vacancies = res.json()\n",
    "num_pages = vacancies.get('pages')\n",
    "num_pages"
   ]
  },
  {
   "cell_type": "code",
   "execution_count": 181,
   "metadata": {},
   "outputs": [],
   "source": [
    "vacancies = res.json()\n",
    "num_pages = vacancies.get('pages')\n",
    "vacancy_ids = [el.get('id') for el in vacancies.get('items')]"
   ]
  },
  {
   "cell_type": "code",
   "execution_count": 182,
   "metadata": {},
   "outputs": [
    {
     "data": {
      "text/plain": [
       "dict_keys(['items', 'found', 'pages', 'per_page', 'page', 'clusters', 'arguments', 'alternate_url'])"
      ]
     },
     "execution_count": 182,
     "metadata": {},
     "output_type": "execute_result"
    }
   ],
   "source": [
    "vacancies.keys()"
   ]
  },
  {
   "cell_type": "code",
   "execution_count": 183,
   "metadata": {},
   "outputs": [
    {
     "data": {
      "application/vnd.jupyter.widget-view+json": {
       "model_id": "c88e3ced554544babea5c082c4ed2f8d",
       "version_major": 2,
       "version_minor": 0
      },
      "text/plain": [
       "  0%|          | 0/20 [00:00<?, ?it/s]"
      ]
     },
     "metadata": {},
     "output_type": "display_data"
    }
   ],
   "source": [
    "all_vacancy_ids= []\n",
    "for i in tqdm(range(vacancies.get('pages'))):\n",
    "    url = f'https://api.hh.ru/vacancies?employer_id={sber}&page={i}&per_page={num_per_page}'\n",
    "    res = requests.get(url)\n",
    "    vacancies = res.json()\n",
    "    vacancy_ids = [el.get('id') for el in vacancies.get('items')]\n",
    "    all_vacancy_ids.extend(vacancy_ids)"
   ]
  },
  {
   "cell_type": "code",
   "execution_count": 184,
   "metadata": {},
   "outputs": [
    {
     "data": {
      "text/plain": [
       "2000"
      ]
     },
     "execution_count": 184,
     "metadata": {},
     "output_type": "execute_result"
    }
   ],
   "source": [
    "len(all_vacancy_ids)"
   ]
  },
  {
   "cell_type": "code",
   "execution_count": 185,
   "metadata": {},
   "outputs": [
    {
     "name": "stdout",
     "output_type": "stream",
     "text": [
      "1\n",
      "2\n",
      "3\n",
      "4\n",
      "5\n",
      "6\n",
      "7\n",
      "8\n",
      "9\n",
      "10\n",
      "11\n",
      "12\n",
      "13\n",
      "14\n",
      "15\n",
      "16\n",
      "17\n",
      "18\n",
      "19\n",
      "20\n"
     ]
    }
   ],
   "source": [
    "vac_full_info = []\n",
    "for pg in range(20): \n",
    "    x=50*pg\n",
    "    pg+=1\n",
    "    y=50*pg\n",
    "    for i in range(x, y):\n",
    "        vac_id = all_vacancy_ids[i]\n",
    "        url = f'https://api.hh.ru/vacancies/{vac_id}'\n",
    "        res = requests.get(url)\n",
    "        vacancy = res.json()\n",
    "        vac_full_info.append(vacancy)\n",
    "    print(pg)\n",
    "    time.sleep(20)\n"
   ]
  },
  {
   "cell_type": "code",
   "execution_count": 186,
   "metadata": {},
   "outputs": [
    {
     "data": {
      "text/plain": [
       "{'id': '78670316',\n",
       " 'premium': False,\n",
       " 'billing_type': {'id': 'standard', 'name': 'Стандарт'},\n",
       " 'relations': [],\n",
       " 'name': 'Руководитель направления по развитию детских образовательных проектов',\n",
       " 'insider_interview': None,\n",
       " 'response_letter_required': False,\n",
       " 'area': {'id': '1', 'name': 'Москва', 'url': 'https://api.hh.ru/areas/1'},\n",
       " 'salary': None,\n",
       " 'type': {'id': 'open', 'name': 'Открытая'},\n",
       " 'address': {'city': 'Москва',\n",
       "  'street': 'Кутузовский проспект',\n",
       "  'building': '32',\n",
       "  'lat': 55.740421,\n",
       "  'lng': 37.532071,\n",
       "  'description': None,\n",
       "  'raw': 'Москва, Кутузовский проспект, 32',\n",
       "  'metro': {'station_name': 'Кутузовская',\n",
       "   'line_name': 'МЦК',\n",
       "   'station_id': '95.536',\n",
       "   'line_id': '95',\n",
       "   'lat': 55.740833,\n",
       "   'lng': 37.533333},\n",
       "  'metro_stations': [{'station_name': 'Кутузовская',\n",
       "    'line_name': 'МЦК',\n",
       "    'station_id': '95.536',\n",
       "    'line_id': '95',\n",
       "    'lat': 55.740833,\n",
       "    'lng': 37.533333}]},\n",
       " 'allow_messages': True,\n",
       " 'experience': {'id': 'between3And6', 'name': 'От 3 до 6 лет'},\n",
       " 'schedule': {'id': 'fullDay', 'name': 'Полный день'},\n",
       " 'employment': {'id': 'full', 'name': 'Полная занятость'},\n",
       " 'department': {'id': '3529-3529-lead',\n",
       "  'name': 'Сбер. Экспертам и руководителям'},\n",
       " 'contacts': None,\n",
       " 'description': '<p>Наша команда занимается проработкой образовательных продуктовых решений и сервисов в сегментах 0-6, 7-13, 14-17</p> <p><strong>Обязанности:</strong></p> <ul> <li>анализ рынка образования, поиск новых решений и ниш для сегмента дети и подростки;</li> <li>исследование потребностей детей и их родителей в рамках индустрии образования;</li> <li>разработка интеграций и партнерств в рамках производимого контента/сервисов;</li> <li>методологическая проработка образовательных проектов для детей;</li> <li>формирование продуктовых заказов в сторону индустрии образования, расчет финансово-экономического обоснования и согласование его со смежными подразделениями;</li> <li>приоритизация продуктовых заказов согласно выполнению стратегии Банка и экосистемы</li> </ul> <strong>Требования:</strong> <ul> <li>высокая степень клиентоцентричности и эмпатии;</li> <li>горящие глаза и готовность сворачивать горы;</li> <li>знание рынка образования и процессов по созданию образовательных решений;</li> <li>знание процесса создания образовательного контента;</li> <li>коммуникабельность, умение налаживать взаимоотношения с большим количеством контрагентов;</li> <li>опыт работы на образовательных сервисах: в учи.ру, алгоритмика, нетология, фоксфорд, яндекс учебник;</li> <li>готовность работать в условиях многозадачности;</li> <li>готовность ставить потребности клиента во главу угла и находить cost-effective решения;</li> <li>высшее образование</li> </ul> <strong>Условия:</strong> <ul> <li>совершенно новый, современный IT-офис на м. Кутузовская (офисный режим работы);</li> <li>полностью укомплектованное рабочее место;</li> <li>интересные, сложные, амбициозные задачи;</li> <li>возможность профильного обучения (обучение и сертификация за счёт компании);</li> <li>профессиональный рост в молодой и сильной команде;</li> <li>стабильная, конкурентная «белая» заработная плата (оклад + премии);</li> <li>льготные условия по кредитам СберБанка;</li> <li>ДМС, страхование от несчастных случаев, социальные гарантии, корпоративные мероприятия;</li> <li>тренажёрный зал.</li> </ul>',\n",
       " 'branded_description': '\\n<style>\\n.swiper-container {\\n    margin: 0 auto;\\n    position: relative;\\n    overflow: hidden;\\n    list-style: none;\\n    padding: 0;\\n    z-index: 1;\\n}\\n\\n.swiper-container-no-flexbox .swiper-slide {\\n    float: left;\\n}\\n\\n.swiper-container-vertical>.swiper-wrapper {\\n    -webkit-box-orient: vertical;\\n    -webkit-box-direction: normal;\\n    -ms-flex-direction: column;\\n    flex-direction: column;\\n}\\n\\n.swiper-wrapper {\\n    position: relative;\\n    width: 100%;\\n    height: 100%;\\n    z-index: 1;\\n    display: -webkit-box;\\n    display: -ms-flexbox;\\n    display: flex;\\n    -webkit-transition-property: -webkit-transform;\\n    transition-property: -webkit-transform;\\n    -o-transition-property: transform;\\n    transition-property: transform;\\n    transition-property: transform, -webkit-transform;\\n    -webkit-box-sizing: content-box;\\n    box-sizing: content-box;\\n}\\n\\n.swiper-container-android .swiper-slide,\\n.swiper-wrapper {\\n    -webkit-transform: translate3d(0px, 0, 0);\\n    transform: translate3d(0px, 0, 0);\\n}\\n\\n.swiper-container-multirow>.swiper-wrapper {\\n    -ms-flex-wrap: wrap;\\n    flex-wrap: wrap;\\n}\\n\\n.swiper-container-free-mode>.swiper-wrapper {\\n    -webkit-transition-timing-function: ease-out;\\n    -o-transition-timing-function: ease-out;\\n    transition-timing-function: ease-out;\\n    margin: 0 auto;\\n}\\n\\n.swiper-slide {\\n    -ms-flex-negative: 0;\\n    flex-shrink: 0;\\n    width: 100%;\\n    height: 100%;\\n    position: relative;\\n    -webkit-transition-property: -webkit-transform;\\n    transition-property: -webkit-transform;\\n    -o-transition-property: transform;\\n    transition-property: transform;\\n    transition-property: transform, -webkit-transform;\\n}\\n\\n.swiper-slide-invisible-blank {\\n    visibility: hidden;\\n}\\n\\n.swiper-container-autoheight,\\n.swiper-container-autoheight .swiper-slide {\\n    height: auto;\\n}\\n\\n.swiper-container-autoheight .swiper-wrapper {\\n    -webkit-box-align: start;\\n    -ms-flex-align: start;\\n    align-items: flex-start;\\n    -webkit-transition-property: height, -webkit-transform;\\n    transition-property: height, -webkit-transform;\\n    -o-transition-property: transform, height;\\n    transition-property: transform, height;\\n    transition-property: transform, height, -webkit-transform;\\n}\\n\\n.swiper-container-fade.swiper-container-free-mode .swiper-slide {\\n    -webkit-transition-timing-function: ease-out;\\n    -o-transition-timing-function: ease-out;\\n    transition-timing-function: ease-out;\\n}\\n\\n.swiper-container-fade .swiper-slide {\\n    pointer-events: none;\\n    -webkit-transition-property: opacity;\\n    -o-transition-property: opacity;\\n    transition-property: opacity;\\n}\\n\\n.swiper-container-fade .swiper-slide .swiper-slide {\\n    pointer-events: none;\\n}\\n\\n.swiper-container-fade .swiper-slide-active,\\n.swiper-container-fade .swiper-slide-active .swiper-slide-active {\\n    pointer-events: auto;\\n}\\n\\n.swiper-container-3d {\\n    -webkit-perspective: 1200px;\\n    perspective: 1200px;\\n}\\n\\n.swiper-container-3d .swiper-wrapper,\\n.swiper-container-3d .swiper-slide,\\n.swiper-container-3d .swiper-slide-shadow-left,\\n.swiper-container-3d .swiper-slide-shadow-right,\\n.swiper-container-3d .swiper-slide-shadow-top,\\n.swiper-container-3d .swiper-slide-shadow-bottom,\\n.swiper-container-3d .swiper-cube-shadow {\\n    -webkit-transform-style: preserve-3d;\\n    transform-style: preserve-3d;\\n}\\n\\n.swiper-container-3d .swiper-slide-shadow-left,\\n.swiper-container-3d .swiper-slide-shadow-right,\\n.swiper-container-3d .swiper-slide-shadow-top,\\n.swiper-container-3d .swiper-slide-shadow-bottom {\\n    position: absolute;\\n    left: 0;\\n    top: 0;\\n    width: 100%;\\n    height: 100%;\\n    pointer-events: none;\\n    z-index: 10;\\n}\\n\\n.swiper-container-3d .swiper-slide-shadow-left {\\n    background-image: -webkit-gradient(linear, right top, left top, from(rgba(0, 0, 0, 0.5)), to(rgba(0, 0, 0, 0)));\\n    background-image: -webkit-linear-gradient(right, rgba(0, 0, 0, 0.5), rgba(0, 0, 0, 0));\\n    background-image: -o-linear-gradient(right, rgba(0, 0, 0, 0.5), rgba(0, 0, 0, 0));\\n    background-image: linear-gradient(to left, rgba(0, 0, 0, 0.5), rgba(0, 0, 0, 0));\\n}\\n\\n.swiper-container-3d .swiper-slide-shadow-right {\\n    background-image: -webkit-gradient(linear, left top, right top, from(rgba(0, 0, 0, 0.5)), to(rgba(0, 0, 0, 0)));\\n    background-image: -webkit-linear-gradient(left, rgba(0, 0, 0, 0.5), rgba(0, 0, 0, 0));\\n    background-image: -o-linear-gradient(left, rgba(0, 0, 0, 0.5), rgba(0, 0, 0, 0));\\n    background-image: linear-gradient(to right, rgba(0, 0, 0, 0.5), rgba(0, 0, 0, 0));\\n}\\n\\n.swiper-container-3d .swiper-slide-shadow-top {\\n    background-image: -webkit-gradient(linear, left bottom, left top, from(rgba(0, 0, 0, 0.5)), to(rgba(0, 0, 0, 0)));\\n    background-image: -webkit-linear-gradient(bottom, rgba(0, 0, 0, 0.5), rgba(0, 0, 0, 0));\\n    background-image: -o-linear-gradient(bottom, rgba(0, 0, 0, 0.5), rgba(0, 0, 0, 0));\\n    background-image: linear-gradient(to top, rgba(0, 0, 0, 0.5), rgba(0, 0, 0, 0));\\n}\\n\\n.swiper-container-3d .swiper-slide-shadow-bottom {\\n    background-image: -webkit-gradient(linear, left top, left bottom, from(rgba(0, 0, 0, 0.5)), to(rgba(0, 0, 0, 0)));\\n    background-image: -webkit-linear-gradient(top, rgba(0, 0, 0, 0.5), rgba(0, 0, 0, 0));\\n    background-image: -o-linear-gradient(top, rgba(0, 0, 0, 0.5), rgba(0, 0, 0, 0));\\n    background-image: linear-gradient(to bottom, rgba(0, 0, 0, 0.5), rgba(0, 0, 0, 0));\\n}\\n\\n.swiper-container-wp8-horizontal,\\n.swiper-container-wp8-horizontal>.swiper-wrapper {\\n    -ms-touch-action: pan-y;\\n    touch-action: pan-y;\\n}\\n\\n.swiper-container-wp8-vertical,\\n.swiper-container-wp8-vertical>.swiper-wrapper {\\n    -ms-touch-action: pan-x;\\n    touch-action: pan-x;\\n}\\n\\n.swiper-container-coverflow .swiper-wrapper {\\n    -ms-perspective: 1200px;\\n}\\n\\n.swiper-scrollbar {\\n    border-radius: 10px;\\n    position: relative;\\n    -ms-touch-action: none;\\n    background: rgba(0, 0, 0, 0.1);\\n}\\n\\n.swiper-container-horizontal>.swiper-scrollbar {\\n    position: absolute;\\n    left: 1%;\\n    bottom: 3px;\\n    z-index: 50;\\n    height: 5px;\\n    width: 98%;\\n}\\n\\n.swiper-container-vertical>.swiper-scrollbar {\\n    position: absolute;\\n    right: 3px;\\n    top: 1%;\\n    z-index: 50;\\n    width: 5px;\\n    height: 98%;\\n}\\n\\n.swiper-scrollbar-drag {\\n    height: 100%;\\n    width: 100%;\\n    position: relative;\\n    background: rgba(0, 0, 0, 0.5);\\n    border-radius: 10px;\\n    left: 0;\\n    top: 0;\\n}\\n\\n.swiper-scrollbar-cursor-drag {\\n    cursor: move;\\n}\\n\\n.swiper-scrollbar-lock {\\n    display: none;\\n}\\n\\nbutton.swiper-pagination-bullet {\\n    border: none;\\n    margin: 0;\\n    padding: 0;\\n    -webkit-box-shadow: none;\\n    box-shadow: none;\\n    -webkit-appearance: none;\\n    -moz-appearance: none;\\n    appearance: none;\\n}\\n\\n.swiper-pagination.swiper-pagination-hidden {\\n    opacity: 0;\\n}\\n\\n.swiper-pagination-clickable .swiper-pagination-bullet {\\n    cursor: pointer;\\n}\\n\\n.swiper-pagination {\\n    position: relative;\\n    width: 100%;\\n    margin: 26px 0 0;\\n    font-size: 0;\\n    line-height: 0;\\n    text-align: center;\\n    -webkit-transition: 300ms opacity;\\n    -o-transition: 300ms opacity;\\n    transition: 300ms opacity;\\n    -webkit-transform: translate3d(0, 0, 0);\\n    transform: translate3d(0, 0, 0);\\n    z-index: 10;\\n}\\n\\n.swiper-pagination-bullet {\\n    width: 12px;\\n    height: 12px;\\n    margin: 0 4px;\\n    display: inline-block;\\n    border-radius: 100%;\\n    background: #ECECEC;\\n    outline: none;\\n    -webkit-transition: 0.2s cubic-bezier(0.175, 0.885, 0.32, 1.275);\\n    -o-transition: 0.2s cubic-bezier(0.175, 0.885, 0.32, 1.275);\\n    transition: 0.2s cubic-bezier(0.175, 0.885, 0.32, 1.275);\\n}\\n\\n.swiper-pagination-bullet-active {\\n    width: 40px;\\n    background: #18C62C;\\n    border-radius: 30px;\\n}\\n\\n.swiper-button-prev,\\n.swiper-button-next {\\n    width: 45px;\\n    height: 45px;\\n    background: url(\"https://hhcdn.ru/ichameleon/170948.jpg\") no-repeat;\\n    background-size: cover;\\n    -webkit-box-shadow: 0px 0px 21px rgba(0, 219, 0, 0.33);\\n    box-shadow: 0px 0px 21px rgba(0, 219, 0, 0.33);\\n    border-radius: 50%;\\n    overflow: hidden;\\n    z-index: 20;\\n    outline: none;\\n    cursor: pointer;\\n}\\n\\n.swiper-button-next {\\n    -webkit-transform: rotate(180deg);\\n    -ms-transform: rotate(180deg);\\n    transform: rotate(180deg);\\n}\\n\\n.swiper-slide {\\n    border-radius: 24px;\\n    overflow: hidden;\\n}\\n\\n.swiper-slide img {\\n    opacity: 0 !important;\\n    -webkit-transition: opacity 0.1s ease;\\n    -o-transition: opacity 0.1s ease;\\n    transition: opacity 0.1s ease;\\n}\\n\\n.swiper-slide-prev {\\n    z-index: 10 !important;\\n}\\n\\n.swiper-slide-next {\\n    background: #C4C4C4;\\n}\\n\\n.swiper-slide-next img {\\n    opacity: 0.63 !important;\\n}\\n\\n.swiper-slide-active {\\n    background: #C4C4C4;\\n}\\n\\n.swiper-slide-active img {\\n    opacity: 1 !important;\\n}\\n\\n.swiper-slide-next+.swiper-slide {\\n    background: #C4C4C4;\\n}\\n\\n.swiper-slide-next+.swiper-slide img {\\n    opacity: 0.34 !important;\\n}\\n\\n.tmpl_hh_wrapper p,\\n.tmpl_hh_wrapper a,\\n.tmpl_hh_wrapper img,\\n.tmpl_hh_wrapper ol,\\n.tmpl_hh_wrapper ul,\\n.tmpl_hh_wrapper li {\\n    margin: 0;\\n    padding: 0;\\n    border: 0;\\n    font-size: 100%;\\n    font: inherit;\\n    vertical-align: baseline;\\n}\\n\\n.tmpl_hh_video {\\n    position: relative;\\n}\\n\\n.tmpl_hh_video iframe {\\n    position: absolute;\\n    top: 0;\\n    left: 0;\\n    width: 100%;\\n    height: 100%;\\n}\\n\\n.tmpl_hh_wrapper p {\\n    width: auto;\\n    max-width: 100%;\\n}\\n\\n.tmpl_hh_wrapper img {\\n    display: block;\\n    width: 100%;\\n}\\n\\n.hht-vacancydescription {\\n    padding: 0px;\\n}\\n\\n.tmpl_hh_wrapper .l-cell,\\n.tmpl_hh_wrapper .l-paddings {\\n    padding: 0px !important;\\n}\\n\\n.tmpl_hh_wrapper .b-vacancy-desc-wrapper {\\n    margin-top: 0px !important;\\n}\\n\\n.tmpl_hh_wrapper .b-vacancy-desc {\\n    overflow: visible !important;\\n    line-height: inherit;\\n}\\n\\n.tmpl_hh_content ol li b,\\n.tmpl_hh_content ol li strong,\\n.tmpl_hh_content ol li p b,\\n.tmpl_hh_content ol li p strong,\\n.tmpl_hh_content ul li b,\\n.tmpl_hh_content ul li strong,\\n.tmpl_hh_content ul li p b,\\n.tmpl_hh_content ul li p strong {\\n    font-weight: normal;\\n    font-size: inherit !important;\\n    color: inherit !important;\\n    margin: 0 !important;\\n    text-transform: none;\\n}\\n\\n.tmpl_hh_content ol li p,\\n.tmpl_hh_content ul li p {\\n    font-weight: normal;\\n    margin: 0;\\n}\\n\\n.tmpl_hh_content p b,\\n.tmpl_hh_content p strong {\\n    display: inline;\\n    margin: 0;\\n}\\n\\n.tmpl_hh_wrapper {\\n    width: 100%;\\n    margin: 0 auto;\\n    max-width: 690px;\\n    padding-bottom: 48px;\\n    position: relative;\\n    word-break: normal;\\n    font-family: \\'Arial\\';\\n    color: #333F48;\\n    font-size: 16px;\\n    line-height: 22px;\\n    letter-spacing: 0.03em;\\n    overflow: hidden;\\n}\\n\\n.tmpl_hh_banner {\\n    margin: 16px;\\n}\\n\\n.tmpl_hh_banner img {\\n    border-radius: 24px;\\n}\\n\\n.tmpl_hh_inner_wrapper {\\n    padding: 0 6.9%;\\n}\\n\\n.tmpl_hh_content {\\n    margin-top: 34px;\\n}\\n\\n.tmpl_hh_content p:first-child,\\n.tmpl_hh_content>strong:first-child,\\n.tmpl_hh_content div>strong:first-child {\\n    margin-top: 0 !important;\\n}\\n\\n.tmpl_hh_content p,\\n.tmpl_hh_content b,\\n.tmpl_hh_content strong {\\n    margin: 24px 0 20px;\\n}\\n\\np.tmpl_hh_title,\\n.tmpl_hh_content b,\\n.tmpl_hh_content strong {\\n    display: inline-block;\\n    font-weight: normal;\\n    font-size: 32px;\\n    line-height: 1.28;\\n    letter-spacing: 0;\\n}\\n\\n.tmpl_hh_content ol,\\n.tmpl_hh_content ul {\\n    margin-left: 15px;\\n    list-style: none !important;\\n}\\n\\n.tmpl_hh_content ol {\\n    counter-reset: list_counter;\\n}\\n\\n.tmpl_hh_content li {\\n    position: relative;\\n    margin-bottom: 8px;\\n}\\n\\n.tmpl_hh_content ul ul,\\n.tmpl_hh_content ul ol,\\n.tmpl_hh_content ol ol,\\n.tmpl_hh_content ol ul {\\n    margin-top: 8px;\\n    margin-bottom: 8px;\\n}\\n\\n.tmpl_hh_content ol>li {\\n    counter-increment: list_counter;\\n}\\n\\n.tmpl_hh_content li:before {\\n    content: \\'\\';\\n    position: absolute;\\n    left: -18px;\\n    top: 0;\\n}\\n\\n.tmpl_hh_content ul>li:before {\\n    content: \\'\\\\2022\\';\\n    font-size: 18px;\\n}\\n\\n.tmpl_hh_content ol>li:before {\\n    content: counter(list_counter) \".\";\\n    left: auto;\\n    right: 100%;\\n    margin-right: 2px;\\n}\\n\\n.tmpl_hh_atmosphere {\\n    margin-top: 52px;\\n}\\n\\n.tmpl_hh_atmosphere .tmpl_hh_title {\\n    margin-bottom: 36px;\\n}\\n\\n.tmpl_hh_atmosphere__slider {\\n    position: relative;\\n    left: -10px;\\n    width: 96.5%;\\n}\\n\\n.tmpl_hh_atmosphere .tmpl_hh_control {\\n    position: absolute;\\n    top: 39.3%;\\n    left: 53.1%;\\n    display: -webkit-box;\\n    display: -ms-flexbox;\\n    display: flex;\\n    -webkit-box-pack: justify;\\n    -ms-flex-pack: justify;\\n    justify-content: space-between;\\n    width: 96.5%;\\n    -webkit-transform: translateX(-50%);\\n    -ms-transform: translateX(-50%);\\n    transform: translateX(-50%);\\n    z-index: 50;\\n}\\n\\n.tmpl_hh_conditions {\\n    margin-top: 48px;\\n}\\n\\n.tmpl_hh_conditions .tmpl_hh_title {\\n    margin-bottom: 45px;\\n}\\n\\n.tmpl_hh_conditions__container {\\n    display: -webkit-box;\\n    display: -ms-flexbox;\\n    display: flex;\\n    -ms-flex-wrap: wrap;\\n    flex-wrap: wrap;\\n    -webkit-box-pack: justify;\\n    -ms-flex-pack: justify;\\n    justify-content: space-between;\\n}\\n\\n.tmpl_hh_conditions__container .tmpl_hh_item {\\n    display: -webkit-box;\\n    display: -ms-flexbox;\\n    display: flex;\\n    align-items: flex-start;\\n    width: 46%;\\n    margin-bottom: 20px;\\n}\\n\\n.tmpl_hh_conditions__container .tmpl_hh_item__icon {\\n    -ms-flex-negative: 0;\\n    flex-shrink: 0;\\n    width: 40px;\\n    margin-right: 15px;\\n}\\n\\n.tmpl_hh_conditions__container .tmpl_hh_item p {\\n    letter-spacing: 0;\\n    font-size: 14px;\\nline-height: 16px;\\ncolor: #333F48;\\n}\\n\\n.tmpl_hh_making_better .tmpl_hh_title {\\n    margin-bottom: 32px;\\n}\\n\\n.tmpl_hh_making_better .tmpl_hh_video {\\n    width: 100%;\\n    padding-bottom: 56.6%;\\n    border-radius: 24px;\\n    overflow: hidden;\\n}\\n\\n.tmpl_hh_banner {\\n    position: relative;\\n}\\n\\nimg.tmpl_hh_logo {\\n    position: absolute;\\n    top: 0%;\\n    left: 0%;\\n    width: 28.7%;\\n}\\n\\n\\n@media screen and (max-width: 1019px) {\\n\\n    .tmpl_hh_atmosphere__slider {\\n        left: 0;\\n        width: 100%;\\n        max-width: 450px;\\n        margin: 0 auto;\\n    }\\n\\n    .tmpl_hh_atmosphere__slider .swiper-slide {\\n        border-radius: 14px;\\n    }\\n\\n    .tmpl_hh_atmosphere__slider .swiper-pagination {\\n        margin-top: 24px;\\n    }\\n\\n    .tmpl_hh_atmosphere__slider .tmpl_hh_control {\\n        display: none;\\n    }\\n}\\n\\n@media screen and (max-width: 699px) {\\n    .tmpl_hh_wrapper {\\n        font-size: 14px;\\n        line-height: 20px;\\n    }\\n\\n    .tmpl_hh_inner_wrapper {\\n        padding: 0 8%;\\n    }\\n\\n    .tmpl_hh_banner {\\n        margin: 0;\\n    }\\n\\n    .tmpl_hh_banner img {\\n        border-radius: 14px;\\n    }\\n\\n    .tmpl_hh_content {\\n        margin-top: 33px;\\n    }\\n\\n    p.tmpl_hh_title,\\n    .tmpl_hh_content b,\\n    .tmpl_hh_content strong {\\n        font-size: 24px;\\n        line-height: 34px;\\n    }\\n\\n    .tmpl_hh_content li:before {\\n        left: -16px;\\n    }\\n\\n    .tmpl_hh_atmosphere {\\n        margin-top: 33px;\\n    }\\n\\n    .tmpl_hh_atmosphere .tmpl_hh_title {\\n        margin-bottom: 23px;\\n    }\\n\\n    .tmpl_hh_conditions {\\n        margin-top: 32px;\\n    }\\n\\n    .tmpl_hh_conditions .tmpl_hh_title {\\n        margin-bottom: 25px;\\n    }\\n\\n    .tmpl_hh_conditions__container .tmpl_hh_item {\\n        width: 300px;\\n        margin-bottom: 32px;\\n    }\\n\\n    .tmpl_hh_conditions__container .tmpl_hh_item__icon {\\n        margin-right: 24px;\\n    }\\n\\n    .tmpl_hh_conditions__container .tmpl_hh_item p {\\n        font-size: 16px;\\n        line-height: 22px;\\n    }\\n\\n    .tmpl_hh_making_better {\\n        margin-top: -1px;\\n    }\\n\\n    .tmpl_hh_making_better .tmpl_hh_title {\\n        margin-bottom: 24px;\\n    }\\n\\n    .tmpl_hh_making_better .tmpl_hh_video {\\n        position: relative;\\n        left: 50%;\\n        width: 100%;\\n        min-width: 300px;\\n        padding-bottom: 67.1%;\\n        -webkit-transform: translateX(-50%);\\n        -ms-transform: translateX(-50%);\\n        transform: translateX(-50%);\\n        border-radius: 14px;\\n    }\\n}\\n</style>\\n\\n<script>\\n//\\n// swiper\\n!function(e,t){\"object\"==typeof exports&&\"undefined\"!=typeof module?module.exports=t():\"function\"==typeof define&&define.amd?define(t):(e=e||self).Swiper=t()}(this,function(){\"use strict\";var f=\"undefined\"==typeof document?{body:{},addEventListener:function(){},removeEventListener:function(){},activeElement:{blur:function(){},nodeName:\"\"},querySelector:function(){return null},querySelectorAll:function(){return[]},getElementById:function(){return null},createEvent:function(){return{initEvent:function(){}}},createElement:function(){return{children:[],childNodes:[],style:{},setAttribute:function(){},getElementsByTagName:function(){return[]}}},location:{hash:\"\"}}:document,J=\"undefined\"==typeof window?{document:f,navigator:{userAgent:\"\"},location:{},history:{},CustomEvent:function(){return this},addEventListener:function(){},removeEventListener:function(){},getComputedStyle:function(){return{getPropertyValue:function(){return\"\"}}},Image:function(){},Date:function(){},screen:{},setTimeout:function(){},clearTimeout:function(){}}:window,l=function(e){for(var t=0;t<e.length;t+=1)this[t]=e[t];return this.length=e.length,this};function E(e,t){var i=[],s=0;if(e&&!t&&e instanceof l)return e;if(e)if(\"string\"==typeof e){var a,r,n=e.trim();if(0<=n.indexOf(\"<\")&&0<=n.indexOf(\">\")){var o=\"div\";for(0===n.indexOf(\"<li\")&&(o=\"ul\"),0===n.indexOf(\"<tr\")&&(o=\"tbody\"),0!==n.indexOf(\"<td\")&&0!==n.indexOf(\"<th\")||(o=\"tr\"),0===n.indexOf(\"<tbody\")&&(o=\"table\"),0===n.indexOf(\"<option\")&&(o=\"select\"),(r=f.createElement(o)).innerHTML=n,s=0;s<r.childNodes.length;s+=1)i.push(r.childNodes[s])}else for(a=t||\"#\"!==e[0]||e.match(/[ .<>:~]/)?(t||f).querySelectorAll(e.trim()):[f.getElementById(e.trim().split(\"#\")[1])],s=0;s<a.length;s+=1)a[s]&&i.push(a[s])}else if(e.nodeType||e===J||e===f)i.push(e);else if(0<e.length&&e[0].nodeType)for(s=0;s<e.length;s+=1)i.push(e[s]);return new l(i)}function r(e){for(var t=[],i=0;i<e.length;i+=1)-1===t.indexOf(e[i])&&t.push(e[i]);return t}E.fn=l.prototype,E.Class=l,E.Dom7=l;var t={addClass:function(e){if(void 0===e)return this;for(var t=e.split(\" \"),i=0;i<t.length;i+=1)for(var s=0;s<this.length;s+=1)void 0!==this[s]&&void 0!==this[s].classList&&this[s].classList.add(t[i]);return this},removeClass:function(e){for(var t=e.split(\" \"),i=0;i<t.length;i+=1)for(var s=0;s<this.length;s+=1)void 0!==this[s]&&void 0!==this[s].classList&&this[s].classList.remove(t[i]);return this},hasClass:function(e){return!!this[0]&&this[0].classList.contains(e)},toggleClass:function(e){for(var t=e.split(\" \"),i=0;i<t.length;i+=1)for(var s=0;s<this.length;s+=1)void 0!==this[s]&&void 0!==this[s].classList&&this[s].classList.toggle(t[i]);return this},attr:function(e,t){var i=arguments;if(1===arguments.length&&\"string\"==typeof e)return this[0]?this[0].getAttribute(e):void 0;for(var s=0;s<this.length;s+=1)if(2===i.length)this[s].setAttribute(e,t);else for(var a in e)this[s][a]=e[a],this[s].setAttribute(a,e[a]);return this},removeAttr:function(e){for(var t=0;t<this.length;t+=1)this[t].removeAttribute(e);return this},data:function(e,t){var i;if(void 0!==t){for(var s=0;s<this.length;s+=1)(i=this[s]).dom7ElementDataStorage||(i.dom7ElementDataStorage={}),i.dom7ElementDataStorage[e]=t;return this}if(i=this[0]){if(i.dom7ElementDataStorage&&e in i.dom7ElementDataStorage)return i.dom7ElementDataStorage[e];var a=i.getAttribute(\"data-\"+e);return a||void 0}},transform:function(e){for(var t=0;t<this.length;t+=1){var i=this[t].style;i.webkitTransform=e,i.transform=e}return this},transition:function(e){\"string\"!=typeof e&&(e+=\"ms\");for(var t=0;t<this.length;t+=1){var i=this[t].style;i.webkitTransitionDuration=e,i.transitionDuration=e}return this},on:function(){for(var e,t=[],i=arguments.length;i--;)t[i]=arguments[i];var s=t[0],r=t[1],n=t[2],a=t[3];function o(e){var t=e.target;if(t){var i=e.target.dom7EventData||[];if(i.indexOf(e)<0&&i.unshift(e),E(t).is(r))n.apply(t,i);else for(var s=E(t).parents(),a=0;a<s.length;a+=1)E(s[a]).is(r)&&n.apply(s[a],i)}}function l(e){var t=e&&e.target&&e.target.dom7EventData||[];t.indexOf(e)<0&&t.unshift(e),n.apply(this,t)}\"function\"==typeof t[1]&&(s=(e=t)[0],n=e[1],a=e[2],r=void 0),a=a||!1;for(var d,p=s.split(\" \"),u=0;u<this.length;u+=1){var c=this[u];if(r)for(d=0;d<p.length;d+=1){var h=p[d];c.dom7LiveListeners||(c.dom7LiveListeners={}),c.dom7LiveListeners[h]||(c.dom7LiveListeners[h]=[]),c.dom7LiveListeners[h].push({listener:n,proxyListener:o}),c.addEventListener(h,o,a)}else for(d=0;d<p.length;d+=1){var v=p[d];c.dom7Listeners||(c.dom7Listeners={}),c.dom7Listeners[v]||(c.dom7Listeners[v]=[]),c.dom7Listeners[v].push({listener:n,proxyListener:l}),c.addEventListener(v,l,a)}}return this},off:function(){for(var e,t=[],i=arguments.length;i--;)t[i]=arguments[i];var s=t[0],a=t[1],r=t[2],n=t[3];\"function\"==typeof t[1]&&(s=(e=t)[0],r=e[1],n=e[2],a=void 0),n=n||!1;for(var o=s.split(\" \"),l=0;l<o.length;l+=1)for(var d=o[l],p=0;p<this.length;p+=1){var u=this[p],c=void 0;if(!a&&u.dom7Listeners?c=u.dom7Listeners[d]:a&&u.dom7LiveListeners&&(c=u.dom7LiveListeners[d]),c&&c.length)for(var h=c.length-1;0<=h;h-=1){var v=c[h];r&&v.listener===r?(u.removeEventListener(d,v.proxyListener,n),c.splice(h,1)):r&&v.listener&&v.listener.dom7proxy&&v.listener.dom7proxy===r?(u.removeEventListener(d,v.proxyListener,n),c.splice(h,1)):r||(u.removeEventListener(d,v.proxyListener,n),c.splice(h,1))}}return this},trigger:function(){for(var e=[],t=arguments.length;t--;)e[t]=arguments[t];for(var i=e[0].split(\" \"),s=e[1],a=0;a<i.length;a+=1)for(var r=i[a],n=0;n<this.length;n+=1){var o=this[n],l=void 0;try{l=new J.CustomEvent(r,{detail:s,bubbles:!0,cancelable:!0})}catch(e){(l=f.createEvent(\"Event\")).initEvent(r,!0,!0),l.detail=s}o.dom7EventData=e.filter(function(e,t){return 0<t}),o.dispatchEvent(l),o.dom7EventData=[],delete o.dom7EventData}return this},transitionEnd:function(t){var i,s=[\"webkitTransitionEnd\",\"transitionend\"],a=this;function r(e){if(e.target===this)for(t.call(this,e),i=0;i<s.length;i+=1)a.off(s[i],r)}if(t)for(i=0;i<s.length;i+=1)a.on(s[i],r);return this},outerWidth:function(e){if(0<this.length){if(e){var t=this.styles();return this[0].offsetWidth+parseFloat(t.getPropertyValue(\"margin-right\"))+parseFloat(t.getPropertyValue(\"margin-left\"))}return this[0].offsetWidth}return null},outerHeight:function(e){if(0<this.length){if(e){var t=this.styles();return this[0].offsetHeight+parseFloat(t.getPropertyValue(\"margin-top\"))+parseFloat(t.getPropertyValue(\"margin-bottom\"))}return this[0].offsetHeight}return null},offset:function(){if(0<this.length){var e=this[0],t=e.getBoundingClientRect(),i=f.body,s=e.clientTop||i.clientTop||0,a=e.clientLeft||i.clientLeft||0,r=e===J?J.scrollY:e.scrollTop,n=e===J?J.scrollX:e.scrollLeft;return{top:t.top+r-s,left:t.left+n-a}}return null},css:function(e,t){var i;if(1===arguments.length){if(\"string\"!=typeof e){for(i=0;i<this.length;i+=1)for(var s in e)this[i].style[s]=e[s];return this}if(this[0])return J.getComputedStyle(this[0],null).getPropertyValue(e)}if(2!==arguments.length||\"string\"!=typeof e)return this;for(i=0;i<this.length;i+=1)this[i].style[e]=t;return this},each:function(e){if(!e)return this;for(var t=0;t<this.length;t+=1)if(!1===e.call(this[t],t,this[t]))return this;return this},html:function(e){if(void 0===e)return this[0]?this[0].innerHTML:void 0;for(var t=0;t<this.length;t+=1)this[t].innerHTML=e;return this},text:function(e){if(void 0===e)return this[0]?this[0].textContent.trim():null;for(var t=0;t<this.length;t+=1)this[t].textContent=e;return this},is:function(e){var t,i,s=this[0];if(!s||void 0===e)return!1;if(\"string\"==typeof e){if(s.matches)return s.matches(e);if(s.webkitMatchesSelector)return s.webkitMatchesSelector(e);if(s.msMatchesSelector)return s.msMatchesSelector(e);for(t=E(e),i=0;i<t.length;i+=1)if(t[i]===s)return!0;return!1}if(e===f)return s===f;if(e===J)return s===J;if(e.nodeType||e instanceof l){for(t=e.nodeType?[e]:e,i=0;i<t.length;i+=1)if(t[i]===s)return!0;return!1}return!1},index:function(){var e,t=this[0];if(t){for(e=0;null!==(t=t.previousSibling);)1===t.nodeType&&(e+=1);return e}},eq:function(e){if(void 0===e)return this;var t,i=this.length;return new l(i-1<e?[]:e<0?(t=i+e)<0?[]:[this[t]]:[this[e]])},append:function(){for(var e,t=[],i=arguments.length;i--;)t[i]=arguments[i];for(var s=0;s<t.length;s+=1){e=t[s];for(var a=0;a<this.length;a+=1)if(\"string\"==typeof e){var r=f.createElement(\"div\");for(r.innerHTML=e;r.firstChild;)this[a].appendChild(r.firstChild)}else if(e instanceof l)for(var n=0;n<e.length;n+=1)this[a].appendChild(e[n]);else this[a].appendChild(e)}return this},prepend:function(e){var t,i;for(t=0;t<this.length;t+=1)if(\"string\"==typeof e){var s=f.createElement(\"div\");for(s.innerHTML=e,i=s.childNodes.length-1;0<=i;i-=1)this[t].insertBefore(s.childNodes[i],this[t].childNodes[0])}else if(e instanceof l)for(i=0;i<e.length;i+=1)this[t].insertBefore(e[i],this[t].childNodes[0]);else this[t].insertBefore(e,this[t].childNodes[0]);return this},next:function(e){return 0<this.length?e?this[0].nextElementSibling&&E(this[0].nextElementSibling).is(e)?new l([this[0].nextElementSibling]):new l([]):this[0].nextElementSibling?new l([this[0].nextElementSibling]):new l([]):new l([])},nextAll:function(e){var t=[],i=this[0];if(!i)return new l([]);for(;i.nextElementSibling;){var s=i.nextElementSibling;e?E(s).is(e)&&t.push(s):t.push(s),i=s}return new l(t)},prev:function(e){if(0<this.length){var t=this[0];return e?t.previousElementSibling&&E(t.previousElementSibling).is(e)?new l([t.previousElementSibling]):new l([]):t.previousElementSibling?new l([t.previousElementSibling]):new l([])}return new l([])},prevAll:function(e){var t=[],i=this[0];if(!i)return new l([]);for(;i.previousElementSibling;){var s=i.previousElementSibling;e?E(s).is(e)&&t.push(s):t.push(s),i=s}return new l(t)},parent:function(e){for(var t=[],i=0;i<this.length;i+=1)null!==this[i].parentNode&&(e?E(this[i].parentNode).is(e)&&t.push(this[i].parentNode):t.push(this[i].parentNode));return E(r(t))},parents:function(e){for(var t=[],i=0;i<this.length;i+=1)for(var s=this[i].parentNode;s;)e?E(s).is(e)&&t.push(s):t.push(s),s=s.parentNode;return E(r(t))},closest:function(e){var t=this;return void 0===e?new l([]):(t.is(e)||(t=t.parents(e).eq(0)),t)},find:function(e){for(var t=[],i=0;i<this.length;i+=1)for(var s=this[i].querySelectorAll(e),a=0;a<s.length;a+=1)t.push(s[a]);return new l(t)},children:function(e){for(var t=[],i=0;i<this.length;i+=1)for(var s=this[i].childNodes,a=0;a<s.length;a+=1)e?1===s[a].nodeType&&E(s[a]).is(e)&&t.push(s[a]):1===s[a].nodeType&&t.push(s[a]);return new l(r(t))},remove:function(){for(var e=0;e<this.length;e+=1)this[e].parentNode&&this[e].parentNode.removeChild(this[e]);return this},add:function(){for(var e=[],t=arguments.length;t--;)e[t]=arguments[t];var i,s;for(i=0;i<e.length;i+=1){var a=E(e[i]);for(s=0;s<a.length;s+=1)this[this.length]=a[s],this.length+=1}return this},styles:function(){return this[0]?J.getComputedStyle(this[0],null):{}}};Object.keys(t).forEach(function(e){E.fn[e]=E.fn[e]||t[e]});function e(e){void 0===e&&(e={});var t=this;t.params=e,t.eventsListeners={},t.params&&t.params.on&&Object.keys(t.params.on).forEach(function(e){t.on(e,t.params.on[e])})}var i,s,a,n,ee={deleteProps:function(e){var t=e;Object.keys(t).forEach(function(e){try{t[e]=null}catch(e){}try{delete t[e]}catch(e){}})},nextTick:function(e,t){return void 0===t&&(t=0),setTimeout(e,t)},now:function(){return Date.now()},getTranslate:function(e,t){var i,s,a;void 0===t&&(t=\"x\");var r=J.getComputedStyle(e,null);return J.WebKitCSSMatrix?(6<(s=r.transform||r.webkitTransform).split(\",\").length&&(s=s.split(\", \").map(function(e){return e.replace(\",\",\".\")}).join(\", \")),a=new J.WebKitCSSMatrix(\"none\"===s?\"\":s)):i=(a=r.MozTransform||r.OTransform||r.MsTransform||r.msTransform||r.transform||r.getPropertyValue(\"transform\").replace(\"translate(\",\"matrix(1, 0, 0, 1,\")).toString().split(\",\"),\"x\"===t&&(s=J.WebKitCSSMatrix?a.m41:16===i.length?parseFloat(i[12]):parseFloat(i[4])),\"y\"===t&&(s=J.WebKitCSSMatrix?a.m42:16===i.length?parseFloat(i[13]):parseFloat(i[5])),s||0},parseUrlQuery:function(e){var t,i,s,a,r={},n=e||J.location.href;if(\"string\"==typeof n&&n.length)for(a=(i=(n=-1<n.indexOf(\"?\")?n.replace(/\\\\S*\\\\?/,\"\"):\"\").split(\"&\").filter(function(e){return\"\"!==e})).length,t=0;t<a;t+=1)s=i[t].replace(/#\\\\S+/g,\"\").split(\"=\"),r[decodeURIComponent(s[0])]=void 0===s[1]?void 0:decodeURIComponent(s[1])||\"\";return r},isObject:function(e){return\"object\"==typeof e&&null!==e&&e.constructor&&e.constructor===Object},extend:function(){for(var e=[],t=arguments.length;t--;)e[t]=arguments[t];for(var i=Object(e[0]),s=1;s<e.length;s+=1){var a=e[s];if(null!=a)for(var r=Object.keys(Object(a)),n=0,o=r.length;n<o;n+=1){var l=r[n],d=Object.getOwnPropertyDescriptor(a,l);void 0!==d&&d.enumerable&&(ee.isObject(i[l])&&ee.isObject(a[l])?ee.extend(i[l],a[l]):!ee.isObject(i[l])&&ee.isObject(a[l])?(i[l]={},ee.extend(i[l],a[l])):i[l]=a[l])}}return i}},te=(a=f.createElement(\"div\"),{touch:J.Modernizr&&!0===J.Modernizr.touch||!!(0<J.navigator.maxTouchPoints||\"ontouchstart\"in J||J.DocumentTouch&&f instanceof J.DocumentTouch),pointerEvents:!!(J.navigator.pointerEnabled||J.PointerEvent||\"maxTouchPoints\"in J.navigator&&0<J.navigator.maxTouchPoints),prefixedPointerEvents:!!J.navigator.msPointerEnabled,transition:(s=a.style,\"transition\"in s||\"webkitTransition\"in s||\"MozTransition\"in s),transforms3d:J.Modernizr&&!0===J.Modernizr.csstransforms3d||(i=a.style,\"webkitPerspective\"in i||\"MozPerspective\"in i||\"OPerspective\"in i||\"MsPerspective\"in i||\"perspective\"in i),flexbox:function(){for(var e=a.style,t=\"alignItems webkitAlignItems webkitBoxAlign msFlexAlign mozBoxAlign webkitFlexDirection msFlexDirection mozBoxDirection mozBoxOrient webkitBoxDirection webkitBoxOrient\".split(\" \"),i=0;i<t.length;i+=1)if(t[i]in e)return!0;return!1}(),observer:\"MutationObserver\"in J||\"WebkitMutationObserver\"in J,passiveListener:function(){var e=!1;try{var t=Object.defineProperty({},\"passive\",{get:function(){e=!0}});J.addEventListener(\"testPassiveListener\",null,t)}catch(e){}return e}(),gestures:\"ongesturestart\"in J}),o={isIE:!!J.navigator.userAgent.match(/Trident/g)||!!J.navigator.userAgent.match(/MSIE/g),isEdge:!!J.navigator.userAgent.match(/Edge/g),isSafari:(n=J.navigator.userAgent.toLowerCase(),0<=n.indexOf(\"safari\")&&n.indexOf(\"chrome\")<0&&n.indexOf(\"android\")<0),isUiWebView:/(iPhone|iPod|iPad).*AppleWebKit(?!.*Safari)/i.test(J.navigator.userAgent)},d={components:{configurable:!0}};e.prototype.on=function(e,t,i){var s=this;if(\"function\"!=typeof t)return s;var a=i?\"unshift\":\"push\";return e.split(\" \").forEach(function(e){s.eventsListeners[e]||(s.eventsListeners[e]=[]),s.eventsListeners[e][a](t)}),s},e.prototype.once=function(i,s,e){var a=this;if(\"function\"!=typeof s)return a;function r(){for(var e=[],t=arguments.length;t--;)e[t]=arguments[t];s.apply(a,e),a.off(i,r),r.f7proxy&&delete r.f7proxy}return r.f7proxy=s,a.on(i,r,e)},e.prototype.off=function(e,s){var a=this;return a.eventsListeners&&e.split(\" \").forEach(function(i){void 0===s?a.eventsListeners[i]=[]:a.eventsListeners[i]&&a.eventsListeners[i].length&&a.eventsListeners[i].forEach(function(e,t){(e===s||e.f7proxy&&e.f7proxy===s)&&a.eventsListeners[i].splice(t,1)})}),a},e.prototype.emit=function(){for(var e=[],t=arguments.length;t--;)e[t]=arguments[t];var i,s,a,r=this;return r.eventsListeners&&(a=\"string\"==typeof e[0]||Array.isArray(e[0])?(i=e[0],s=e.slice(1,e.length),r):(i=e[0].events,s=e[0].data,e[0].context||r),(Array.isArray(i)?i:i.split(\" \")).forEach(function(e){if(r.eventsListeners&&r.eventsListeners[e]){var t=[];r.eventsListeners[e].forEach(function(e){t.push(e)}),t.forEach(function(e){e.apply(a,s)})}})),r},e.prototype.useModulesParams=function(i){var s=this;s.modules&&Object.keys(s.modules).forEach(function(e){var t=s.modules[e];t.params&&ee.extend(i,t.params)})},e.prototype.useModules=function(s){void 0===s&&(s={});var a=this;a.modules&&Object.keys(a.modules).forEach(function(e){var i=a.modules[e],t=s[e]||{};i.instance&&Object.keys(i.instance).forEach(function(e){var t=i.instance[e];a[e]=\"function\"==typeof t?t.bind(a):t}),i.on&&a.on&&Object.keys(i.on).forEach(function(e){a.on(e,i.on[e])}),i.create&&i.create.bind(a)(t)})},d.components.set=function(e){this.use&&this.use(e)},e.installModule=function(t){for(var e=[],i=arguments.length-1;0<i--;)e[i]=arguments[i+1];var s=this;s.prototype.modules||(s.prototype.modules={});var a=t.name||Object.keys(s.prototype.modules).length+\"_\"+ee.now();return(s.prototype.modules[a]=t).proto&&Object.keys(t.proto).forEach(function(e){s.prototype[e]=t.proto[e]}),t.static&&Object.keys(t.static).forEach(function(e){s[e]=t.static[e]}),t.install&&t.install.apply(s,e),s},e.use=function(e){for(var t=[],i=arguments.length-1;0<i--;)t[i]=arguments[i+1];var s=this;return Array.isArray(e)?(e.forEach(function(e){return s.installModule(e)}),s):s.installModule.apply(s,[e].concat(t))},Object.defineProperties(e,d);var p={updateSize:function(){var e,t,i=this,s=i.$el;e=void 0!==i.params.width?i.params.width:s[0].clientWidth,t=void 0!==i.params.height?i.params.height:s[0].clientHeight,0===e&&i.isHorizontal()||0===t&&i.isVertical()||(e=e-parseInt(s.css(\"padding-left\"),10)-parseInt(s.css(\"padding-right\"),10),t=t-parseInt(s.css(\"padding-top\"),10)-parseInt(s.css(\"padding-bottom\"),10),ee.extend(i,{width:e,height:t,size:i.isHorizontal()?e:t}))},updateSlides:function(){var e=this,t=e.params,i=e.$wrapperEl,s=e.size,a=e.rtlTranslate,r=e.wrongRTL,n=e.virtual&&t.virtual.enabled,o=n?e.virtual.slides.length:e.slides.length,l=i.children(\".\"+e.params.slideClass),d=n?e.virtual.slides.length:l.length,p=[],u=[],c=[],h=t.slidesOffsetBefore;\"function\"==typeof h&&(h=t.slidesOffsetBefore.call(e));var v=t.slidesOffsetAfter;\"function\"==typeof v&&(v=t.slidesOffsetAfter.call(e));var f=e.snapGrid.length,m=e.snapGrid.length,g=t.spaceBetween,b=-h,w=0,T=0;if(void 0!==s){var x,C;\"string\"==typeof g&&0<=g.indexOf(\"%\")&&(g=parseFloat(g.replace(\"%\",\"\"))/100*s),e.virtualSize=-g,a?l.css({marginLeft:\"\",marginTop:\"\"}):l.css({marginRight:\"\",marginBottom:\"\"}),1<t.slidesPerColumn&&(x=Math.floor(d/t.slidesPerColumn)===d/e.params.slidesPerColumn?d:Math.ceil(d/t.slidesPerColumn)*t.slidesPerColumn,\"auto\"!==t.slidesPerView&&\"row\"===t.slidesPerColumnFill&&(x=Math.max(x,t.slidesPerView*t.slidesPerColumn)));for(var y,S=t.slidesPerColumn,E=x/S,M=Math.floor(d/t.slidesPerColumn),P=0;P<d;P+=1){C=0;var k=l.eq(P);if(1<t.slidesPerColumn){var L=void 0,D=void 0,z=void 0;\"column\"===t.slidesPerColumnFill?(z=P-(D=Math.floor(P/S))*S,(M<D||D===M&&z===S-1)&&S<=(z+=1)&&(z=0,D+=1),L=D+z*x/S,k.css({\"-webkit-box-ordinal-group\":L,\"-moz-box-ordinal-group\":L,\"-ms-flex-order\":L,\"-webkit-order\":L,order:L})):D=P-(z=Math.floor(P/E))*E,k.css(\"margin-\"+(e.isHorizontal()?\"top\":\"left\"),0!==z&&t.spaceBetween&&t.spaceBetween+\"px\").attr(\"data-swiper-column\",D).attr(\"data-swiper-row\",z)}if(\"none\"!==k.css(\"display\")){if(\"auto\"===t.slidesPerView){var I=J.getComputedStyle(k[0],null),O=k[0].style.transform,A=k[0].style.webkitTransform;if(O&&(k[0].style.transform=\"none\"),A&&(k[0].style.webkitTransform=\"none\"),t.roundLengths)C=e.isHorizontal()?k.outerWidth(!0):k.outerHeight(!0);else if(e.isHorizontal()){var $=parseFloat(I.getPropertyValue(\"width\")),B=parseFloat(I.getPropertyValue(\"padding-left\")),V=parseFloat(I.getPropertyValue(\"padding-right\")),N=parseFloat(I.getPropertyValue(\"margin-left\")),H=parseFloat(I.getPropertyValue(\"margin-right\")),G=I.getPropertyValue(\"box-sizing\");C=G&&\"border-box\"===G?$+N+H:$+B+V+N+H}else{var F=parseFloat(I.getPropertyValue(\"height\")),q=parseFloat(I.getPropertyValue(\"padding-top\")),X=parseFloat(I.getPropertyValue(\"padding-bottom\")),j=parseFloat(I.getPropertyValue(\"margin-top\")),Y=parseFloat(I.getPropertyValue(\"margin-bottom\")),R=I.getPropertyValue(\"box-sizing\");C=R&&\"border-box\"===R?F+j+Y:F+q+X+j+Y}O&&(k[0].style.transform=O),A&&(k[0].style.webkitTransform=A),t.roundLengths&&(C=Math.floor(C))}else C=(s-(t.slidesPerView-1)*g)/t.slidesPerView,t.roundLengths&&(C=Math.floor(C)),l[P]&&(e.isHorizontal()?l[P].style.width=C+\"px\":l[P].style.height=C+\"px\");l[P]&&(l[P].swiperSlideSize=C),c.push(C),t.centeredSlides?(b=b+C/2+w/2+g,0===w&&0!==P&&(b=b-s/2-g),0===P&&(b=b-s/2-g),Math.abs(b)<.001&&(b=0),t.roundLengths&&(b=Math.floor(b)),T%t.slidesPerGroup==0&&p.push(b),u.push(b)):(t.roundLengths&&(b=Math.floor(b)),T%t.slidesPerGroup==0&&p.push(b),u.push(b),b=b+C+g),e.virtualSize+=C+g,w=C,T+=1}}if(e.virtualSize=Math.max(e.virtualSize,s)+v,a&&r&&(\"slide\"===t.effect||\"coverflow\"===t.effect)&&i.css({width:e.virtualSize+t.spaceBetween+\"px\"}),te.flexbox&&!t.setWrapperSize||(e.isHorizontal()?i.css({width:e.virtualSize+t.spaceBetween+\"px\"}):i.css({height:e.virtualSize+t.spaceBetween+\"px\"})),1<t.slidesPerColumn&&(e.virtualSize=(C+t.spaceBetween)*x,e.virtualSize=Math.ceil(e.virtualSize/t.slidesPerColumn)-t.spaceBetween,e.isHorizontal()?i.css({width:e.virtualSize+t.spaceBetween+\"px\"}):i.css({height:e.virtualSize+t.spaceBetween+\"px\"}),t.centeredSlides)){y=[];for(var W=0;W<p.length;W+=1){var U=p[W];t.roundLengths&&(U=Math.floor(U)),p[W]<e.virtualSize+p[0]&&y.push(U)}p=y}if(!t.centeredSlides){y=[];for(var _=0;_<p.length;_+=1){var K=p[_];t.roundLengths&&(K=Math.floor(K)),p[_]<=e.virtualSize-s&&y.push(K)}p=y,1<Math.floor(e.virtualSize-s)-Math.floor(p[p.length-1])&&p.push(e.virtualSize-s)}if(0===p.length&&(p=[0]),0!==t.spaceBetween&&(e.isHorizontal()?a?l.css({marginLeft:g+\"px\"}):l.css({marginRight:g+\"px\"}):l.css({marginBottom:g+\"px\"})),t.centerInsufficientSlides){var Q=0;if(c.forEach(function(e){Q+=e+(t.spaceBetween?t.spaceBetween:0)}),(Q-=t.spaceBetween)<s){var Z=(s-Q)/2;p.forEach(function(e,t){p[t]=e-Z}),u.forEach(function(e,t){u[t]=e+Z})}}ee.extend(e,{slides:l,snapGrid:p,slidesGrid:u,slidesSizesGrid:c}),d!==o&&e.emit(\"slidesLengthChange\"),p.length!==f&&(e.params.watchOverflow&&e.checkOverflow(),e.emit(\"snapGridLengthChange\")),u.length!==m&&e.emit(\"slidesGridLengthChange\"),(t.watchSlidesProgress||t.watchSlidesVisibility)&&e.updateSlidesOffset()}},updateAutoHeight:function(e){var t,i=this,s=[],a=0;if(\"number\"==typeof e?i.setTransition(e):!0===e&&i.setTransition(i.params.speed),\"auto\"!==i.params.slidesPerView&&1<i.params.slidesPerView)for(t=0;t<Math.ceil(i.params.slidesPerView);t+=1){var r=i.activeIndex+t;if(r>i.slides.length)break;s.push(i.slides.eq(r)[0])}else s.push(i.slides.eq(i.activeIndex)[0]);for(t=0;t<s.length;t+=1)if(void 0!==s[t]){var n=s[t].offsetHeight;a=a<n?n:a}a&&i.$wrapperEl.css(\"height\",a+\"px\")},updateSlidesOffset:function(){for(var e=this.slides,t=0;t<e.length;t+=1)e[t].swiperSlideOffset=this.isHorizontal()?e[t].offsetLeft:e[t].offsetTop},updateSlidesProgress:function(e){void 0===e&&(e=this&&this.translate||0);var t=this,i=t.params,s=t.slides,a=t.rtlTranslate;if(0!==s.length){void 0===s[0].swiperSlideOffset&&t.updateSlidesOffset();var r=-e;a&&(r=e),s.removeClass(i.slideVisibleClass),t.visibleSlidesIndexes=[],t.visibleSlides=[];for(var n=0;n<s.length;n+=1){var o=s[n],l=(r+(i.centeredSlides?t.minTranslate():0)-o.swiperSlideOffset)/(o.swiperSlideSize+i.spaceBetween);if(i.watchSlidesVisibility){var d=-(r-o.swiperSlideOffset),p=d+t.slidesSizesGrid[n];(0<=d&&d<t.size||0<p&&p<=t.size||d<=0&&p>=t.size)&&(t.visibleSlides.push(o),t.visibleSlidesIndexes.push(n),s.eq(n).addClass(i.slideVisibleClass))}o.progress=a?-l:l}t.visibleSlides=E(t.visibleSlides)}},updateProgress:function(e){void 0===e&&(e=this&&this.translate||0);var t=this,i=t.params,s=t.maxTranslate()-t.minTranslate(),a=t.progress,r=t.isBeginning,n=t.isEnd,o=r,l=n;n=0==s?r=!(a=0):(r=(a=(e-t.minTranslate())/s)<=0,1<=a),ee.extend(t,{progress:a,isBeginning:r,isEnd:n}),(i.watchSlidesProgress||i.watchSlidesVisibility)&&t.updateSlidesProgress(e),r&&!o&&t.emit(\"reachBeginning toEdge\"),n&&!l&&t.emit(\"reachEnd toEdge\"),(o&&!r||l&&!n)&&t.emit(\"fromEdge\"),t.emit(\"progress\",a)},updateSlidesClasses:function(){var e,t=this,i=t.slides,s=t.params,a=t.$wrapperEl,r=t.activeIndex,n=t.realIndex,o=t.virtual&&s.virtual.enabled;i.removeClass(s.slideActiveClass+\" \"+s.slideNextClass+\" \"+s.slidePrevClass+\" \"+s.slideDuplicateActiveClass+\" \"+s.slideDuplicateNextClass+\" \"+s.slideDuplicatePrevClass),(e=o?t.$wrapperEl.find(\".\"+s.slideClass+\\'[data-swiper-slide-index=\"\\'+r+\\'\"]\\'):i.eq(r)).addClass(s.slideActiveClass),s.loop&&(e.hasClass(s.slideDuplicateClass)?a.children(\".\"+s.slideClass+\":not(.\"+s.slideDuplicateClass+\\')[data-swiper-slide-index=\"\\'+n+\\'\"]\\').addClass(s.slideDuplicateActiveClass):a.children(\".\"+s.slideClass+\".\"+s.slideDuplicateClass+\\'[data-swiper-slide-index=\"\\'+n+\\'\"]\\').addClass(s.slideDuplicateActiveClass));var l=e.nextAll(\".\"+s.slideClass).eq(0).addClass(s.slideNextClass);s.loop&&0===l.length&&(l=i.eq(0)).addClass(s.slideNextClass);var d=e.prevAll(\".\"+s.slideClass).eq(0).addClass(s.slidePrevClass);s.loop&&0===d.length&&(d=i.eq(-1)).addClass(s.slidePrevClass),s.loop&&(l.hasClass(s.slideDuplicateClass)?a.children(\".\"+s.slideClass+\":not(.\"+s.slideDuplicateClass+\\')[data-swiper-slide-index=\"\\'+l.attr(\"data-swiper-slide-index\")+\\'\"]\\').addClass(s.slideDuplicateNextClass):a.children(\".\"+s.slideClass+\".\"+s.slideDuplicateClass+\\'[data-swiper-slide-index=\"\\'+l.attr(\"data-swiper-slide-index\")+\\'\"]\\').addClass(s.slideDuplicateNextClass),d.hasClass(s.slideDuplicateClass)?a.children(\".\"+s.slideClass+\":not(.\"+s.slideDuplicateClass+\\')[data-swiper-slide-index=\"\\'+d.attr(\"data-swiper-slide-index\")+\\'\"]\\').addClass(s.slideDuplicatePrevClass):a.children(\".\"+s.slideClass+\".\"+s.slideDuplicateClass+\\'[data-swiper-slide-index=\"\\'+d.attr(\"data-swiper-slide-index\")+\\'\"]\\').addClass(s.slideDuplicatePrevClass))},updateActiveIndex:function(e){var t,i=this,s=i.rtlTranslate?i.translate:-i.translate,a=i.slidesGrid,r=i.snapGrid,n=i.params,o=i.activeIndex,l=i.realIndex,d=i.snapIndex,p=e;if(void 0===p){for(var u=0;u<a.length;u+=1)void 0!==a[u+1]?s>=a[u]&&s<a[u+1]-(a[u+1]-a[u])/2?p=u:s>=a[u]&&s<a[u+1]&&(p=u+1):s>=a[u]&&(p=u);n.normalizeSlideIndex&&(p<0||void 0===p)&&(p=0)}if((t=0<=r.indexOf(s)?r.indexOf(s):Math.floor(p/n.slidesPerGroup))>=r.length&&(t=r.length-1),p!==o){var c=parseInt(i.slides.eq(p).attr(\"data-swiper-slide-index\")||p,10);ee.extend(i,{snapIndex:t,realIndex:c,previousIndex:o,activeIndex:p}),i.emit(\"activeIndexChange\"),i.emit(\"snapIndexChange\"),l!==c&&i.emit(\"realIndexChange\"),(i.initialized||i.runCallbacksOnInit)&&i.emit(\"slideChange\")}else t!==d&&(i.snapIndex=t,i.emit(\"snapIndexChange\"))},updateClickedSlide:function(e){var t=this,i=t.params,s=E(e.target).closest(\".\"+i.slideClass)[0],a=!1;if(s)for(var r=0;r<t.slides.length;r+=1)t.slides[r]===s&&(a=!0);if(!s||!a)return t.clickedSlide=void 0,void(t.clickedIndex=void 0);t.clickedSlide=s,t.virtual&&t.params.virtual.enabled?t.clickedIndex=parseInt(E(s).attr(\"data-swiper-slide-index\"),10):t.clickedIndex=E(s).index(),i.slideToClickedSlide&&void 0!==t.clickedIndex&&t.clickedIndex!==t.activeIndex&&t.slideToClickedSlide()}};var u={getTranslate:function(e){void 0===e&&(e=this.isHorizontal()?\"x\":\"y\");var t=this.params,i=this.rtlTranslate,s=this.translate,a=this.$wrapperEl;if(t.virtualTranslate)return i?-s:s;var r=ee.getTranslate(a[0],e);return i&&(r=-r),r||0},setTranslate:function(e,t){var i=this,s=i.rtlTranslate,a=i.params,r=i.$wrapperEl,n=i.progress,o=0,l=0;i.isHorizontal()?o=s?-e:e:l=e,a.roundLengths&&(o=Math.floor(o),l=Math.floor(l)),a.virtualTranslate||(te.transforms3d?r.transform(\"translate3d(\"+o+\"px, \"+l+\"px, 0px)\"):r.transform(\"translate(\"+o+\"px, \"+l+\"px)\")),i.previousTranslate=i.translate,i.translate=i.isHorizontal()?o:l;var d=i.maxTranslate()-i.minTranslate();(0==d?0:(e-i.minTranslate())/d)!==n&&i.updateProgress(e),i.emit(\"setTranslate\",i.translate,t)},minTranslate:function(){return-this.snapGrid[0]},maxTranslate:function(){return-this.snapGrid[this.snapGrid.length-1]}};var c={setTransition:function(e,t){this.$wrapperEl.transition(e),this.emit(\"setTransition\",e,t)},transitionStart:function(e,t){void 0===e&&(e=!0);var i=this,s=i.activeIndex,a=i.params,r=i.previousIndex;a.autoHeight&&i.updateAutoHeight();var n=t;if(n=n||(r<s?\"next\":s<r?\"prev\":\"reset\"),i.emit(\"transitionStart\"),e&&s!==r){if(\"reset\"===n)return void i.emit(\"slideResetTransitionStart\");i.emit(\"slideChangeTransitionStart\"),\"next\"===n?i.emit(\"slideNextTransitionStart\"):i.emit(\"slidePrevTransitionStart\")}},transitionEnd:function(e,t){void 0===e&&(e=!0);var i=this,s=i.activeIndex,a=i.previousIndex;i.animating=!1,i.setTransition(0);var r=t;if(r=r||(a<s?\"next\":s<a?\"prev\":\"reset\"),i.emit(\"transitionEnd\"),e&&s!==a){if(\"reset\"===r)return void i.emit(\"slideResetTransitionEnd\");i.emit(\"slideChangeTransitionEnd\"),\"next\"===r?i.emit(\"slideNextTransitionEnd\"):i.emit(\"slidePrevTransitionEnd\")}}};var h={slideTo:function(e,t,i,s){void 0===e&&(e=0),void 0===t&&(t=this.params.speed),void 0===i&&(i=!0);var a=this,r=e;r<0&&(r=0);var n=a.params,o=a.snapGrid,l=a.slidesGrid,d=a.previousIndex,p=a.activeIndex,u=a.rtlTranslate;if(a.animating&&n.preventInteractionOnTransition)return!1;var c=Math.floor(r/n.slidesPerGroup);c>=o.length&&(c=o.length-1),(p||n.initialSlide||0)===(d||0)&&i&&a.emit(\"beforeSlideChangeStart\");var h,v=-o[c];if(a.updateProgress(v),n.normalizeSlideIndex)for(var f=0;f<l.length;f+=1)-Math.floor(100*v)>=Math.floor(100*l[f])&&(r=f);if(a.initialized&&r!==p){if(!a.allowSlideNext&&v<a.translate&&v<a.minTranslate())return!1;if(!a.allowSlidePrev&&v>a.translate&&v>a.maxTranslate()&&(p||0)!==r)return!1}return h=p<r?\"next\":r<p?\"prev\":\"reset\",u&&-v===a.translate||!u&&v===a.translate?(a.updateActiveIndex(r),n.autoHeight&&a.updateAutoHeight(),a.updateSlidesClasses(),\"slide\"!==n.effect&&a.setTranslate(v),\"reset\"!==h&&(a.transitionStart(i,h),a.transitionEnd(i,h)),!1):(0!==t&&te.transition?(a.setTransition(t),a.setTranslate(v),a.updateActiveIndex(r),a.updateSlidesClasses(),a.emit(\"beforeTransitionStart\",t,s),a.transitionStart(i,h),a.animating||(a.animating=!0,a.onSlideToWrapperTransitionEnd||(a.onSlideToWrapperTransitionEnd=function(e){a&&!a.destroyed&&e.target===this&&(a.$wrapperEl[0].removeEventListener(\"transitionend\",a.onSlideToWrapperTransitionEnd),a.$wrapperEl[0].removeEventListener(\"webkitTransitionEnd\",a.onSlideToWrapperTransitionEnd),a.onSlideToWrapperTransitionEnd=null,delete a.onSlideToWrapperTransitionEnd,a.transitionEnd(i,h))}),a.$wrapperEl[0].addEventListener(\"transitionend\",a.onSlideToWrapperTransitionEnd),a.$wrapperEl[0].addEventListener(\"webkitTransitionEnd\",a.onSlideToWrapperTransitionEnd))):(a.setTransition(0),a.setTranslate(v),a.updateActiveIndex(r),a.updateSlidesClasses(),a.emit(\"beforeTransitionStart\",t,s),a.transitionStart(i,h),a.transitionEnd(i,h)),!0)},slideToLoop:function(e,t,i,s){void 0===e&&(e=0),void 0===t&&(t=this.params.speed),void 0===i&&(i=!0);var a=e;return this.params.loop&&(a+=this.loopedSlides),this.slideTo(a,t,i,s)},slideNext:function(e,t,i){void 0===e&&(e=this.params.speed),void 0===t&&(t=!0);var s=this,a=s.params,r=s.animating;return a.loop?!r&&(s.loopFix(),s._clientLeft=s.$wrapperEl[0].clientLeft,s.slideTo(s.activeIndex+a.slidesPerGroup,e,t,i)):s.slideTo(s.activeIndex+a.slidesPerGroup,e,t,i)},slidePrev:function(e,t,i){void 0===e&&(e=this.params.speed),void 0===t&&(t=!0);var s=this,a=s.params,r=s.animating,n=s.snapGrid,o=s.slidesGrid,l=s.rtlTranslate;if(a.loop){if(r)return!1;s.loopFix(),s._clientLeft=s.$wrapperEl[0].clientLeft}function d(e){return e<0?-Math.floor(Math.abs(e)):Math.floor(e)}var p,u=d(l?s.translate:-s.translate),c=n.map(function(e){return d(e)}),h=(o.map(function(e){return d(e)}),n[c.indexOf(u)],n[c.indexOf(u)-1]);return void 0!==h&&(p=o.indexOf(h))<0&&(p=s.activeIndex-1),s.slideTo(p,e,t,i)},slideReset:function(e,t,i){return void 0===e&&(e=this.params.speed),void 0===t&&(t=!0),this.slideTo(this.activeIndex,e,t,i)},slideToClosest:function(e,t,i){void 0===e&&(e=this.params.speed),void 0===t&&(t=!0);var s=this,a=s.activeIndex,r=Math.floor(a/s.params.slidesPerGroup);if(r<s.snapGrid.length-1){var n=s.rtlTranslate?s.translate:-s.translate,o=s.snapGrid[r];(s.snapGrid[r+1]-o)/2<n-o&&(a=s.params.slidesPerGroup)}return s.slideTo(a,e,t,i)},slideToClickedSlide:function(){var e,t=this,i=t.params,s=t.$wrapperEl,a=\"auto\"===i.slidesPerView?t.slidesPerViewDynamic():i.slidesPerView,r=t.clickedIndex;if(i.loop){if(t.animating)return;e=parseInt(E(t.clickedSlide).attr(\"data-swiper-slide-index\"),10),i.centeredSlides?r<t.loopedSlides-a/2||r>t.slides.length-t.loopedSlides+a/2?(t.loopFix(),r=s.children(\".\"+i.slideClass+\\'[data-swiper-slide-index=\"\\'+e+\\'\"]:not(.\\'+i.slideDuplicateClass+\")\").eq(0).index(),ee.nextTick(function(){t.slideTo(r)})):t.slideTo(r):r>t.slides.length-a?(t.loopFix(),r=s.children(\".\"+i.slideClass+\\'[data-swiper-slide-index=\"\\'+e+\\'\"]:not(.\\'+i.slideDuplicateClass+\")\").eq(0).index(),ee.nextTick(function(){t.slideTo(r)})):t.slideTo(r)}else t.slideTo(r)}};var v={loopCreate:function(){var s=this,e=s.params,t=s.$wrapperEl;t.children(\".\"+e.slideClass+\".\"+e.slideDuplicateClass).remove();var a=t.children(\".\"+e.slideClass);if(e.loopFillGroupWithBlank){var i=e.slidesPerGroup-a.length%e.slidesPerGroup;if(i!==e.slidesPerGroup){for(var r=0;r<i;r+=1){var n=E(f.createElement(\"div\")).addClass(e.slideClass+\" \"+e.slideBlankClass);t.append(n)}a=t.children(\".\"+e.slideClass)}}\"auto\"!==e.slidesPerView||e.loopedSlides||(e.loopedSlides=a.length),s.loopedSlides=parseInt(e.loopedSlides||e.slidesPerView,10),s.loopedSlides+=e.loopAdditionalSlides,s.loopedSlides>a.length&&(s.loopedSlides=a.length);var o=[],l=[];a.each(function(e,t){var i=E(t);e<s.loopedSlides&&l.push(t),e<a.length&&e>=a.length-s.loopedSlides&&o.push(t),i.attr(\"data-swiper-slide-index\",e)});for(var d=0;d<l.length;d+=1)t.append(E(l[d].cloneNode(!0)).addClass(e.slideDuplicateClass));for(var p=o.length-1;0<=p;p-=1)t.prepend(E(o[p].cloneNode(!0)).addClass(e.slideDuplicateClass))},loopFix:function(){var e,t=this,i=t.params,s=t.activeIndex,a=t.slides,r=t.loopedSlides,n=t.allowSlidePrev,o=t.allowSlideNext,l=t.snapGrid,d=t.rtlTranslate;t.allowSlidePrev=!0,t.allowSlideNext=!0;var p=-l[s]-t.getTranslate();if(s<r)e=a.length-3*r+s,e+=r,t.slideTo(e,0,!1,!0)&&0!=p&&t.setTranslate((d?-t.translate:t.translate)-p);else if(\"auto\"===i.slidesPerView&&2*r<=s||s>=a.length-r){e=-a.length+s+r,e+=r,t.slideTo(e,0,!1,!0)&&0!=p&&t.setTranslate((d?-t.translate:t.translate)-p)}t.allowSlidePrev=n,t.allowSlideNext=o},loopDestroy:function(){var e=this.$wrapperEl,t=this.params,i=this.slides;e.children(\".\"+t.slideClass+\".\"+t.slideDuplicateClass+\",.\"+t.slideClass+\".\"+t.slideBlankClass).remove(),i.removeAttr(\"data-swiper-slide-index\")}};var m={appendSlide:function(e){var t=this,i=t.$wrapperEl,s=t.params;if(s.loop&&t.loopDestroy(),\"object\"==typeof e&&\"length\"in e)for(var a=0;a<e.length;a+=1)e[a]&&i.append(e[a]);else i.append(e);s.loop&&t.loopCreate(),s.observer&&te.observer||t.update()},prependSlide:function(e){var t=this,i=t.params,s=t.$wrapperEl,a=t.activeIndex;i.loop&&t.loopDestroy();var r=a+1;if(\"object\"==typeof e&&\"length\"in e){for(var n=0;n<e.length;n+=1)e[n]&&s.prepend(e[n]);r=a+e.length}else s.prepend(e);i.loop&&t.loopCreate(),i.observer&&te.observer||t.update(),t.slideTo(r,0,!1)},addSlide:function(e,t){var i=this,s=i.$wrapperEl,a=i.params,r=i.activeIndex;a.loop&&(r-=i.loopedSlides,i.loopDestroy(),i.slides=s.children(\".\"+a.slideClass));var n=i.slides.length;if(e<=0)i.prependSlide(t);else if(n<=e)i.appendSlide(t);else{for(var o=e<r?r+1:r,l=[],d=n-1;e<=d;d-=1){var p=i.slides.eq(d);p.remove(),l.unshift(p)}if(\"object\"==typeof t&&\"length\"in t){for(var u=0;u<t.length;u+=1)t[u]&&s.append(t[u]);o=e<r?r+t.length:r}else s.append(t);for(var c=0;c<l.length;c+=1)s.append(l[c]);a.loop&&i.loopCreate(),a.observer&&te.observer||i.update(),a.loop?i.slideTo(o+i.loopedSlides,0,!1):i.slideTo(o,0,!1)}},removeSlide:function(e){var t=this,i=t.params,s=t.$wrapperEl,a=t.activeIndex;i.loop&&(a-=t.loopedSlides,t.loopDestroy(),t.slides=s.children(\".\"+i.slideClass));var r,n=a;if(\"object\"==typeof e&&\"length\"in e){for(var o=0;o<e.length;o+=1)r=e[o],t.slides[r]&&t.slides.eq(r).remove(),r<n&&(n-=1);n=Math.max(n,0)}else r=e,t.slides[r]&&t.slides.eq(r).remove(),r<n&&(n-=1),n=Math.max(n,0);i.loop&&t.loopCreate(),i.observer&&te.observer||t.update(),i.loop?t.slideTo(n+t.loopedSlides,0,!1):t.slideTo(n,0,!1)},removeAllSlides:function(){for(var e=[],t=0;t<this.slides.length;t+=1)e.push(t);this.removeSlide(e)}},g=function(){var e=J.navigator.userAgent,t={ios:!1,android:!1,androidChrome:!1,desktop:!1,windows:!1,iphone:!1,ipod:!1,ipad:!1,cordova:J.cordova||J.phonegap,phonegap:J.cordova||J.phonegap},i=e.match(/(Windows Phone);?[\\\\s\\\\/]+([\\\\d.]+)?/),s=e.match(/(Android);?[\\\\s\\\\/]+([\\\\d.]+)?/),a=e.match(/(iPad).*OS\\\\s([\\\\d_]+)/),r=e.match(/(iPod)(.*OS\\\\s([\\\\d_]+))?/),n=!a&&e.match(/(iPhone\\\\sOS|iOS)\\\\s([\\\\d_]+)/);if(i&&(t.os=\"windows\",t.osVersion=i[2],t.windows=!0),s&&!i&&(t.os=\"android\",t.osVersion=s[2],t.android=!0,t.androidChrome=0<=e.toLowerCase().indexOf(\"chrome\")),(a||n||r)&&(t.os=\"ios\",t.ios=!0),n&&!r&&(t.osVersion=n[2].replace(/_/g,\".\"),t.iphone=!0),a&&(t.osVersion=a[2].replace(/_/g,\".\"),t.ipad=!0),r&&(t.osVersion=r[3]?r[3].replace(/_/g,\".\"):null,t.iphone=!0),t.ios&&t.osVersion&&0<=e.indexOf(\"Version/\")&&\"10\"===t.osVersion.split(\".\")[0]&&(t.osVersion=e.toLowerCase().split(\"version/\")[1].split(\" \")[0]),t.desktop=!(t.os||t.android||t.webView),t.webView=(n||a||r)&&e.match(/.*AppleWebKit(?!.*Safari)/i),t.os&&\"ios\"===t.os){var o=t.osVersion.split(\".\"),l=f.querySelector(\\'meta[name=\"viewport\"]\\');t.minimalUi=!t.webView&&(r||n)&&(1*o[0]==7?1<=1*o[1]:7<1*o[0])&&l&&0<=l.getAttribute(\"content\").indexOf(\"minimal-ui\")}return t.pixelRatio=J.devicePixelRatio||1,t}();function b(){var e=this,t=e.params,i=e.el;if(!i||0!==i.offsetWidth){t.breakpoints&&e.setBreakpoint();var s=e.allowSlideNext,a=e.allowSlidePrev,r=e.snapGrid;if(e.allowSlideNext=!0,e.allowSlidePrev=!0,e.updateSize(),e.updateSlides(),t.freeMode){var n=Math.min(Math.max(e.translate,e.maxTranslate()),e.minTranslate());e.setTranslate(n),e.updateActiveIndex(),e.updateSlidesClasses(),t.autoHeight&&e.updateAutoHeight()}else e.updateSlidesClasses(),(\"auto\"===t.slidesPerView||1<t.slidesPerView)&&e.isEnd&&!e.params.centeredSlides?e.slideTo(e.slides.length-1,0,!1,!0):e.slideTo(e.activeIndex,0,!1,!0);e.autoplay&&e.autoplay.running&&e.autoplay.paused&&e.autoplay.run(),e.allowSlidePrev=a,e.allowSlideNext=s,e.params.watchOverflow&&r!==e.snapGrid&&e.checkOverflow()}}var w={init:!0,direction:\"horizontal\",touchEventsTarget:\"container\",initialSlide:0,speed:300,preventInteractionOnTransition:!1,edgeSwipeDetection:!1,edgeSwipeThreshold:20,freeMode:!1,freeModeMomentum:!0,freeModeMomentumRatio:1,freeModeMomentumBounce:!0,freeModeMomentumBounceRatio:1,freeModeMomentumVelocityRatio:1,freeModeSticky:!1,freeModeMinimumVelocity:.02,autoHeight:!1,setWrapperSize:!1,virtualTranslate:!1,effect:\"slide\",breakpoints:void 0,breakpointsInverse:!1,spaceBetween:0,slidesPerView:1,slidesPerColumn:1,slidesPerColumnFill:\"column\",slidesPerGroup:1,centeredSlides:!1,slidesOffsetBefore:0,slidesOffsetAfter:0,normalizeSlideIndex:!0,centerInsufficientSlides:!1,watchOverflow:!1,roundLengths:!1,touchRatio:1,touchAngle:45,simulateTouch:!0,shortSwipes:!0,longSwipes:!0,longSwipesRatio:.5,longSwipesMs:300,followFinger:!0,allowTouchMove:!0,threshold:0,touchMoveStopPropagation:!0,touchStartPreventDefault:!0,touchStartForcePreventDefault:!1,touchReleaseOnEdges:!1,uniqueNavElements:!0,resistance:!0,resistanceRatio:.85,watchSlidesProgress:!1,watchSlidesVisibility:!1,grabCursor:!1,preventClicks:!0,preventClicksPropagation:!0,slideToClickedSlide:!1,preloadImages:!0,updateOnImagesReady:!0,loop:!1,loopAdditionalSlides:0,loopedSlides:null,loopFillGroupWithBlank:!1,allowSlidePrev:!0,allowSlideNext:!0,swipeHandler:null,noSwiping:!0,noSwipingClass:\"swiper-no-swiping\",noSwipingSelector:null,passiveListeners:!0,containerModifierClass:\"swiper-container-\",slideClass:\"swiper-slide\",slideBlankClass:\"swiper-slide-invisible-blank\",slideActiveClass:\"swiper-slide-active\",slideDuplicateActiveClass:\"swiper-slide-duplicate-active\",slideVisibleClass:\"swiper-slide-visible\",slideDuplicateClass:\"swiper-slide-duplicate\",slideNextClass:\"swiper-slide-next\",slideDuplicateNextClass:\"swiper-slide-duplicate-next\",slidePrevClass:\"swiper-slide-prev\",slideDuplicatePrevClass:\"swiper-slide-duplicate-prev\",wrapperClass:\"swiper-wrapper\",runCallbacksOnInit:!0},T={update:p,translate:u,transition:c,slide:h,loop:v,manipulation:m,events:{attachEvents:function(){var e=this,t=e.params,i=e.touchEvents,s=e.el,a=e.wrapperEl;e.onTouchStart=function(e){var t=this,i=t.touchEventsData,s=t.params,a=t.touches;if(!t.animating||!s.preventInteractionOnTransition){var r=e;if(r.originalEvent&&(r=r.originalEvent),i.isTouchEvent=\"touchstart\"===r.type,(i.isTouchEvent||!(\"which\"in r)||3!==r.which)&&!(!i.isTouchEvent&&\"button\"in r&&0<r.button||i.isTouched&&i.isMoved))if(s.noSwiping&&E(r.target).closest(s.noSwipingSelector?s.noSwipingSelector:\".\"+s.noSwipingClass)[0])t.allowClick=!0;else if(!s.swipeHandler||E(r).closest(s.swipeHandler)[0]){a.currentX=\"touchstart\"===r.type?r.targetTouches[0].pageX:r.pageX,a.currentY=\"touchstart\"===r.type?r.targetTouches[0].pageY:r.pageY;var n=a.currentX,o=a.currentY,l=s.edgeSwipeDetection||s.iOSEdgeSwipeDetection,d=s.edgeSwipeThreshold||s.iOSEdgeSwipeThreshold;if(!l||!(n<=d||n>=J.screen.width-d)){if(ee.extend(i,{isTouched:!0,isMoved:!1,allowTouchCallbacks:!0,isScrolling:void 0,startMoving:void 0}),a.startX=n,a.startY=o,i.touchStartTime=ee.now(),t.allowClick=!0,t.updateSize(),t.swipeDirection=void 0,0<s.threshold&&(i.allowThresholdMove=!1),\"touchstart\"!==r.type){var p=!0;E(r.target).is(i.formElements)&&(p=!1),f.activeElement&&E(f.activeElement).is(i.formElements)&&f.activeElement!==r.target&&f.activeElement.blur();var u=p&&t.allowTouchMove&&s.touchStartPreventDefault;(s.touchStartForcePreventDefault||u)&&r.preventDefault()}t.emit(\"touchStart\",r)}}}}.bind(e),e.onTouchMove=function(e){var t=this,i=t.touchEventsData,s=t.params,a=t.touches,r=t.rtlTranslate,n=e;if(n.originalEvent&&(n=n.originalEvent),i.isTouched){if(!i.isTouchEvent||\"mousemove\"!==n.type){var o=\"touchmove\"===n.type?n.targetTouches[0].pageX:n.pageX,l=\"touchmove\"===n.type?n.targetTouches[0].pageY:n.pageY;if(n.preventedByNestedSwiper)return a.startX=o,void(a.startY=l);if(!t.allowTouchMove)return t.allowClick=!1,void(i.isTouched&&(ee.extend(a,{startX:o,startY:l,currentX:o,currentY:l}),i.touchStartTime=ee.now()));if(i.isTouchEvent&&s.touchReleaseOnEdges&&!s.loop)if(t.isVertical()){if(l<a.startY&&t.translate<=t.maxTranslate()||l>a.startY&&t.translate>=t.minTranslate())return i.isTouched=!1,void(i.isMoved=!1)}else if(o<a.startX&&t.translate<=t.maxTranslate()||o>a.startX&&t.translate>=t.minTranslate())return;if(i.isTouchEvent&&f.activeElement&&n.target===f.activeElement&&E(n.target).is(i.formElements))return i.isMoved=!0,void(t.allowClick=!1);if(i.allowTouchCallbacks&&t.emit(\"touchMove\",n),!(n.targetTouches&&1<n.targetTouches.length)){a.currentX=o,a.currentY=l;var d=a.currentX-a.startX,p=a.currentY-a.startY;if(!(t.params.threshold&&Math.sqrt(Math.pow(d,2)+Math.pow(p,2))<t.params.threshold)){var u;if(void 0===i.isScrolling)t.isHorizontal()&&a.currentY===a.startY||t.isVertical()&&a.currentX===a.startX?i.isScrolling=!1:25<=d*d+p*p&&(u=180*Math.atan2(Math.abs(p),Math.abs(d))/Math.PI,i.isScrolling=t.isHorizontal()?u>s.touchAngle:90-u>s.touchAngle);if(i.isScrolling&&t.emit(\"touchMoveOpposite\",n),void 0===i.startMoving&&(a.currentX===a.startX&&a.currentY===a.startY||(i.startMoving=!0)),i.isScrolling)i.isTouched=!1;else if(i.startMoving){t.allowClick=!1,n.preventDefault(),s.touchMoveStopPropagation&&!s.nested&&n.stopPropagation(),i.isMoved||(s.loop&&t.loopFix(),i.startTranslate=t.getTranslate(),t.setTransition(0),t.animating&&t.$wrapperEl.trigger(\"webkitTransitionEnd transitionend\"),i.allowMomentumBounce=!1,!s.grabCursor||!0!==t.allowSlideNext&&!0!==t.allowSlidePrev||t.setGrabCursor(!0),t.emit(\"sliderFirstMove\",n)),t.emit(\"sliderMove\",n),i.isMoved=!0;var c=t.isHorizontal()?d:p;a.diff=c,c*=s.touchRatio,r&&(c=-c),t.swipeDirection=0<c?\"prev\":\"next\",i.currentTranslate=c+i.startTranslate;var h=!0,v=s.resistanceRatio;if(s.touchReleaseOnEdges&&(v=0),0<c&&i.currentTranslate>t.minTranslate()?(h=!1,s.resistance&&(i.currentTranslate=t.minTranslate()-1+Math.pow(-t.minTranslate()+i.startTranslate+c,v))):c<0&&i.currentTranslate<t.maxTranslate()&&(h=!1,s.resistance&&(i.currentTranslate=t.maxTranslate()+1-Math.pow(t.maxTranslate()-i.startTranslate-c,v))),h&&(n.preventedByNestedSwiper=!0),!t.allowSlideNext&&\"next\"===t.swipeDirection&&i.currentTranslate<i.startTranslate&&(i.currentTranslate=i.startTranslate),!t.allowSlidePrev&&\"prev\"===t.swipeDirection&&i.currentTranslate>i.startTranslate&&(i.currentTranslate=i.startTranslate),0<s.threshold){if(!(Math.abs(c)>s.threshold||i.allowThresholdMove))return void(i.currentTranslate=i.startTranslate);if(!i.allowThresholdMove)return i.allowThresholdMove=!0,a.startX=a.currentX,a.startY=a.currentY,i.currentTranslate=i.startTranslate,void(a.diff=t.isHorizontal()?a.currentX-a.startX:a.currentY-a.startY)}s.followFinger&&((s.freeMode||s.watchSlidesProgress||s.watchSlidesVisibility)&&(t.updateActiveIndex(),t.updateSlidesClasses()),s.freeMode&&(0===i.velocities.length&&i.velocities.push({position:a[t.isHorizontal()?\"startX\":\"startY\"],time:i.touchStartTime}),i.velocities.push({position:a[t.isHorizontal()?\"currentX\":\"currentY\"],time:ee.now()})),t.updateProgress(i.currentTranslate),t.setTranslate(i.currentTranslate))}}}}}else i.startMoving&&i.isScrolling&&t.emit(\"touchMoveOpposite\",n)}.bind(e),e.onTouchEnd=function(e){var t=this,i=t.touchEventsData,s=t.params,a=t.touches,r=t.rtlTranslate,n=t.$wrapperEl,o=t.slidesGrid,l=t.snapGrid,d=e;if(d.originalEvent&&(d=d.originalEvent),i.allowTouchCallbacks&&t.emit(\"touchEnd\",d),i.allowTouchCallbacks=!1,!i.isTouched)return i.isMoved&&s.grabCursor&&t.setGrabCursor(!1),i.isMoved=!1,void(i.startMoving=!1);s.grabCursor&&i.isMoved&&i.isTouched&&(!0===t.allowSlideNext||!0===t.allowSlidePrev)&&t.setGrabCursor(!1);var p,u=ee.now(),c=u-i.touchStartTime;if(t.allowClick&&(t.updateClickedSlide(d),t.emit(\"tap\",d),c<300&&300<u-i.lastClickTime&&(i.clickTimeout&&clearTimeout(i.clickTimeout),i.clickTimeout=ee.nextTick(function(){t&&!t.destroyed&&t.emit(\"click\",d)},300)),c<300&&u-i.lastClickTime<300&&(i.clickTimeout&&clearTimeout(i.clickTimeout),t.emit(\"doubleTap\",d))),i.lastClickTime=ee.now(),ee.nextTick(function(){t.destroyed||(t.allowClick=!0)}),!i.isTouched||!i.isMoved||!t.swipeDirection||0===a.diff||i.currentTranslate===i.startTranslate)return i.isTouched=!1,i.isMoved=!1,void(i.startMoving=!1);if(i.isTouched=!1,i.isMoved=!1,i.startMoving=!1,p=s.followFinger?r?t.translate:-t.translate:-i.currentTranslate,s.freeMode){if(p<-t.minTranslate())return void t.slideTo(t.activeIndex);if(p>-t.maxTranslate())return void(t.slides.length<l.length?t.slideTo(l.length-1):t.slideTo(t.slides.length-1));if(s.freeModeMomentum){if(1<i.velocities.length){var h=i.velocities.pop(),v=i.velocities.pop(),f=h.position-v.position,m=h.time-v.time;t.velocity=f/m,t.velocity/=2,Math.abs(t.velocity)<s.freeModeMinimumVelocity&&(t.velocity=0),(150<m||300<ee.now()-h.time)&&(t.velocity=0)}else t.velocity=0;t.velocity*=s.freeModeMomentumVelocityRatio,i.velocities.length=0;var g=1e3*s.freeModeMomentumRatio,b=t.velocity*g,w=t.translate+b;r&&(w=-w);var T,x,C=!1,y=20*Math.abs(t.velocity)*s.freeModeMomentumBounceRatio;if(w<t.maxTranslate())s.freeModeMomentumBounce?(w+t.maxTranslate()<-y&&(w=t.maxTranslate()-y),T=t.maxTranslate(),C=!0,i.allowMomentumBounce=!0):w=t.maxTranslate(),s.loop&&s.centeredSlides&&(x=!0);else if(w>t.minTranslate())s.freeModeMomentumBounce?(w-t.minTranslate()>y&&(w=t.minTranslate()+y),T=t.minTranslate(),C=!0,i.allowMomentumBounce=!0):w=t.minTranslate(),s.loop&&s.centeredSlides&&(x=!0);else if(s.freeModeSticky){for(var S,E=0;E<l.length;E+=1)if(l[E]>-w){S=E;break}w=-(w=Math.abs(l[S]-w)<Math.abs(l[S-1]-w)||\"next\"===t.swipeDirection?l[S]:l[S-1])}if(x&&t.once(\"transitionEnd\",function(){t.loopFix()}),0!==t.velocity)g=r?Math.abs((-w-t.translate)/t.velocity):Math.abs((w-t.translate)/t.velocity);else if(s.freeModeSticky)return void t.slideToClosest();s.freeModeMomentumBounce&&C?(t.updateProgress(T),t.setTransition(g),t.setTranslate(w),t.transitionStart(!0,t.swipeDirection),t.animating=!0,n.transitionEnd(function(){t&&!t.destroyed&&i.allowMomentumBounce&&(t.emit(\"momentumBounce\"),t.setTransition(s.speed),t.setTranslate(T),n.transitionEnd(function(){t&&!t.destroyed&&t.transitionEnd()}))})):t.velocity?(t.updateProgress(w),t.setTransition(g),t.setTranslate(w),t.transitionStart(!0,t.swipeDirection),t.animating||(t.animating=!0,n.transitionEnd(function(){t&&!t.destroyed&&t.transitionEnd()}))):t.updateProgress(w),t.updateActiveIndex(),t.updateSlidesClasses()}else if(s.freeModeSticky)return void t.slideToClosest();(!s.freeModeMomentum||c>=s.longSwipesMs)&&(t.updateProgress(),t.updateActiveIndex(),t.updateSlidesClasses())}else{for(var M=0,P=t.slidesSizesGrid[0],k=0;k<o.length;k+=s.slidesPerGroup)void 0!==o[k+s.slidesPerGroup]?p>=o[k]&&p<o[k+s.slidesPerGroup]&&(P=o[(M=k)+s.slidesPerGroup]-o[k]):p>=o[k]&&(M=k,P=o[o.length-1]-o[o.length-2]);var L=(p-o[M])/P;if(c>s.longSwipesMs){if(!s.longSwipes)return void t.slideTo(t.activeIndex);\"next\"===t.swipeDirection&&(L>=s.longSwipesRatio?t.slideTo(M+s.slidesPerGroup):t.slideTo(M)),\"prev\"===t.swipeDirection&&(L>1-s.longSwipesRatio?t.slideTo(M+s.slidesPerGroup):t.slideTo(M))}else{if(!s.shortSwipes)return void t.slideTo(t.activeIndex);\"next\"===t.swipeDirection&&t.slideTo(M+s.slidesPerGroup),\"prev\"===t.swipeDirection&&t.slideTo(M)}}}.bind(e),e.onClick=function(e){this.allowClick||(this.params.preventClicks&&e.preventDefault(),this.params.preventClicksPropagation&&this.animating&&(e.stopPropagation(),e.stopImmediatePropagation()))}.bind(e);var r=\"container\"===t.touchEventsTarget?s:a,n=!!t.nested;if(te.touch||!te.pointerEvents&&!te.prefixedPointerEvents){if(te.touch){var o=!(\"touchstart\"!==i.start||!te.passiveListener||!t.passiveListeners)&&{passive:!0,capture:!1};r.addEventListener(i.start,e.onTouchStart,o),r.addEventListener(i.move,e.onTouchMove,te.passiveListener?{passive:!1,capture:n}:n),r.addEventListener(i.end,e.onTouchEnd,o)}(t.simulateTouch&&!g.ios&&!g.android||t.simulateTouch&&!te.touch&&g.ios)&&(r.addEventListener(\"mousedown\",e.onTouchStart,!1),f.addEventListener(\"mousemove\",e.onTouchMove,n),f.addEventListener(\"mouseup\",e.onTouchEnd,!1))}else r.addEventListener(i.start,e.onTouchStart,!1),f.addEventListener(i.move,e.onTouchMove,n),f.addEventListener(i.end,e.onTouchEnd,!1);(t.preventClicks||t.preventClicksPropagation)&&r.addEventListener(\"click\",e.onClick,!0),e.on(g.ios||g.android?\"resize orientationchange observerUpdate\":\"resize observerUpdate\",b,!0)},detachEvents:function(){var e=this,t=e.params,i=e.touchEvents,s=e.el,a=e.wrapperEl,r=\"container\"===t.touchEventsTarget?s:a,n=!!t.nested;if(te.touch||!te.pointerEvents&&!te.prefixedPointerEvents){if(te.touch){var o=!(\"onTouchStart\"!==i.start||!te.passiveListener||!t.passiveListeners)&&{passive:!0,capture:!1};r.removeEventListener(i.start,e.onTouchStart,o),r.removeEventListener(i.move,e.onTouchMove,n),r.removeEventListener(i.end,e.onTouchEnd,o)}(t.simulateTouch&&!g.ios&&!g.android||t.simulateTouch&&!te.touch&&g.ios)&&(r.removeEventListener(\"mousedown\",e.onTouchStart,!1),f.removeEventListener(\"mousemove\",e.onTouchMove,n),f.removeEventListener(\"mouseup\",e.onTouchEnd,!1))}else r.removeEventListener(i.start,e.onTouchStart,!1),f.removeEventListener(i.move,e.onTouchMove,n),f.removeEventListener(i.end,e.onTouchEnd,!1);(t.preventClicks||t.preventClicksPropagation)&&r.removeEventListener(\"click\",e.onClick,!0),e.off(g.ios||g.android?\"resize orientationchange observerUpdate\":\"resize observerUpdate\",b)}},breakpoints:{setBreakpoint:function(){var e=this,t=e.activeIndex,i=e.initialized,s=e.loopedSlides;void 0===s&&(s=0);var a=e.params,r=a.breakpoints;if(r&&(!r||0!==Object.keys(r).length)){var n=e.getBreakpoint(r);if(n&&e.currentBreakpoint!==n){var o=n in r?r[n]:void 0;o&&[\"slidesPerView\",\"spaceBetween\",\"slidesPerGroup\"].forEach(function(e){var t=o[e];void 0!==t&&(o[e]=\"slidesPerView\"!==e||\"AUTO\"!==t&&\"auto\"!==t?\"slidesPerView\"===e?parseFloat(t):parseInt(t,10):\"auto\")});var l=o||e.originalParams,d=l.direction&&l.direction!==a.direction,p=a.loop&&(l.slidesPerView!==a.slidesPerView||d);d&&i&&e.changeDirection(),ee.extend(e.params,l),ee.extend(e,{allowTouchMove:e.params.allowTouchMove,allowSlideNext:e.params.allowSlideNext,allowSlidePrev:e.params.allowSlidePrev}),e.currentBreakpoint=n,p&&i&&(e.loopDestroy(),e.loopCreate(),e.updateSlides(),e.slideTo(t-s+e.loopedSlides,0,!1)),e.emit(\"breakpoint\",l)}}},getBreakpoint:function(e){if(e){var t=!1,i=[];Object.keys(e).forEach(function(e){i.push(e)}),i.sort(function(e,t){return parseInt(e,10)-parseInt(t,10)});for(var s=0;s<i.length;s+=1){var a=i[s];this.params.breakpointsInverse?a<=J.innerWidth&&(t=a):a>=J.innerWidth&&!t&&(t=a)}return t||\"max\"}}},checkOverflow:{checkOverflow:function(){var e=this,t=e.isLocked;e.isLocked=1===e.snapGrid.length,e.allowSlideNext=!e.isLocked,e.allowSlidePrev=!e.isLocked,t!==e.isLocked&&e.emit(e.isLocked?\"lock\":\"unlock\"),t&&t!==e.isLocked&&(e.isEnd=!1,e.navigation.update())}},classes:{addClasses:function(){var t=this.classNames,i=this.params,e=this.rtl,s=this.$el,a=[];a.push(\"initialized\"),a.push(i.direction),i.freeMode&&a.push(\"free-mode\"),te.flexbox||a.push(\"no-flexbox\"),i.autoHeight&&a.push(\"autoheight\"),e&&a.push(\"rtl\"),1<i.slidesPerColumn&&a.push(\"multirow\"),g.android&&a.push(\"android\"),g.ios&&a.push(\"ios\"),(o.isIE||o.isEdge)&&(te.pointerEvents||te.prefixedPointerEvents)&&a.push(\"wp8-\"+i.direction),a.forEach(function(e){t.push(i.containerModifierClass+e)}),s.addClass(t.join(\" \"))},removeClasses:function(){var e=this.$el,t=this.classNames;e.removeClass(t.join(\" \"))}},images:{loadImage:function(e,t,i,s,a,r){var n;function o(){r&&r()}e.complete&&a?o():t?((n=new J.Image).onload=o,n.onerror=o,s&&(n.sizes=s),i&&(n.srcset=i),t&&(n.src=t)):o()},preloadImages:function(){var e=this;function t(){null!=e&&e&&!e.destroyed&&(void 0!==e.imagesLoaded&&(e.imagesLoaded+=1),e.imagesLoaded===e.imagesToLoad.length&&(e.params.updateOnImagesReady&&e.update(),e.emit(\"imagesReady\")))}e.imagesToLoad=e.$el.find(\"img\");for(var i=0;i<e.imagesToLoad.length;i+=1){var s=e.imagesToLoad[i];e.loadImage(s,s.currentSrc||s.getAttribute(\"src\"),s.srcset||s.getAttribute(\"srcset\"),s.sizes||s.getAttribute(\"sizes\"),!0,t)}}}},x={},C=function(c){function h(){for(var e,t,a,i=[],s=arguments.length;s--;)i[s]=arguments[s];a=(a=1===i.length&&i[0].constructor&&i[0].constructor===Object?i[0]:(t=(e=i)[0],e[1]))||{},a=ee.extend({},a),t&&!a.el&&(a.el=t),c.call(this,a),Object.keys(T).forEach(function(t){Object.keys(T[t]).forEach(function(e){h.prototype[e]||(h.prototype[e]=T[t][e])})});var r=this;void 0===r.modules&&(r.modules={}),Object.keys(r.modules).forEach(function(e){var t=r.modules[e];if(t.params){var i=Object.keys(t.params)[0],s=t.params[i];if(\"object\"!=typeof s||null===s)return;if(!(i in a&&\"enabled\"in s))return;!0===a[i]&&(a[i]={enabled:!0}),\"object\"!=typeof a[i]||\"enabled\"in a[i]||(a[i].enabled=!0),a[i]||(a[i]={enabled:!1})}});var n=ee.extend({},w);r.useModulesParams(n),r.params=ee.extend({},n,x,a),r.originalParams=ee.extend({},r.params),r.passedParams=ee.extend({},a);var o=(r.$=E)(r.params.el);if(t=o[0]){if(1<o.length){var l=[];return o.each(function(e,t){var i=ee.extend({},a,{el:t});l.push(new h(i))}),l}t.swiper=r,o.data(\"swiper\",r);var d,p,u=o.children(\".\"+r.params.wrapperClass);return ee.extend(r,{$el:o,el:t,$wrapperEl:u,wrapperEl:u[0],classNames:[],slides:E(),slidesGrid:[],snapGrid:[],slidesSizesGrid:[],isHorizontal:function(){return\"horizontal\"===r.params.direction},isVertical:function(){return\"vertical\"===r.params.direction},rtl:\"rtl\"===t.dir.toLowerCase()||\"rtl\"===o.css(\"direction\"),rtlTranslate:\"horizontal\"===r.params.direction&&(\"rtl\"===t.dir.toLowerCase()||\"rtl\"===o.css(\"direction\")),wrongRTL:\"-webkit-box\"===u.css(\"display\"),activeIndex:0,realIndex:0,isBeginning:!0,isEnd:!1,translate:0,previousTranslate:0,progress:0,velocity:0,animating:!1,allowSlideNext:r.params.allowSlideNext,allowSlidePrev:r.params.allowSlidePrev,touchEvents:(d=[\"touchstart\",\"touchmove\",\"touchend\"],p=[\"mousedown\",\"mousemove\",\"mouseup\"],te.pointerEvents?p=[\"pointerdown\",\"pointermove\",\"pointerup\"]:te.prefixedPointerEvents&&(p=[\"MSPointerDown\",\"MSPointerMove\",\"MSPointerUp\"]),r.touchEventsTouch={start:d[0],move:d[1],end:d[2]},r.touchEventsDesktop={start:p[0],move:p[1],end:p[2]},te.touch||!r.params.simulateTouch?r.touchEventsTouch:r.touchEventsDesktop),touchEventsData:{isTouched:void 0,isMoved:void 0,allowTouchCallbacks:void 0,touchStartTime:void 0,isScrolling:void 0,currentTranslate:void 0,startTranslate:void 0,allowThresholdMove:void 0,formElements:\"input, select, option, textarea, button, video\",lastClickTime:ee.now(),clickTimeout:void 0,velocities:[],allowMomentumBounce:void 0,isTouchEvent:void 0,startMoving:void 0},allowClick:!0,allowTouchMove:r.params.allowTouchMove,touches:{startX:0,startY:0,currentX:0,currentY:0,diff:0},imagesToLoad:[],imagesLoaded:0}),r.useModules(),r.params.init&&r.init(),r}}c&&(h.__proto__=c);var e={extendedDefaults:{configurable:!0},defaults:{configurable:!0},Class:{configurable:!0},$:{configurable:!0}};return((h.prototype=Object.create(c&&c.prototype)).constructor=h).prototype.slidesPerViewDynamic=function(){var e=this,t=e.params,i=e.slides,s=e.slidesGrid,a=e.size,r=e.activeIndex,n=1;if(t.centeredSlides){for(var o,l=i[r].swiperSlideSize,d=r+1;d<i.length;d+=1)i[d]&&!o&&(n+=1,a<(l+=i[d].swiperSlideSize)&&(o=!0));for(var p=r-1;0<=p;p-=1)i[p]&&!o&&(n+=1,a<(l+=i[p].swiperSlideSize)&&(o=!0))}else for(var u=r+1;u<i.length;u+=1)s[u]-s[r]<a&&(n+=1);return n},h.prototype.update=function(){var i=this;if(i&&!i.destroyed){var e=i.snapGrid,t=i.params;t.breakpoints&&i.setBreakpoint(),i.updateSize(),i.updateSlides(),i.updateProgress(),i.updateSlidesClasses(),i.params.freeMode?(s(),i.params.autoHeight&&i.updateAutoHeight()):((\"auto\"===i.params.slidesPerView||1<i.params.slidesPerView)&&i.isEnd&&!i.params.centeredSlides?i.slideTo(i.slides.length-1,0,!1,!0):i.slideTo(i.activeIndex,0,!1,!0))||s(),t.watchOverflow&&e!==i.snapGrid&&i.checkOverflow(),i.emit(\"update\")}function s(){var e=i.rtlTranslate?-1*i.translate:i.translate,t=Math.min(Math.max(e,i.maxTranslate()),i.minTranslate());i.setTranslate(t),i.updateActiveIndex(),i.updateSlidesClasses()}},h.prototype.changeDirection=function(i,e){void 0===e&&(e=!0);var t=this,s=t.params.direction;return(i=i||(\"horizontal\"===s?\"vertical\":\"horizontal\"))===s||\"horizontal\"!==i&&\"vertical\"!==i||(t.$el.removeClass(\"\"+t.params.containerModifierClass+s+\" wp8-\"+s).addClass(\"\"+t.params.containerModifierClass+i),(o.isIE||o.isEdge)&&(te.pointerEvents||te.prefixedPointerEvents)&&t.$el.addClass(t.params.containerModifierClass+\"wp8-\"+i),t.params.direction=i,t.slides.each(function(e,t){\"vertical\"===i?t.style.width=\"\":t.style.height=\"\"}),t.emit(\"changeDirection\"),e&&t.update()),t},h.prototype.init=function(){var e=this;e.initialized||(e.emit(\"beforeInit\"),e.params.breakpoints&&e.setBreakpoint(),e.addClasses(),e.params.loop&&e.loopCreate(),e.updateSize(),e.updateSlides(),e.params.watchOverflow&&e.checkOverflow(),e.params.grabCursor&&e.setGrabCursor(),e.params.preloadImages&&e.preloadImages(),e.params.loop?e.slideTo(e.params.initialSlide+e.loopedSlides,0,e.params.runCallbacksOnInit):e.slideTo(e.params.initialSlide,0,e.params.runCallbacksOnInit),e.attachEvents(),e.initialized=!0,e.emit(\"init\"))},h.prototype.destroy=function(e,t){void 0===e&&(e=!0),void 0===t&&(t=!0);var i=this,s=i.params,a=i.$el,r=i.$wrapperEl,n=i.slides;return void 0===i.params||i.destroyed||(i.emit(\"beforeDestroy\"),i.initialized=!1,i.detachEvents(),s.loop&&i.loopDestroy(),t&&(i.removeClasses(),a.removeAttr(\"style\"),r.removeAttr(\"style\"),n&&n.length&&n.removeClass([s.slideVisibleClass,s.slideActiveClass,s.slideNextClass,s.slidePrevClass].join(\" \")).removeAttr(\"style\").removeAttr(\"data-swiper-slide-index\").removeAttr(\"data-swiper-column\").removeAttr(\"data-swiper-row\")),i.emit(\"destroy\"),Object.keys(i.eventsListeners).forEach(function(e){i.off(e)}),!1!==e&&(i.$el[0].swiper=null,i.$el.data(\"swiper\",null),ee.deleteProps(i)),i.destroyed=!0),null},h.extendDefaults=function(e){ee.extend(x,e)},e.extendedDefaults.get=function(){return x},e.defaults.get=function(){return w},e.Class.get=function(){return c},e.$.get=function(){return E},Object.defineProperties(h,e),h}(e),y={name:\"device\",proto:{device:g},static:{device:g}},S={name:\"support\",proto:{support:te},static:{support:te}},M={name:\"browser\",proto:{browser:o},static:{browser:o}},P={name:\"resize\",create:function(){var e=this;ee.extend(e,{resize:{resizeHandler:function(){e&&!e.destroyed&&e.initialized&&(e.emit(\"beforeResize\"),e.emit(\"resize\"))},orientationChangeHandler:function(){e&&!e.destroyed&&e.initialized&&e.emit(\"orientationchange\")}}})},on:{init:function(){J.addEventListener(\"resize\",this.resize.resizeHandler),J.addEventListener(\"orientationchange\",this.resize.orientationChangeHandler)},destroy:function(){J.removeEventListener(\"resize\",this.resize.resizeHandler),J.removeEventListener(\"orientationchange\",this.resize.orientationChangeHandler)}}},k={func:J.MutationObserver||J.WebkitMutationObserver,attach:function(e,t){void 0===t&&(t={});var i=this,s=new k.func(function(e){if(1!==e.length){var t=function(){i.emit(\"observerUpdate\",e[0])};J.requestAnimationFrame?J.requestAnimationFrame(t):J.setTimeout(t,0)}else i.emit(\"observerUpdate\",e[0])});s.observe(e,{attributes:void 0===t.attributes||t.attributes,childList:void 0===t.childList||t.childList,characterData:void 0===t.characterData||t.characterData}),i.observer.observers.push(s)},init:function(){var e=this;if(te.observer&&e.params.observer){if(e.params.observeParents)for(var t=e.$el.parents(),i=0;i<t.length;i+=1)e.observer.attach(t[i]);e.observer.attach(e.$el[0],{childList:e.params.observeSlideChildren}),e.observer.attach(e.$wrapperEl[0],{attributes:!1})}},destroy:function(){this.observer.observers.forEach(function(e){e.disconnect()}),this.observer.observers=[]}},L={name:\"observer\",params:{observer:!1,observeParents:!1,observeSlideChildren:!1},create:function(){ee.extend(this,{observer:{init:k.init.bind(this),attach:k.attach.bind(this),destroy:k.destroy.bind(this),observers:[]}})},on:{init:function(){this.observer.init()},destroy:function(){this.observer.destroy()}}};var D={lastScrollTime:ee.now(),event:-1<J.navigator.userAgent.indexOf(\"firefox\")?\"DOMMouseScroll\":function(){var e=\"onwheel\",t=e in f;if(!t){var i=f.createElement(\"div\");i.setAttribute(e,\"return;\"),t=\"function\"==typeof i[e]}return!t&&f.implementation&&f.implementation.hasFeature&&!0!==f.implementation.hasFeature(\"\",\"\")&&(t=f.implementation.hasFeature(\"Events.wheel\",\"3.0\")),t}()?\"wheel\":\"mousewheel\",normalize:function(e){var t=0,i=0,s=0,a=0;return\"detail\"in e&&(i=e.detail),\"wheelDelta\"in e&&(i=-e.wheelDelta/120),\"wheelDeltaY\"in e&&(i=-e.wheelDeltaY/120),\"wheelDeltaX\"in e&&(t=-e.wheelDeltaX/120),\"axis\"in e&&e.axis===e.HORIZONTAL_AXIS&&(t=i,i=0),s=10*t,a=10*i,\"deltaY\"in e&&(a=e.deltaY),\"deltaX\"in e&&(s=e.deltaX),(s||a)&&e.deltaMode&&(1===e.deltaMode?(s*=40,a*=40):(s*=800,a*=800)),s&&!t&&(t=s<1?-1:1),a&&!i&&(i=a<1?-1:1),{spinX:t,spinY:i,pixelX:s,pixelY:a}},handleMouseEnter:function(){this.mouseEntered=!0},handleMouseLeave:function(){this.mouseEntered=!1},handle:function(e){var t=e,i=this,s=i.params.mousewheel;if(!i.mouseEntered&&!s.releaseOnEdges)return!0;t.originalEvent&&(t=t.originalEvent);var a=0,r=i.rtlTranslate?-1:1,n=D.normalize(t);if(s.forceToAxis)if(i.isHorizontal()){if(!(Math.abs(n.pixelX)>Math.abs(n.pixelY)))return!0;a=n.pixelX*r}else{if(!(Math.abs(n.pixelY)>Math.abs(n.pixelX)))return!0;a=n.pixelY}else a=Math.abs(n.pixelX)>Math.abs(n.pixelY)?-n.pixelX*r:-n.pixelY;if(0===a)return!0;if(s.invert&&(a=-a),i.params.freeMode){i.params.loop&&i.loopFix();var o=i.getTranslate()+a*s.sensitivity,l=i.isBeginning,d=i.isEnd;if(o>=i.minTranslate()&&(o=i.minTranslate()),o<=i.maxTranslate()&&(o=i.maxTranslate()),i.setTransition(0),i.setTranslate(o),i.updateProgress(),i.updateActiveIndex(),i.updateSlidesClasses(),(!l&&i.isBeginning||!d&&i.isEnd)&&i.updateSlidesClasses(),i.params.freeModeSticky&&(clearTimeout(i.mousewheel.timeout),i.mousewheel.timeout=ee.nextTick(function(){i.slideToClosest()},300)),i.emit(\"scroll\",t),i.params.autoplay&&i.params.autoplayDisableOnInteraction&&i.autoplay.stop(),o===i.minTranslate()||o===i.maxTranslate())return!0}else{if(60<ee.now()-i.mousewheel.lastScrollTime)if(a<0)if(i.isEnd&&!i.params.loop||i.animating){if(s.releaseOnEdges)return!0}else i.slideNext(),i.emit(\"scroll\",t);else if(i.isBeginning&&!i.params.loop||i.animating){if(s.releaseOnEdges)return!0}else i.slidePrev(),i.emit(\"scroll\",t);i.mousewheel.lastScrollTime=(new J.Date).getTime()}return t.preventDefault?t.preventDefault():t.returnValue=!1,!1},enable:function(){var e=this;if(!D.event)return!1;if(e.mousewheel.enabled)return!1;var t=e.$el;return\"container\"!==e.params.mousewheel.eventsTarged&&(t=E(e.params.mousewheel.eventsTarged)),t.on(\"mouseenter\",e.mousewheel.handleMouseEnter),t.on(\"mouseleave\",e.mousewheel.handleMouseLeave),t.on(D.event,e.mousewheel.handle),e.mousewheel.enabled=!0},disable:function(){var e=this;if(!D.event)return!1;if(!e.mousewheel.enabled)return!1;var t=e.$el;return\"container\"!==e.params.mousewheel.eventsTarged&&(t=E(e.params.mousewheel.eventsTarged)),t.off(D.event,e.mousewheel.handle),!(e.mousewheel.enabled=!1)}},z={update:function(){var e=this,t=e.params.navigation;if(!e.params.loop){var i=e.navigation,s=i.$nextEl,a=i.$prevEl;a&&0<a.length&&(e.isBeginning?a.addClass(t.disabledClass):a.removeClass(t.disabledClass),a[e.params.watchOverflow&&e.isLocked?\"addClass\":\"removeClass\"](t.lockClass)),s&&0<s.length&&(e.isEnd?s.addClass(t.disabledClass):s.removeClass(t.disabledClass),s[e.params.watchOverflow&&e.isLocked?\"addClass\":\"removeClass\"](t.lockClass))}},onPrevClick:function(e){e.preventDefault(),this.isBeginning&&!this.params.loop||this.slidePrev()},onNextClick:function(e){e.preventDefault(),this.isEnd&&!this.params.loop||this.slideNext()},init:function(){var e,t,i=this,s=i.params.navigation;(s.nextEl||s.prevEl)&&(s.nextEl&&(e=E(s.nextEl),i.params.uniqueNavElements&&\"string\"==typeof s.nextEl&&1<e.length&&1===i.$el.find(s.nextEl).length&&(e=i.$el.find(s.nextEl))),s.prevEl&&(t=E(s.prevEl),i.params.uniqueNavElements&&\"string\"==typeof s.prevEl&&1<t.length&&1===i.$el.find(s.prevEl).length&&(t=i.$el.find(s.prevEl))),e&&0<e.length&&e.on(\"click\",i.navigation.onNextClick),t&&0<t.length&&t.on(\"click\",i.navigation.onPrevClick),ee.extend(i.navigation,{$nextEl:e,nextEl:e&&e[0],$prevEl:t,prevEl:t&&t[0]}))},destroy:function(){var e=this,t=e.navigation,i=t.$nextEl,s=t.$prevEl;i&&i.length&&(i.off(\"click\",e.navigation.onNextClick),i.removeClass(e.params.navigation.disabledClass)),s&&s.length&&(s.off(\"click\",e.navigation.onPrevClick),s.removeClass(e.params.navigation.disabledClass))}},I={update:function(){var e=this,t=e.rtl,a=e.params.pagination;if(a.el&&e.pagination.el&&e.pagination.$el&&0!==e.pagination.$el.length){var r,i=e.virtual&&e.params.virtual.enabled?e.virtual.slides.length:e.slides.length,s=e.pagination.$el,n=e.params.loop?Math.ceil((i-2*e.loopedSlides)/e.params.slidesPerGroup):e.snapGrid.length;if(e.params.loop?((r=Math.ceil((e.activeIndex-e.loopedSlides)/e.params.slidesPerGroup))>i-1-2*e.loopedSlides&&(r-=i-2*e.loopedSlides),n-1<r&&(r-=n),r<0&&\"bullets\"!==e.params.paginationType&&(r=n+r)):r=void 0!==e.snapIndex?e.snapIndex:e.activeIndex||0,\"bullets\"===a.type&&e.pagination.bullets&&0<e.pagination.bullets.length){var o,l,d,p=e.pagination.bullets;if(a.dynamicBullets&&(e.pagination.bulletSize=p.eq(0)[e.isHorizontal()?\"outerWidth\":\"outerHeight\"](!0),s.css(e.isHorizontal()?\"width\":\"height\",e.pagination.bulletSize*(a.dynamicMainBullets+4)+\"px\"),1<a.dynamicMainBullets&&void 0!==e.previousIndex&&(e.pagination.dynamicBulletIndex+=r-e.previousIndex,e.pagination.dynamicBulletIndex>a.dynamicMainBullets-1?e.pagination.dynamicBulletIndex=a.dynamicMainBullets-1:e.pagination.dynamicBulletIndex<0&&(e.pagination.dynamicBulletIndex=0)),o=r-e.pagination.dynamicBulletIndex,d=((l=o+(Math.min(p.length,a.dynamicMainBullets)-1))+o)/2),p.removeClass(a.bulletActiveClass+\" \"+a.bulletActiveClass+\"-next \"+a.bulletActiveClass+\"-next-next \"+a.bulletActiveClass+\"-prev \"+a.bulletActiveClass+\"-prev-prev \"+a.bulletActiveClass+\"-main\"),1<s.length)p.each(function(e,t){var i=E(t),s=i.index();s===r&&i.addClass(a.bulletActiveClass),a.dynamicBullets&&(o<=s&&s<=l&&i.addClass(a.bulletActiveClass+\"-main\"),s===o&&i.prev().addClass(a.bulletActiveClass+\"-prev\").prev().addClass(a.bulletActiveClass+\"-prev-prev\"),s===l&&i.next().addClass(a.bulletActiveClass+\"-next\").next().addClass(a.bulletActiveClass+\"-next-next\"))});else if(p.eq(r).addClass(a.bulletActiveClass),a.dynamicBullets){for(var u=p.eq(o),c=p.eq(l),h=o;h<=l;h+=1)p.eq(h).addClass(a.bulletActiveClass+\"-main\");u.prev().addClass(a.bulletActiveClass+\"-prev\").prev().addClass(a.bulletActiveClass+\"-prev-prev\"),c.next().addClass(a.bulletActiveClass+\"-next\").next().addClass(a.bulletActiveClass+\"-next-next\")}if(a.dynamicBullets){var v=Math.min(p.length,a.dynamicMainBullets+4),f=(e.pagination.bulletSize*v-e.pagination.bulletSize)/2-d*e.pagination.bulletSize,m=t?\"right\":\"left\";p.css(e.isHorizontal()?m:\"top\",f+\"px\")}}if(\"fraction\"===a.type&&(s.find(\".\"+a.currentClass).text(a.formatFractionCurrent(r+1)),s.find(\".\"+a.totalClass).text(a.formatFractionTotal(n))),\"progressbar\"===a.type){var g;g=a.progressbarOpposite?e.isHorizontal()?\"vertical\":\"horizontal\":e.isHorizontal()?\"horizontal\":\"vertical\";var b=(r+1)/n,w=1,T=1;\"horizontal\"===g?w=b:T=b,s.find(\".\"+a.progressbarFillClass).transform(\"translate3d(0,0,0) scaleX(\"+w+\") scaleY(\"+T+\")\").transition(e.params.speed)}\"custom\"===a.type&&a.renderCustom?(s.html(a.renderCustom(e,r+1,n)),e.emit(\"paginationRender\",e,s[0])):e.emit(\"paginationUpdate\",e,s[0]),s[e.params.watchOverflow&&e.isLocked?\"addClass\":\"removeClass\"](a.lockClass)}},render:function(){var e=this,t=e.params.pagination;if(t.el&&e.pagination.el&&e.pagination.$el&&0!==e.pagination.$el.length){var i=e.virtual&&e.params.virtual.enabled?e.virtual.slides.length:e.slides.length,s=e.pagination.$el,a=\"\";if(\"bullets\"===t.type){for(var r=e.params.loop?Math.ceil((i-2*e.loopedSlides)/e.params.slidesPerGroup):e.snapGrid.length,n=0;n<r;n+=1)t.renderBullet?a+=t.renderBullet.call(e,n,t.bulletClass):a+=\"<\"+t.bulletElement+\\' class=\"\\'+t.bulletClass+\\'\"></\\'+t.bulletElement+\">\";s.html(a),e.pagination.bullets=s.find(\".\"+t.bulletClass)}\"fraction\"===t.type&&(a=t.renderFraction?t.renderFraction.call(e,t.currentClass,t.totalClass):\\'<span class=\"\\'+t.currentClass+\\'\"></span> / <span class=\"\\'+t.totalClass+\\'\"></span>\\',s.html(a)),\"progressbar\"===t.type&&(a=t.renderProgressbar?t.renderProgressbar.call(e,t.progressbarFillClass):\\'<span class=\"\\'+t.progressbarFillClass+\\'\"></span>\\',s.html(a)),\"custom\"!==t.type&&e.emit(\"paginationRender\",e.pagination.$el[0])}},init:function(){var i=this,e=i.params.pagination;if(e.el){var t=E(e.el);0!==t.length&&(i.params.uniqueNavElements&&\"string\"==typeof e.el&&1<t.length&&1===i.$el.find(e.el).length&&(t=i.$el.find(e.el)),\"bullets\"===e.type&&e.clickable&&t.addClass(e.clickableClass),t.addClass(e.modifierClass+e.type),\"bullets\"===e.type&&e.dynamicBullets&&(t.addClass(\"\"+e.modifierClass+e.type+\"-dynamic\"),i.pagination.dynamicBulletIndex=0,e.dynamicMainBullets<1&&(e.dynamicMainBullets=1)),\"progressbar\"===e.type&&e.progressbarOpposite&&t.addClass(e.progressbarOppositeClass),e.clickable&&t.on(\"click\",\".\"+e.bulletClass,function(e){e.preventDefault();var t=E(this).index()*i.params.slidesPerGroup;i.params.loop&&(t+=i.loopedSlides),i.slideTo(t)}),ee.extend(i.pagination,{$el:t,el:t[0]}))}},destroy:function(){var e=this,t=e.params.pagination;if(t.el&&e.pagination.el&&e.pagination.$el&&0!==e.pagination.$el.length){var i=e.pagination.$el;i.removeClass(t.hiddenClass),i.removeClass(t.modifierClass+t.type),e.pagination.bullets&&e.pagination.bullets.removeClass(t.bulletActiveClass),t.clickable&&i.off(\"click\",\".\"+t.bulletClass)}}},O={setTranslate:function(){var e=this;if(e.params.scrollbar.el&&e.scrollbar.el){var t=e.scrollbar,i=e.rtlTranslate,s=e.progress,a=t.dragSize,r=t.trackSize,n=t.$dragEl,o=t.$el,l=e.params.scrollbar,d=a,p=(r-a)*s;i?0<(p=-p)?(d=a-p,p=0):r<-p+a&&(d=r+p):p<0?(d=a+p,p=0):r<p+a&&(d=r-p),e.isHorizontal()?(te.transforms3d?n.transform(\"translate3d(\"+p+\"px, 0, 0)\"):n.transform(\"translateX(\"+p+\"px)\"),n[0].style.width=d+\"px\"):(te.transforms3d?n.transform(\"translate3d(0px, \"+p+\"px, 0)\"):n.transform(\"translateY(\"+p+\"px)\"),n[0].style.height=d+\"px\"),l.hide&&(clearTimeout(e.scrollbar.timeout),o[0].style.opacity=1,e.scrollbar.timeout=setTimeout(function(){o[0].style.opacity=0,o.transition(400)},1e3))}},setTransition:function(e){this.params.scrollbar.el&&this.scrollbar.el&&this.scrollbar.$dragEl.transition(e)},updateSize:function(){var e=this;if(e.params.scrollbar.el&&e.scrollbar.el){var t=e.scrollbar,i=t.$dragEl,s=t.$el;i[0].style.width=\"\",i[0].style.height=\"\";var a,r=e.isHorizontal()?s[0].offsetWidth:s[0].offsetHeight,n=e.size/e.virtualSize,o=n*(r/e.size);a=\"auto\"===e.params.scrollbar.dragSize?r*n:parseInt(e.params.scrollbar.dragSize,10),e.isHorizontal()?i[0].style.width=a+\"px\":i[0].style.height=a+\"px\",s[0].style.display=1<=n?\"none\":\"\",e.params.scrollbar.hide&&(s[0].style.opacity=0),ee.extend(t,{trackSize:r,divider:n,moveDivider:o,dragSize:a}),t.$el[e.params.watchOverflow&&e.isLocked?\"addClass\":\"removeClass\"](e.params.scrollbar.lockClass)}},setDragPosition:function(e){var t,i=this,s=i.scrollbar,a=i.rtlTranslate,r=s.$el,n=s.dragSize,o=s.trackSize;t=((i.isHorizontal()?\"touchstart\"===e.type||\"touchmove\"===e.type?e.targetTouches[0].pageX:e.pageX||e.clientX:\"touchstart\"===e.type||\"touchmove\"===e.type?e.targetTouches[0].pageY:e.pageY||e.clientY)-r.offset()[i.isHorizontal()?\"left\":\"top\"]-n/2)/(o-n),t=Math.max(Math.min(t,1),0),a&&(t=1-t);var l=i.minTranslate()+(i.maxTranslate()-i.minTranslate())*t;i.updateProgress(l),i.setTranslate(l),i.updateActiveIndex(),i.updateSlidesClasses()},onDragStart:function(e){var t=this,i=t.params.scrollbar,s=t.scrollbar,a=t.$wrapperEl,r=s.$el,n=s.$dragEl;t.scrollbar.isTouched=!0,e.preventDefault(),e.stopPropagation(),a.transition(100),n.transition(100),s.setDragPosition(e),clearTimeout(t.scrollbar.dragTimeout),r.transition(0),i.hide&&r.css(\"opacity\",1),t.emit(\"scrollbarDragStart\",e)},onDragMove:function(e){var t=this.scrollbar,i=this.$wrapperEl,s=t.$el,a=t.$dragEl;this.scrollbar.isTouched&&(e.preventDefault?e.preventDefault():e.returnValue=!1,t.setDragPosition(e),i.transition(0),s.transition(0),a.transition(0),this.emit(\"scrollbarDragMove\",e))},onDragEnd:function(e){var t=this,i=t.params.scrollbar,s=t.scrollbar.$el;t.scrollbar.isTouched&&(t.scrollbar.isTouched=!1,i.hide&&(clearTimeout(t.scrollbar.dragTimeout),t.scrollbar.dragTimeout=ee.nextTick(function(){s.css(\"opacity\",0),s.transition(400)},1e3)),t.emit(\"scrollbarDragEnd\",e),i.snapOnRelease&&t.slideToClosest())},enableDraggable:function(){var e=this;if(e.params.scrollbar.el){var t=e.scrollbar,i=e.touchEventsTouch,s=e.touchEventsDesktop,a=e.params,r=t.$el[0],n=!(!te.passiveListener||!a.passiveListeners)&&{passive:!1,capture:!1},o=!(!te.passiveListener||!a.passiveListeners)&&{passive:!0,capture:!1};te.touch?(r.addEventListener(i.start,e.scrollbar.onDragStart,n),r.addEventListener(i.move,e.scrollbar.onDragMove,n),r.addEventListener(i.end,e.scrollbar.onDragEnd,o)):(r.addEventListener(s.start,e.scrollbar.onDragStart,n),f.addEventListener(s.move,e.scrollbar.onDragMove,n),f.addEventListener(s.end,e.scrollbar.onDragEnd,o))}},disableDraggable:function(){var e=this;if(e.params.scrollbar.el){var t=e.scrollbar,i=e.touchEventsTouch,s=e.touchEventsDesktop,a=e.params,r=t.$el[0],n=!(!te.passiveListener||!a.passiveListeners)&&{passive:!1,capture:!1},o=!(!te.passiveListener||!a.passiveListeners)&&{passive:!0,capture:!1};te.touch?(r.removeEventListener(i.start,e.scrollbar.onDragStart,n),r.removeEventListener(i.move,e.scrollbar.onDragMove,n),r.removeEventListener(i.end,e.scrollbar.onDragEnd,o)):(r.removeEventListener(s.start,e.scrollbar.onDragStart,n),f.removeEventListener(s.move,e.scrollbar.onDragMove,n),f.removeEventListener(s.end,e.scrollbar.onDragEnd,o))}},init:function(){var e=this;if(e.params.scrollbar.el){var t=e.scrollbar,i=e.$el,s=e.params.scrollbar,a=E(s.el);e.params.uniqueNavElements&&\"string\"==typeof s.el&&1<a.length&&1===i.find(s.el).length&&(a=i.find(s.el));var r=a.find(\".\"+e.params.scrollbar.dragClass);0===r.length&&(r=E(\\'<div class=\"\\'+e.params.scrollbar.dragClass+\\'\"></div>\\'),a.append(r)),ee.extend(t,{$el:a,el:a[0],$dragEl:r,dragEl:r[0]}),s.draggable&&t.enableDraggable()}},destroy:function(){this.scrollbar.disableDraggable()}},A={run:function(){var e=this,t=e.slides.eq(e.activeIndex),i=e.params.autoplay.delay;t.attr(\"data-swiper-autoplay\")&&(i=t.attr(\"data-swiper-autoplay\")||e.params.autoplay.delay),clearTimeout(e.autoplay.timeout),e.autoplay.timeout=ee.nextTick(function(){e.params.autoplay.reverseDirection?e.params.loop?(e.loopFix(),e.slidePrev(e.params.speed,!0,!0),e.emit(\"autoplay\")):e.isBeginning?e.params.autoplay.stopOnLastSlide?e.autoplay.stop():(e.slideTo(e.slides.length-1,e.params.speed,!0,!0),e.emit(\"autoplay\")):(e.slidePrev(e.params.speed,!0,!0),e.emit(\"autoplay\")):e.params.loop?(e.loopFix(),e.slideNext(e.params.speed,!0,!0),e.emit(\"autoplay\")):e.isEnd?e.params.autoplay.stopOnLastSlide?e.autoplay.stop():(e.slideTo(0,e.params.speed,!0,!0),e.emit(\"autoplay\")):(e.slideNext(e.params.speed,!0,!0),e.emit(\"autoplay\"))},i)},start:function(){var e=this;return void 0===e.autoplay.timeout&&(!e.autoplay.running&&(e.autoplay.running=!0,e.emit(\"autoplayStart\"),e.autoplay.run(),!0))},stop:function(){var e=this;return!!e.autoplay.running&&(void 0!==e.autoplay.timeout&&(e.autoplay.timeout&&(clearTimeout(e.autoplay.timeout),e.autoplay.timeout=void 0),e.autoplay.running=!1,e.emit(\"autoplayStop\"),!0))},pause:function(e){var t=this;t.autoplay.running&&(t.autoplay.paused||(t.autoplay.timeout&&clearTimeout(t.autoplay.timeout),t.autoplay.paused=!0,0!==e&&t.params.autoplay.waitForTransition?(t.$wrapperEl[0].addEventListener(\"transitionend\",t.autoplay.onTransitionEnd),t.$wrapperEl[0].addEventListener(\"webkitTransitionEnd\",t.autoplay.onTransitionEnd)):(t.autoplay.paused=!1,t.autoplay.run())))}},$={setTranslate:function(){for(var e=this,t=e.slides,i=0;i<t.length;i+=1){var s=e.slides.eq(i),a=-s[0].swiperSlideOffset;e.params.virtualTranslate||(a-=e.translate);var r=0;e.isHorizontal()||(r=a,a=0);var n=e.params.fadeEffect.crossFade?Math.max(1-Math.abs(s[0].progress),0):1+Math.min(Math.max(s[0].progress,-1),0);s.css({opacity:n}).transform(\"translate3d(\"+a+\"px, \"+r+\"px, 0px)\")}},setTransition:function(e){var i=this,t=i.slides,s=i.$wrapperEl;if(t.transition(e),i.params.virtualTranslate&&0!==e){var a=!1;t.transitionEnd(function(){if(!a&&i&&!i.destroyed){a=!0,i.animating=!1;for(var e=[\"webkitTransitionEnd\",\"transitionend\"],t=0;t<e.length;t+=1)s.trigger(e[t])}})}}},B={setTranslate:function(){for(var e=this,t=e.width,i=e.height,s=e.slides,a=e.$wrapperEl,r=e.slidesSizesGrid,n=e.params.coverflowEffect,o=e.isHorizontal(),l=e.translate,d=o?t/2-l:i/2-l,p=o?n.rotate:-n.rotate,u=n.depth,c=0,h=s.length;c<h;c+=1){var v=s.eq(c),f=r[c],m=(d-v[0].swiperSlideOffset-f/2)/f*n.modifier,g=o?p*m:0,b=o?0:p*m,w=-u*Math.abs(m),T=o?0:n.stretch*m,x=o?n.stretch*m:0;Math.abs(x)<.001&&(x=0),Math.abs(T)<.001&&(T=0),Math.abs(w)<.001&&(w=0),Math.abs(g)<.001&&(g=0),Math.abs(b)<.001&&(b=0);var C=\"translate3d(\"+x+\"px,\"+T+\"px,\"+w+\"px)  rotateX(\"+b+\"deg) rotateY(\"+g+\"deg)\";if(v.transform(C),v[0].style.zIndex=1-Math.abs(Math.round(m)),n.slideShadows){var y=o?v.find(\".swiper-slide-shadow-left\"):v.find(\".swiper-slide-shadow-top\"),S=o?v.find(\".swiper-slide-shadow-right\"):v.find(\".swiper-slide-shadow-bottom\");0===y.length&&(y=E(\\'<div class=\"swiper-slide-shadow-\\'+(o?\"left\":\"top\")+\\'\"></div>\\'),v.append(y)),0===S.length&&(S=E(\\'<div class=\"swiper-slide-shadow-\\'+(o?\"right\":\"bottom\")+\\'\"></div>\\'),v.append(S)),y.length&&(y[0].style.opacity=0<m?m:0),S.length&&(S[0].style.opacity=0<-m?-m:0)}}(te.pointerEvents||te.prefixedPointerEvents)&&(a[0].style.perspectiveOrigin=d+\"px 50%\")},setTransition:function(e){this.slides.transition(e).find(\".swiper-slide-shadow-top, .swiper-slide-shadow-right, .swiper-slide-shadow-bottom, .swiper-slide-shadow-left\").transition(e)}},V={init:function(){var e=this,t=e.params.thumbs,i=e.constructor;t.swiper instanceof i?(e.thumbs.swiper=t.swiper,ee.extend(e.thumbs.swiper.originalParams,{watchSlidesProgress:!0,slideToClickedSlide:!1}),ee.extend(e.thumbs.swiper.params,{watchSlidesProgress:!0,slideToClickedSlide:!1})):ee.isObject(t.swiper)&&(e.thumbs.swiper=new i(ee.extend({},t.swiper,{watchSlidesVisibility:!0,watchSlidesProgress:!0,slideToClickedSlide:!1})),e.thumbs.swiperCreated=!0),e.thumbs.swiper.$el.addClass(e.params.thumbs.thumbsContainerClass),e.thumbs.swiper.on(\"tap\",e.thumbs.onThumbClick)},onThumbClick:function(){var e=this,t=e.thumbs.swiper;if(t){var i=t.clickedIndex,s=t.clickedSlide;if(!(s&&E(s).hasClass(e.params.thumbs.slideThumbActiveClass)||null==i)){var a;if(a=t.params.loop?parseInt(E(t.clickedSlide).attr(\"data-swiper-slide-index\"),10):i,e.params.loop){var r=e.activeIndex;e.slides.eq(r).hasClass(e.params.slideDuplicateClass)&&(e.loopFix(),e._clientLeft=e.$wrapperEl[0].clientLeft,r=e.activeIndex);var n=e.slides.eq(r).prevAll(\\'[data-swiper-slide-index=\"\\'+a+\\'\"]\\').eq(0).index(),o=e.slides.eq(r).nextAll(\\'[data-swiper-slide-index=\"\\'+a+\\'\"]\\').eq(0).index();a=void 0===n?o:void 0===o?n:o-r<r-n?o:n}e.slideTo(a)}}},update:function(e){var t=this,i=t.thumbs.swiper;if(i){var s=\"auto\"===i.params.slidesPerView?i.slidesPerViewDynamic():i.params.slidesPerView;if(t.realIndex!==i.realIndex){var a,r=i.activeIndex;if(i.params.loop){i.slides.eq(r).hasClass(i.params.slideDuplicateClass)&&(i.loopFix(),i._clientLeft=i.$wrapperEl[0].clientLeft,r=i.activeIndex);var n=i.slides.eq(r).prevAll(\\'[data-swiper-slide-index=\"\\'+t.realIndex+\\'\"]\\').eq(0).index(),o=i.slides.eq(r).nextAll(\\'[data-swiper-slide-index=\"\\'+t.realIndex+\\'\"]\\').eq(0).index();a=void 0===n?o:void 0===o?n:o-r==r-n?r:o-r<r-n?o:n}else a=t.realIndex;i.visibleSlidesIndexes&&i.visibleSlidesIndexes.indexOf(a)<0&&(i.params.centeredSlides?a=r<a?a-Math.floor(s/2)+1:a+Math.floor(s/2)-1:r<a&&(a=a-s+1),i.slideTo(a,e?0:void 0))}var l=1,d=t.params.thumbs.slideThumbActiveClass;if(1<t.params.slidesPerView&&!t.params.centeredSlides&&(l=t.params.slidesPerView),i.slides.removeClass(d),i.params.loop)for(var p=0;p<l;p+=1)i.$wrapperEl.children(\\'[data-swiper-slide-index=\"\\'+(t.realIndex+p)+\\'\"]\\').addClass(d);else for(var u=0;u<l;u+=1)i.slides.eq(t.realIndex+u).addClass(d)}}},N=[y,S,M,P,L,{name:\"autoplay\",params:{autoplay:{enabled:!1,delay:3e3,waitForTransition:!0,disableOnInteraction:!0,stopOnLastSlide:!1,reverseDirection:!1}},create:function(){var t=this;ee.extend(t,{autoplay:{running:!1,paused:!1,run:A.run.bind(t),start:A.start.bind(t),stop:A.stop.bind(t),pause:A.pause.bind(t),onTransitionEnd:function(e){t&&!t.destroyed&&t.$wrapperEl&&e.target===this&&(t.$wrapperEl[0].removeEventListener(\"transitionend\",t.autoplay.onTransitionEnd),t.$wrapperEl[0].removeEventListener(\"webkitTransitionEnd\",t.autoplay.onTransitionEnd),t.autoplay.paused=!1,t.autoplay.running?t.autoplay.run():t.autoplay.stop())}}})},on:{init:function(){this.params.autoplay.enabled&&this.autoplay.start()},beforeTransitionStart:function(e,t){this.autoplay.running&&(t||!this.params.autoplay.disableOnInteraction?this.autoplay.pause(e):this.autoplay.stop())},sliderFirstMove:function(){this.autoplay.running&&(this.params.autoplay.disableOnInteraction?this.autoplay.stop():this.autoplay.pause())},destroy:function(){this.autoplay.running&&this.autoplay.stop()}}},{name:\"mousewheel\",params:{mousewheel:{enabled:!1,releaseOnEdges:!1,invert:!1,forceToAxis:!1,sensitivity:1,eventsTarged:\"container\"}},create:function(){var e=this;ee.extend(e,{mousewheel:{enabled:!1,enable:D.enable.bind(e),disable:D.disable.bind(e),handle:D.handle.bind(e),handleMouseEnter:D.handleMouseEnter.bind(e),handleMouseLeave:D.handleMouseLeave.bind(e),lastScrollTime:ee.now()}})},on:{init:function(){this.params.mousewheel.enabled&&this.mousewheel.enable()},destroy:function(){this.mousewheel.enabled&&this.mousewheel.disable()}}},{name:\"navigation\",params:{navigation:{nextEl:null,prevEl:null,hideOnClick:!1,disabledClass:\"swiper-button-disabled\",hiddenClass:\"swiper-button-hidden\",lockClass:\"swiper-button-lock\"}},create:function(){var e=this;ee.extend(e,{navigation:{init:z.init.bind(e),update:z.update.bind(e),destroy:z.destroy.bind(e),onNextClick:z.onNextClick.bind(e),onPrevClick:z.onPrevClick.bind(e)}})},on:{init:function(){this.navigation.init(),this.navigation.update()},toEdge:function(){this.navigation.update()},fromEdge:function(){this.navigation.update()},destroy:function(){this.navigation.destroy()},click:function(e){var t,i=this,s=i.navigation,a=s.$nextEl,r=s.$prevEl;!i.params.navigation.hideOnClick||E(e.target).is(r)||E(e.target).is(a)||(a?t=a.hasClass(i.params.navigation.hiddenClass):r&&(t=r.hasClass(i.params.navigation.hiddenClass)),!0===t?i.emit(\"navigationShow\",i):i.emit(\"navigationHide\",i),a&&a.toggleClass(i.params.navigation.hiddenClass),r&&r.toggleClass(i.params.navigation.hiddenClass))}}},{name:\"pagination\",params:{pagination:{el:null,bulletElement:\"span\",clickable:!1,hideOnClick:!1,renderBullet:null,renderProgressbar:null,renderFraction:null,renderCustom:null,progressbarOpposite:!1,type:\"bullets\",dynamicBullets:!1,dynamicMainBullets:1,formatFractionCurrent:function(e){return e},formatFractionTotal:function(e){return e},bulletClass:\"swiper-pagination-bullet\",bulletActiveClass:\"swiper-pagination-bullet-active\",modifierClass:\"swiper-pagination-\",currentClass:\"swiper-pagination-current\",totalClass:\"swiper-pagination-total\",hiddenClass:\"swiper-pagination-hidden\",progressbarFillClass:\"swiper-pagination-progressbar-fill\",progressbarOppositeClass:\"swiper-pagination-progressbar-opposite\",clickableClass:\"swiper-pagination-clickable\",lockClass:\"swiper-pagination-lock\"}},create:function(){var e=this;ee.extend(e,{pagination:{init:I.init.bind(e),render:I.render.bind(e),update:I.update.bind(e),destroy:I.destroy.bind(e),dynamicBulletIndex:0}})},on:{init:function(){this.pagination.init(),this.pagination.render(),this.pagination.update()},activeIndexChange:function(){this.params.loop?this.pagination.update():void 0===this.snapIndex&&this.pagination.update()},snapIndexChange:function(){this.params.loop||this.pagination.update()},slidesLengthChange:function(){this.params.loop&&(this.pagination.render(),this.pagination.update())},snapGridLengthChange:function(){this.params.loop||(this.pagination.render(),this.pagination.update())},destroy:function(){this.pagination.destroy()},click:function(e){var t=this;t.params.pagination.el&&t.params.pagination.hideOnClick&&0<t.pagination.$el.length&&!E(e.target).hasClass(t.params.pagination.bulletClass)&&(!0===t.pagination.$el.hasClass(t.params.pagination.hiddenClass)?t.emit(\"paginationShow\",t):t.emit(\"paginationHide\",t),t.pagination.$el.toggleClass(t.params.pagination.hiddenClass))}}},{name:\"scrollbar\",params:{scrollbar:{el:null,dragSize:\"auto\",hide:!1,draggable:!1,snapOnRelease:!0,lockClass:\"swiper-scrollbar-lock\",dragClass:\"swiper-scrollbar-drag\"}},create:function(){var e=this;ee.extend(e,{scrollbar:{init:O.init.bind(e),destroy:O.destroy.bind(e),updateSize:O.updateSize.bind(e),setTranslate:O.setTranslate.bind(e),setTransition:O.setTransition.bind(e),enableDraggable:O.enableDraggable.bind(e),disableDraggable:O.disableDraggable.bind(e),setDragPosition:O.setDragPosition.bind(e),onDragStart:O.onDragStart.bind(e),onDragMove:O.onDragMove.bind(e),onDragEnd:O.onDragEnd.bind(e),isTouched:!1,timeout:null,dragTimeout:null}})},on:{init:function(){this.scrollbar.init(),this.scrollbar.updateSize(),this.scrollbar.setTranslate()},update:function(){this.scrollbar.updateSize()},resize:function(){this.scrollbar.updateSize()},observerUpdate:function(){this.scrollbar.updateSize()},setTranslate:function(){this.scrollbar.setTranslate()},setTransition:function(e){this.scrollbar.setTransition(e)},destroy:function(){this.scrollbar.destroy()}}},{name:\"thumbs\",params:{thumbs:{swiper:null,slideThumbActiveClass:\"swiper-slide-thumb-active\",thumbsContainerClass:\"swiper-container-thumbs\"}},create:function(){ee.extend(this,{thumbs:{swiper:null,init:V.init.bind(this),update:V.update.bind(this),onThumbClick:V.onThumbClick.bind(this)}})},on:{beforeInit:function(){var e=this.params.thumbs;e&&e.swiper&&(this.thumbs.init(),this.thumbs.update(!0))},slideChange:function(){this.thumbs.swiper&&this.thumbs.update()},update:function(){this.thumbs.swiper&&this.thumbs.update()},resize:function(){this.thumbs.swiper&&this.thumbs.update()},observerUpdate:function(){this.thumbs.swiper&&this.thumbs.update()},setTransition:function(e){var t=this.thumbs.swiper;t&&t.setTransition(e)},beforeDestroy:function(){var e=this.thumbs.swiper;e&&this.thumbs.swiperCreated&&e&&e.destroy()}}},{name:\"effect-fade\",params:{fadeEffect:{crossFade:!1}},create:function(){ee.extend(this,{fadeEffect:{setTranslate:$.setTranslate.bind(this),setTransition:$.setTransition.bind(this)}})},on:{beforeInit:function(){var e=this;if(\"fade\"===e.params.effect){e.classNames.push(e.params.containerModifierClass+\"fade\");var t={slidesPerView:1,slidesPerColumn:1,slidesPerGroup:1,watchSlidesProgress:!0,spaceBetween:0,virtualTranslate:!0};ee.extend(e.params,t),ee.extend(e.originalParams,t)}},setTranslate:function(){\"fade\"===this.params.effect&&this.fadeEffect.setTranslate()},setTransition:function(e){\"fade\"===this.params.effect&&this.fadeEffect.setTransition(e)}}},{name:\"effect-coverflow\",params:{coverflowEffect:{rotate:50,stretch:0,depth:100,modifier:1,slideShadows:!0}},create:function(){ee.extend(this,{coverflowEffect:{setTranslate:B.setTranslate.bind(this),setTransition:B.setTransition.bind(this)}})},on:{beforeInit:function(){var e=this;\"coverflow\"===e.params.effect&&(e.classNames.push(e.params.containerModifierClass+\"coverflow\"),e.classNames.push(e.params.containerModifierClass+\"3d\"),e.params.watchSlidesProgress=!0,e.originalParams.watchSlidesProgress=!0)},setTranslate:function(){\"coverflow\"===this.params.effect&&this.coverflowEffect.setTranslate()},setTransition:function(e){\"coverflow\"===this.params.effect&&this.coverflowEffect.setTransition(e)}}}];return void 0===C.use&&(C.use=C.Class.use,C.installModule=C.Class.installModule),C.use(N),C});\\ndocument.addEventListener(\\'DOMContentLoaded\\', function() {\\n    var slider = new Swiper(\\'.tmpl_hh_atmosphere .swiper-container\\', {\\n        loop: true,\\n        loopedSlides: 3,\\n        watchSlidesProgress: true,\\n        watchSlidesVisibility: true,\\n        effect: \\'coverflow\\',\\n        slidesPerView: 1.2,\\n        spaceBetween: 30,\\n        centeredSlides: true,\\n        observer: true,\\n        observeParents: true,\\n        slideToClickedSlide: true,\\n        speed: 800,\\n        coverflowEffect: {\\n            slideShadows: false,\\n            rotate: 0,\\n            stretch: 500,\\n            depth: 80,\\n            modifier: 1\\n        },\\n        navigation: {\\n            prevEl: \\'.tmpl_hh_atmosphere .swiper-button-prev\\',\\n            nextEl: \\'.tmpl_hh_atmosphere .swiper-button-next\\'\\n        },\\n        pagination: {\\n            el: \\'.tmpl_hh_atmosphere .swiper-pagination\\',\\n            clickable: true\\n        },\\n        breakpoints: {\\n            1019: {\\n                effect: \\'slide\\',\\n                slidesPerView: 1\\n            }\\n        }\\n    });\\n});\\n//\\n</script>\\n\\n\\n    <div class=\"tmpl_hh_wrapper\">\\n        <div class=\"tmpl_hh_banner\"><img class=\"tmpl_hh_logo\" src=\"https://hhcdn.ru/ichameleon/190196.png\" alt=\"\"><img src=\"https://hhcdn.ru/ichameleon/173678.jpg\" alt=\"\"></div>\\n        <div class=\"tmpl_hh_inner_wrapper\">\\n            <div class=\"tmpl_hh_content\">\\n        <p>Наша команда занимается проработкой образовательных продуктовых решений и сервисов в сегментах 0-6, 7-13, 14-17</p> <p><strong>Обязанности:</strong></p> <ul> <li>анализ рынка образования, поиск новых решений и ниш для сегмента дети и подростки;</li> <li>исследование потребностей детей и их родителей в рамках индустрии образования;</li> <li>разработка интеграций и партнерств в рамках производимого контента/сервисов;</li> <li>методологическая проработка образовательных проектов для детей;</li> <li>формирование продуктовых заказов в сторону индустрии образования, расчет финансово-экономического обоснования и согласование его со смежными подразделениями;</li> <li>приоритизация продуктовых заказов согласно выполнению стратегии Банка и экосистемы</li> </ul> <strong>Требования:</strong> <ul> <li>высокая степень клиентоцентричности и эмпатии;</li> <li>горящие глаза и готовность сворачивать горы;</li> <li>знание рынка образования и процессов по созданию образовательных решений;</li> <li>знание процесса создания образовательного контента;</li> <li>коммуникабельность, умение налаживать взаимоотношения с большим количеством контрагентов;</li> <li>опыт работы на образовательных сервисах: в учи.ру, алгоритмика, нетология, фоксфорд, яндекс учебник;</li> <li>готовность работать в условиях многозадачности;</li> <li>готовность ставить потребности клиента во главу угла и находить cost-effective решения;</li> <li>высшее образование</li> </ul> <strong>Условия:</strong> <ul> <li>совершенно новый, современный IT-офис на м. Кутузовская (офисный режим работы);</li> <li>полностью укомплектованное рабочее место;</li> <li>интересные, сложные, амбициозные задачи;</li> <li>возможность профильного обучения (обучение и сертификация за счёт компании);</li> <li>профессиональный рост в молодой и сильной команде;</li> <li>стабильная, конкурентная «белая» заработная плата (оклад + премии);</li> <li>льготные условия по кредитам СберБанка;</li> <li>ДМС, страхование от несчастных случаев, социальные гарантии, корпоративные мероприятия;</li> <li>тренажёрный зал.</li> </ul></div>\\n        </div>\\n        <div class=\"tmpl_hh_atmosphere\">\\n            <div class=\"tmpl_hh_inner_wrapper\">\\n                <p class=\"tmpl_hh_title\">Атмосфера</p>\\n            </div>\\n            <div class=\"tmpl_hh_atmosphere__slider\">\\n                <div class=\"swiper-container\">\\n                    <div class=\"swiper-wrapper\">\\n                        <div class=\"swiper-slide\"><img src=\"https://hhcdn.ru/ichameleon/171222.jpg\" alt=\"\"></div>\\n                        <div class=\"swiper-slide\"><img src=\"https://hhcdn.ru/ichameleon/171220.jpg\" alt=\"\"></div>\\n                        <div class=\"swiper-slide\"><img src=\"https://hhcdn.ru/ichameleon/171219.jpg\" alt=\"\"></div>\\n                        <div class=\"swiper-slide\"><img src=\"https://hhcdn.ru/ichameleon/171225.jpg\" alt=\"\"></div>\\n                        <div class=\"swiper-slide\"><img src=\"https://hhcdn.ru/ichameleon/171223.jpg\" alt=\"\"></div>\\n                        <div class=\"swiper-slide\"><img src=\"https://hhcdn.ru/ichameleon/171224.jpg\" alt=\"\"></div>\\n                        <div class=\"swiper-slide\"><img src=\"https://hhcdn.ru/ichameleon/171221.jpg\" alt=\"\"></div>\\n                        <div class=\"swiper-slide\"><img src=\"https://hhcdn.ru/ichameleon/171226.jpg\" alt=\"\"></div>\\n                    </div>\\n                </div>\\n                <div class=\"swiper-pagination\"></div>\\n                <div class=\"tmpl_hh_control\">\\n                    <div class=\"swiper-button-prev\"></div>\\n                    <div class=\"swiper-button-next\"></div>\\n                </div>\\n            </div>\\n        </div>\\n\\n        <div class=\"tmpl_hh_inner_wrapper\">\\n            <div class=\"tmpl_hh_conditions\">\\n                <p class=\"tmpl_hh_title\">Работа в Сбере – это:</p>\\n                <div class=\"tmpl_hh_conditions__container\">\\n                    <div class=\"tmpl_hh_item\">\\n                        <div class=\"tmpl_hh_item__icon\"><img src=\"https://hhcdn.ru/ichameleon/217978.svg\" alt=\"\"></div>\\n                        <p>Обучение за счет компании: онлайн курсы в Виртуальной школе Сбера, возможность получить новую квалификацию</p>\\n                    </div>\\n                    <div class=\"tmpl_hh_item\">\\n                        <div class=\"tmpl_hh_item__icon\"><img src=\"https://hhcdn.ru/ichameleon/217979.svg\" alt=\"\"></div>\\n                        <p>Реферальная программа для сотрудников: пригласи в команду знакомых профессионалов и получи свое вознаграждение до 100 тыс. рублей</p>\\n                    </div>\\n                    <div class=\"tmpl_hh_item\">\\n                        <div class=\"tmpl_hh_item__icon\"><img src=\"https://hhcdn.ru/ichameleon/217980.svg\" alt=\"\"></div>\\n                        <p>Курсы для будущих родителей, материальная поддержка молодых мам, детский отдых и подарки за счет компании</p>\\n                    </div>\\n                    <div class=\"tmpl_hh_item\">\\n                        <div class=\"tmpl_hh_item__icon\"><img src=\"https://hhcdn.ru/ichameleon/217981.svg\" alt=\"\"></div>\\n                        <p>Корпоративная пенсионная программа</p>\\n                    </div>\\n                </div>\\n            </div>\\n\\n            <div class=\"tmpl_hh_making_better\">\\n                <p class=\"tmpl_hh_title\">Делай мир лучше со Сбером</p>\\n                <div class=\"tmpl_hh_video\">\\n                    <iframe src=\"https://vk.com/video_ext.php?oid=-22522055&amp;id=456241978&amp;hash=a4550409f2697c18&amp;hd=1\" allow=\"autoplay; encrypted-media; fullscreen; picture-in-picture;\" frameborder=\"0\" allowfullscreen=\"allowfullscreen\"></iframe>\\n                </div>\\n            </div>\\n        </div>\\n    </div>\\n\\n',\n",
       " 'vacancy_constructor_template': None,\n",
       " 'key_skills': [],\n",
       " 'accept_handicapped': False,\n",
       " 'accept_kids': False,\n",
       " 'archived': False,\n",
       " 'response_url': None,\n",
       " 'specializations': [],\n",
       " 'professional_roles': [{'id': '40', 'name': 'Другое'}],\n",
       " 'code': None,\n",
       " 'hidden': False,\n",
       " 'quick_responses_allowed': False,\n",
       " 'driver_license_types': [],\n",
       " 'accept_incomplete_resumes': False,\n",
       " 'employer': {'id': '3529',\n",
       "  'name': 'СБЕР',\n",
       "  'url': 'https://api.hh.ru/employers/3529',\n",
       "  'alternate_url': 'https://hh.ru/employer/3529',\n",
       "  'logo_urls': {'240': 'https://hhcdn.ru/employer-logo/5756157.png',\n",
       "   '90': 'https://hhcdn.ru/employer-logo/5756156.png',\n",
       "   'original': 'https://hhcdn.ru/employer-logo-original/1033849.png'},\n",
       "  'vacancies_url': 'https://api.hh.ru/vacancies?employer_id=3529',\n",
       "  'trusted': True},\n",
       " 'published_at': '2023-03-29T13:06:56+0300',\n",
       " 'created_at': '2023-03-29T13:06:56+0300',\n",
       " 'initial_created_at': '2023-03-29T13:06:56+0300',\n",
       " 'negotiations_url': None,\n",
       " 'suitable_resumes_url': None,\n",
       " 'apply_alternate_url': 'https://hh.ru/applicant/vacancy_response?vacancyId=78670316',\n",
       " 'has_test': False,\n",
       " 'test': None,\n",
       " 'alternate_url': 'https://hh.ru/vacancy/78670316',\n",
       " 'working_days': [],\n",
       " 'working_time_intervals': [],\n",
       " 'working_time_modes': [],\n",
       " 'accept_temporary': False,\n",
       " 'languages': []}"
      ]
     },
     "execution_count": 186,
     "metadata": {},
     "output_type": "execute_result"
    }
   ],
   "source": [
    "vac_full_info[1]"
   ]
  },
  {
   "cell_type": "code",
   "execution_count": 187,
   "metadata": {},
   "outputs": [],
   "source": [
    "vac_info = pd.DataFrame(vac_full_info, columns = ['name','id','description','published_at','key_skills'])"
   ]
  },
  {
   "cell_type": "code",
   "execution_count": 188,
   "metadata": {},
   "outputs": [],
   "source": [
    "def convert_datetime(x):\n",
    "   \n",
    "    if type(x)==str:\n",
    "        new_x = datetime.strptime(x[:10], '%Y-%m-%d')\n",
    "        return new_x\n",
    "    else :\n",
    "        new_x = None  \n",
    "        return new_x\n",
    "vac_info['published_at'] = pd.to_datetime(vac_info['published_at'].apply(convert_datetime))"
   ]
  },
  {
   "cell_type": "code",
   "execution_count": 189,
   "metadata": {},
   "outputs": [
    {
     "name": "stdout",
     "output_type": "stream",
     "text": [
      "<class 'pandas.core.frame.DataFrame'>\n",
      "RangeIndex: 1000 entries, 0 to 999\n",
      "Data columns (total 5 columns):\n",
      " #   Column        Non-Null Count  Dtype         \n",
      "---  ------        --------------  -----         \n",
      " 0   name          1000 non-null   object        \n",
      " 1   id            1000 non-null   object        \n",
      " 2   description   1000 non-null   object        \n",
      " 3   published_at  1000 non-null   datetime64[ns]\n",
      " 4   key_skills    1000 non-null   object        \n",
      "dtypes: datetime64[ns](1), object(4)\n",
      "memory usage: 39.2+ KB\n"
     ]
    }
   ],
   "source": [
    "vac_info.info()"
   ]
  },
  {
   "cell_type": "code",
   "execution_count": 190,
   "metadata": {},
   "outputs": [],
   "source": [
    "vac_info_date_count = vac_info.groupby(['published_at']).count()\n",
    "vac_info_date_count_plot = pd.DataFrame(vac_info_date_count, columns = ['id'])"
   ]
  },
  {
   "cell_type": "code",
   "execution_count": 191,
   "metadata": {},
   "outputs": [
    {
     "data": {
      "text/plain": [
       "<AxesSubplot:xlabel='published_at'>"
      ]
     },
     "execution_count": 191,
     "metadata": {},
     "output_type": "execute_result"
    },
    {
     "data": {
      "image/png": "[encoded data removed]",
      "text/plain": [
       "<Figure size 640x480 with 1 Axes>"
      ]
     },
     "metadata": {},
     "output_type": "display_data"
    }
   ],
   "source": [
    "vac_info_date_count_plot.plot()"
   ]
  },
  {
   "cell_type": "code",
   "execution_count": 192,
   "metadata": {},
   "outputs": [],
   "source": [
    "vac_info_day=pd.DataFrame(vac_full_info,columns = ['name','id','description','published_at','key_skills'])"
   ]
  },
  {
   "cell_type": "code",
   "execution_count": 193,
   "metadata": {},
   "outputs": [],
   "source": [
    "#vac_info_day.at[0,'published_at']"
   ]
  },
  {
   "cell_type": "code",
   "execution_count": 194,
   "metadata": {},
   "outputs": [],
   "source": [
    "def convert_day(x):\n",
    "    if type(x)==str:\n",
    "        new_x = datetime.weekday(datetime.strptime(x[:10], '%Y-%m-%d'))\n",
    "        return new_x\n",
    "    else :\n",
    "        new_x = 6 \n",
    "        return new_x\n",
    "vac_info_day['published_at'] = vac_info_day['published_at'].apply(convert_day).astype(int)"
   ]
  },
  {
   "cell_type": "code",
   "execution_count": 195,
   "metadata": {},
   "outputs": [
    {
     "data": {
      "text/html": [
       "<div>\n",
       "<style scoped>\n",
       "    .dataframe tbody tr th:only-of-type {\n",
       "        vertical-align: middle;\n",
       "    }\n",
       "\n",
       "    .dataframe tbody tr th {\n",
       "        vertical-align: top;\n",
       "    }\n",
       "\n",
       "    .dataframe thead th {\n",
       "        text-align: right;\n",
       "    }\n",
       "</style>\n",
       "<table border=\"1\" class=\"dataframe\">\n",
       "  <thead>\n",
       "    <tr style=\"text-align: right;\">\n",
       "      <th></th>\n",
       "      <th>name</th>\n",
       "      <th>id</th>\n",
       "      <th>description</th>\n",
       "      <th>key_skills</th>\n",
       "    </tr>\n",
       "    <tr>\n",
       "      <th>published_at</th>\n",
       "      <th></th>\n",
       "      <th></th>\n",
       "      <th></th>\n",
       "      <th></th>\n",
       "    </tr>\n",
       "  </thead>\n",
       "  <tbody>\n",
       "    <tr>\n",
       "      <th>0</th>\n",
       "      <td>198</td>\n",
       "      <td>198</td>\n",
       "      <td>198</td>\n",
       "      <td>198</td>\n",
       "    </tr>\n",
       "    <tr>\n",
       "      <th>1</th>\n",
       "      <td>201</td>\n",
       "      <td>201</td>\n",
       "      <td>201</td>\n",
       "      <td>201</td>\n",
       "    </tr>\n",
       "    <tr>\n",
       "      <th>2</th>\n",
       "      <td>233</td>\n",
       "      <td>233</td>\n",
       "      <td>233</td>\n",
       "      <td>233</td>\n",
       "    </tr>\n",
       "    <tr>\n",
       "      <th>3</th>\n",
       "      <td>151</td>\n",
       "      <td>151</td>\n",
       "      <td>151</td>\n",
       "      <td>151</td>\n",
       "    </tr>\n",
       "    <tr>\n",
       "      <th>4</th>\n",
       "      <td>137</td>\n",
       "      <td>137</td>\n",
       "      <td>137</td>\n",
       "      <td>137</td>\n",
       "    </tr>\n",
       "    <tr>\n",
       "      <th>5</th>\n",
       "      <td>37</td>\n",
       "      <td>37</td>\n",
       "      <td>37</td>\n",
       "      <td>37</td>\n",
       "    </tr>\n",
       "    <tr>\n",
       "      <th>6</th>\n",
       "      <td>43</td>\n",
       "      <td>43</td>\n",
       "      <td>43</td>\n",
       "      <td>43</td>\n",
       "    </tr>\n",
       "  </tbody>\n",
       "</table>\n",
       "</div>"
      ],
      "text/plain": [
       "              name   id  description  key_skills\n",
       "published_at                                    \n",
       "0              198  198          198         198\n",
       "1              201  201          201         201\n",
       "2              233  233          233         233\n",
       "3              151  151          151         151\n",
       "4              137  137          137         137\n",
       "5               37   37           37          37\n",
       "6               43   43           43          43"
      ]
     },
     "execution_count": 195,
     "metadata": {},
     "output_type": "execute_result"
    }
   ],
   "source": [
    "vac_info_date_count = vac_info_day.groupby(['published_at']).count()\n",
    "vac_info_date_count"
   ]
  },
  {
   "cell_type": "code",
   "execution_count": 196,
   "metadata": {},
   "outputs": [],
   "source": [
    "vac_desc = pd.DataFrame(vac_full_info, columns = ['name','id','description','published_at','key_skills'])"
   ]
  },
  {
   "cell_type": "code",
   "execution_count": 197,
   "metadata": {},
   "outputs": [
    {
     "name": "stdout",
     "output_type": "stream",
     "text": [
      "Вакансий которые мне нравяться(со словом SQL): 4\n"
     ]
    }
   ],
   "source": [
    "vac_sql = []\n",
    "for i in range(len(vac_desc)):\n",
    "    if type(vac_desc['name'][i]) == str:\n",
    "        if ('SQL' in vac_desc['name'][i]) == True:\n",
    "            vac_sql.append(vac_desc['name'][i])\n",
    "print('Вакансий которые мне нравяться(со словом SQL): '  + str(len(vac_sql)))"
   ]
  },
  {
   "cell_type": "code",
   "execution_count": 198,
   "metadata": {},
   "outputs": [],
   "source": [
    "vac_skill = pd.DataFrame(vac_full_info, columns = ['name','id','description','published_at','key_skills'])"
   ]
  },
  {
   "cell_type": "code",
   "execution_count": 199,
   "metadata": {},
   "outputs": [
    {
     "name": "stdout",
     "output_type": "stream",
     "text": [
      "<class 'pandas.core.frame.DataFrame'>\n",
      "RangeIndex: 1000 entries, 0 to 999\n",
      "Data columns (total 5 columns):\n",
      " #   Column        Non-Null Count  Dtype \n",
      "---  ------        --------------  ----- \n",
      " 0   name          1000 non-null   object\n",
      " 1   id            1000 non-null   object\n",
      " 2   description   1000 non-null   object\n",
      " 3   published_at  1000 non-null   object\n",
      " 4   key_skills    1000 non-null   object\n",
      "dtypes: object(5)\n",
      "memory usage: 39.2+ KB\n"
     ]
    }
   ],
   "source": [
    "vac_skill.info()"
   ]
  },
  {
   "cell_type": "code",
   "execution_count": 200,
   "metadata": {},
   "outputs": [],
   "source": [
    "skill = []\n",
    "for i in range(len(vac_skill)): \n",
    "    if len(vac_skill['key_skills'][i]) != 0: \n",
    "        x=vac_skill['key_skills'][i]\n",
    "        for j in range(len(x)): \n",
    "            skill.append(x[j]['name'])"
   ]
  },
  {
   "cell_type": "code",
   "execution_count": 201,
   "metadata": {},
   "outputs": [],
   "source": [
    "def analysis(your_list, your_dict):\n",
    "    for i in your_list:\n",
    "        if i in your_dict:\n",
    "            your_dict[i] += 1\n",
    "        else:\n",
    "            your_dict[i] = 1"
   ]
  },
  {
   "cell_type": "code",
   "execution_count": 202,
   "metadata": {},
   "outputs": [],
   "source": [
    "dct_skill = {}\n",
    "analysis(skill, dct_skill)"
   ]
  },
  {
   "cell_type": "code",
   "execution_count": 203,
   "metadata": {},
   "outputs": [],
   "source": [
    "dct_skill_sort = dict(sorted(dct_skill.items(), key=itemgetter(1), reverse=True))"
   ]
  },
  {
   "cell_type": "code",
   "execution_count": 204,
   "metadata": {},
   "outputs": [],
   "source": [
    "index_for_max = []\n",
    "for i in range(len(dct_skill_sort.values())):\n",
    "    if list(dct_skill_sort.values())[i] == max(list(dct_skill_sort.values())):\n",
    "        index_for_max.append(i)"
   ]
  },
  {
   "cell_type": "code",
   "execution_count": 205,
   "metadata": {},
   "outputs": [
    {
     "name": "stdout",
     "output_type": "stream",
     "text": [
      "Самые востребованные навыки: \n",
      "SQL\n"
     ]
    }
   ],
   "source": [
    "print('Самые востребованные навыки: ')\n",
    "for i in index_for_max:\n",
    "    print(list(dct_skill_sort.keys())[i])"
   ]
  },
  {
   "cell_type": "code",
   "execution_count": 206,
   "metadata": {},
   "outputs": [
    {
     "data": {
      "application/vnd.plotly.v1+json": {
       "config": {
        "plotlyServerURL": "https://plot.ly"
       },
       "data": [
        {
         "labels": [
          "Техническое обслуживание",
          "СКС",
          "Аварийно-восстановительные работы",
          "Деловое общение",
          "Деловая переписка",
          "Грамотность",
          "Грамотная речь",
          "Работа в команде",
          "Активные продажи",
          "B2C продажи",
          "входящие звонки",
          "Консультирование клиентов по телефону",
          "Телефонные переговоры",
          "Клиентоориентированность",
          "Стрессоустойчивость",
          "Python",
          "SQL",
          "MS PowerPoint",
          "ML",
          "E-Commerce"
         ],
         "type": "pie",
         "values": [
          3,
          2,
          3,
          19,
          12,
          6,
          24,
          23,
          26,
          4,
          3,
          6,
          13,
          12,
          1,
          18,
          31,
          7,
          3,
          1
         ]
        }
       ],
       "layout": {
        "template": {
         "data": {
          "bar": [
           {
            "error_x": {
             "color": "#2a3f5f"
            },
            "error_y": {
             "color": "#2a3f5f"
            },
            "marker": {
             "line": {
              "color": "#E5ECF6",
              "width": 0.5
             },
             "pattern": {
              "fillmode": "overlay",
              "size": 10,
              "solidity": 0.2
             }
            },
            "type": "bar"
           }
          ],
          "barpolar": [
           {
            "marker": {
             "line": {
              "color": "#E5ECF6",
              "width": 0.5
             },
             "pattern": {
              "fillmode": "overlay",
              "size": 10,
              "solidity": 0.2
             }
            },
            "type": "barpolar"
           }
          ],
          "carpet": [
           {
            "aaxis": {
             "endlinecolor": "#2a3f5f",
             "gridcolor": "white",
             "linecolor": "white",
             "minorgridcolor": "white",
             "startlinecolor": "#2a3f5f"
            },
            "baxis": {
             "endlinecolor": "#2a3f5f",
             "gridcolor": "white",
             "linecolor": "white",
             "minorgridcolor": "white",
             "startlinecolor": "#2a3f5f"
            },
            "type": "carpet"
           }
          ],
          "choropleth": [
           {
            "colorbar": {
             "outlinewidth": 0,
             "ticks": ""
            },
            "type": "choropleth"
           }
          ],
          "contour": [
           {
            "colorbar": {
             "outlinewidth": 0,
             "ticks": ""
            },
            "colorscale": [
             [
              0,
              "#0d0887"
             ],
             [
              0.1111111111111111,
              "#46039f"
             ],
             [
              0.2222222222222222,
              "#7201a8"
             ],
             [
              0.3333333333333333,
              "#9c179e"
             ],
             [
              0.4444444444444444,
              "#bd3786"
             ],
             [
              0.5555555555555556,
              "#d8576b"
             ],
             [
              0.6666666666666666,
              "#ed7953"
             ],
             [
              0.7777777777777778,
              "#fb9f3a"
             ],
             [
              0.8888888888888888,
              "#fdca26"
             ],
             [
              1,
              "#f0f921"
             ]
            ],
            "type": "contour"
           }
          ],
          "contourcarpet": [
           {
            "colorbar": {
             "outlinewidth": 0,
             "ticks": ""
            },
            "type": "contourcarpet"
           }
          ],
          "heatmap": [
           {
            "colorbar": {
             "outlinewidth": 0,
             "ticks": ""
            },
            "colorscale": [
             [
              0,
              "#0d0887"
             ],
             [
              0.1111111111111111,
              "#46039f"
             ],
             [
              0.2222222222222222,
              "#7201a8"
             ],
             [
              0.3333333333333333,
              "#9c179e"
             ],
             [
              0.4444444444444444,
              "#bd3786"
             ],
             [
              0.5555555555555556,
              "#d8576b"
             ],
             [
              0.6666666666666666,
              "#ed7953"
             ],
             [
              0.7777777777777778,
              "#fb9f3a"
             ],
             [
              0.8888888888888888,
              "#fdca26"
             ],
             [
              1,
              "#f0f921"
             ]
            ],
            "type": "heatmap"
           }
          ],
          "heatmapgl": [
           {
            "colorbar": {
             "outlinewidth": 0,
             "ticks": ""
            },
            "colorscale": [
             [
              0,
              "#0d0887"
             ],
             [
              0.1111111111111111,
              "#46039f"
             ],
             [
              0.2222222222222222,
              "#7201a8"
             ],
             [
              0.3333333333333333,
              "#9c179e"
             ],
             [
              0.4444444444444444,
              "#bd3786"
             ],
             [
              0.5555555555555556,
              "#d8576b"
             ],
             [
              0.6666666666666666,
              "#ed7953"
             ],
             [
              0.7777777777777778,
              "#fb9f3a"
             ],
             [
              0.8888888888888888,
              "#fdca26"
             ],
             [
              1,
              "#f0f921"
             ]
            ],
            "type": "heatmapgl"
           }
          ],
          "histogram": [
           {
            "marker": {
             "pattern": {
              "fillmode": "overlay",
              "size": 10,
              "solidity": 0.2
             }
            },
            "type": "histogram"
           }
          ],
          "histogram2d": [
           {
            "colorbar": {
             "outlinewidth": 0,
             "ticks": ""
            },
            "colorscale": [
             [
              0,
              "#0d0887"
             ],
             [
              0.1111111111111111,
              "#46039f"
             ],
             [
              0.2222222222222222,
              "#7201a8"
             ],
             [
              0.3333333333333333,
              "#9c179e"
             ],
             [
              0.4444444444444444,
              "#bd3786"
             ],
             [
              0.5555555555555556,
              "#d8576b"
             ],
             [
              0.6666666666666666,
              "#ed7953"
             ],
             [
              0.7777777777777778,
              "#fb9f3a"
             ],
             [
              0.8888888888888888,
              "#fdca26"
             ],
             [
              1,
              "#f0f921"
             ]
            ],
            "type": "histogram2d"
           }
          ],
          "histogram2dcontour": [
           {
            "colorbar": {
             "outlinewidth": 0,
             "ticks": ""
            },
            "colorscale": [
             [
              0,
              "#0d0887"
             ],
             [
              0.1111111111111111,
              "#46039f"
             ],
             [
              0.2222222222222222,
              "#7201a8"
             ],
             [
              0.3333333333333333,
              "#9c179e"
             ],
             [
              0.4444444444444444,
              "#bd3786"
             ],
             [
              0.5555555555555556,
              "#d8576b"
             ],
             [
              0.6666666666666666,
              "#ed7953"
             ],
             [
              0.7777777777777778,
              "#fb9f3a"
             ],
             [
              0.8888888888888888,
              "#fdca26"
             ],
             [
              1,
              "#f0f921"
             ]
            ],
            "type": "histogram2dcontour"
           }
          ],
          "mesh3d": [
           {
            "colorbar": {
             "outlinewidth": 0,
             "ticks": ""
            },
            "type": "mesh3d"
           }
          ],
          "parcoords": [
           {
            "line": {
             "colorbar": {
              "outlinewidth": 0,
              "ticks": ""
             }
            },
            "type": "parcoords"
           }
          ],
          "pie": [
           {
            "automargin": true,
            "type": "pie"
           }
          ],
          "scatter": [
           {
            "fillpattern": {
             "fillmode": "overlay",
             "size": 10,
             "solidity": 0.2
            },
            "type": "scatter"
           }
          ],
          "scatter3d": [
           {
            "line": {
             "colorbar": {
              "outlinewidth": 0,
              "ticks": ""
             }
            },
            "marker": {
             "colorbar": {
              "outlinewidth": 0,
              "ticks": ""
             }
            },
            "type": "scatter3d"
           }
          ],
          "scattercarpet": [
           {
            "marker": {
             "colorbar": {
              "outlinewidth": 0,
              "ticks": ""
             }
            },
            "type": "scattercarpet"
           }
          ],
          "scattergeo": [
           {
            "marker": {
             "colorbar": {
              "outlinewidth": 0,
              "ticks": ""
             }
            },
            "type": "scattergeo"
           }
          ],
          "scattergl": [
           {
            "marker": {
             "colorbar": {
              "outlinewidth": 0,
              "ticks": ""
             }
            },
            "type": "scattergl"
           }
          ],
          "scattermapbox": [
           {
            "marker": {
             "colorbar": {
              "outlinewidth": 0,
              "ticks": ""
             }
            },
            "type": "scattermapbox"
           }
          ],
          "scatterpolar": [
           {
            "marker": {
             "colorbar": {
              "outlinewidth": 0,
              "ticks": ""
             }
            },
            "type": "scatterpolar"
           }
          ],
          "scatterpolargl": [
           {
            "marker": {
             "colorbar": {
              "outlinewidth": 0,
              "ticks": ""
             }
            },
            "type": "scatterpolargl"
           }
          ],
          "scatterternary": [
           {
            "marker": {
             "colorbar": {
              "outlinewidth": 0,
              "ticks": ""
             }
            },
            "type": "scatterternary"
           }
          ],
          "surface": [
           {
            "colorbar": {
             "outlinewidth": 0,
             "ticks": ""
            },
            "colorscale": [
             [
              0,
              "#0d0887"
             ],
             [
              0.1111111111111111,
              "#46039f"
             ],
             [
              0.2222222222222222,
              "#7201a8"
             ],
             [
              0.3333333333333333,
              "#9c179e"
             ],
             [
              0.4444444444444444,
              "#bd3786"
             ],
             [
              0.5555555555555556,
              "#d8576b"
             ],
             [
              0.6666666666666666,
              "#ed7953"
             ],
             [
              0.7777777777777778,
              "#fb9f3a"
             ],
             [
              0.8888888888888888,
              "#fdca26"
             ],
             [
              1,
              "#f0f921"
             ]
            ],
            "type": "surface"
           }
          ],
          "table": [
           {
            "cells": {
             "fill": {
              "color": "#EBF0F8"
             },
             "line": {
              "color": "white"
             }
            },
            "header": {
             "fill": {
              "color": "#C8D4E3"
             },
             "line": {
              "color": "white"
             }
            },
            "type": "table"
           }
          ]
         },
         "layout": {
          "annotationdefaults": {
           "arrowcolor": "#2a3f5f",
           "arrowhead": 0,
           "arrowwidth": 1
          },
          "autotypenumbers": "strict",
          "coloraxis": {
           "colorbar": {
            "outlinewidth": 0,
            "ticks": ""
           }
          },
          "colorscale": {
           "diverging": [
            [
             0,
             "#8e0152"
            ],
            [
             0.1,
             "#c51b7d"
            ],
            [
             0.2,
             "#de77ae"
            ],
            [
             0.3,
             "#f1b6da"
            ],
            [
             0.4,
             "#fde0ef"
            ],
            [
             0.5,
             "#f7f7f7"
            ],
            [
             0.6,
             "#e6f5d0"
            ],
            [
             0.7,
             "#b8e186"
            ],
            [
             0.8,
             "#7fbc41"
            ],
            [
             0.9,
             "#4d9221"
            ],
            [
             1,
             "#276419"
            ]
           ],
           "sequential": [
            [
             0,
             "#0d0887"
            ],
            [
             0.1111111111111111,
             "#46039f"
            ],
            [
             0.2222222222222222,
             "#7201a8"
            ],
            [
             0.3333333333333333,
             "#9c179e"
            ],
            [
             0.4444444444444444,
             "#bd3786"
            ],
            [
             0.5555555555555556,
             "#d8576b"
            ],
            [
             0.6666666666666666,
             "#ed7953"
            ],
            [
             0.7777777777777778,
             "#fb9f3a"
            ],
            [
             0.8888888888888888,
             "#fdca26"
            ],
            [
             1,
             "#f0f921"
            ]
           ],
           "sequentialminus": [
            [
             0,
             "#0d0887"
            ],
            [
             0.1111111111111111,
             "#46039f"
            ],
            [
             0.2222222222222222,
             "#7201a8"
            ],
            [
             0.3333333333333333,
             "#9c179e"
            ],
            [
             0.4444444444444444,
             "#bd3786"
            ],
            [
             0.5555555555555556,
             "#d8576b"
            ],
            [
             0.6666666666666666,
             "#ed7953"
            ],
            [
             0.7777777777777778,
             "#fb9f3a"
            ],
            [
             0.8888888888888888,
             "#fdca26"
            ],
            [
             1,
             "#f0f921"
            ]
           ]
          },
          "colorway": [
           "#636efa",
           "#EF553B",
           "#00cc96",
           "#ab63fa",
           "#FFA15A",
           "#19d3f3",
           "#FF6692",
           "#B6E880",
           "#FF97FF",
           "#FECB52"
          ],
          "font": {
           "color": "#2a3f5f"
          },
          "geo": {
           "bgcolor": "white",
           "lakecolor": "white",
           "landcolor": "#E5ECF6",
           "showlakes": true,
           "showland": true,
           "subunitcolor": "white"
          },
          "hoverlabel": {
           "align": "left"
          },
          "hovermode": "closest",
          "mapbox": {
           "style": "light"
          },
          "paper_bgcolor": "white",
          "plot_bgcolor": "#E5ECF6",
          "polar": {
           "angularaxis": {
            "gridcolor": "white",
            "linecolor": "white",
            "ticks": ""
           },
           "bgcolor": "#E5ECF6",
           "radialaxis": {
            "gridcolor": "white",
            "linecolor": "white",
            "ticks": ""
           }
          },
          "scene": {
           "xaxis": {
            "backgroundcolor": "#E5ECF6",
            "gridcolor": "white",
            "gridwidth": 2,
            "linecolor": "white",
            "showbackground": true,
            "ticks": "",
            "zerolinecolor": "white"
           },
           "yaxis": {
            "backgroundcolor": "#E5ECF6",
            "gridcolor": "white",
            "gridwidth": 2,
            "linecolor": "white",
            "showbackground": true,
            "ticks": "",
            "zerolinecolor": "white"
           },
           "zaxis": {
            "backgroundcolor": "#E5ECF6",
            "gridcolor": "white",
            "gridwidth": 2,
            "linecolor": "white",
            "showbackground": true,
            "ticks": "",
            "zerolinecolor": "white"
           }
          },
          "shapedefaults": {
           "line": {
            "color": "#2a3f5f"
           }
          },
          "ternary": {
           "aaxis": {
            "gridcolor": "white",
            "linecolor": "white",
            "ticks": ""
           },
           "baxis": {
            "gridcolor": "white",
            "linecolor": "white",
            "ticks": ""
           },
           "bgcolor": "#E5ECF6",
           "caxis": {
            "gridcolor": "white",
            "linecolor": "white",
            "ticks": ""
           }
          },
          "title": {
           "x": 0.05
          },
          "xaxis": {
           "automargin": true,
           "gridcolor": "white",
           "linecolor": "white",
           "ticks": "",
           "title": {
            "standoff": 15
           },
           "zerolinecolor": "white",
           "zerolinewidth": 2
          },
          "yaxis": {
           "automargin": true,
           "gridcolor": "white",
           "linecolor": "white",
           "ticks": "",
           "title": {
            "standoff": 15
           },
           "zerolinecolor": "white",
           "zerolinewidth": 2
          }
         }
        },
        "title": {
         "text": "Диаграмма наиболее востребованных навыков в процентах"
        }
       }
      },
      "text/html": [
       "<div>                            <div id=\"2f653787-a18c-44c5-8258-5a33981de3e2\" class=\"plotly-graph-div\" style=\"height:525px; width:100%;\"></div>            <script type=\"text/javascript\">                require([\"plotly\"], function(Plotly) {                    window.PLOTLYENV=window.PLOTLYENV || {};                                    if (document.getElementById(\"2f653787-a18c-44c5-8258-5a33981de3e2\")) {                    Plotly.newPlot(                        \"2f653787-a18c-44c5-8258-5a33981de3e2\",                        [{\"labels\":[\"\\u0422\\u0435\\u0445\\u043d\\u0438\\u0447\\u0435\\u0441\\u043a\\u043e\\u0435 \\u043e\\u0431\\u0441\\u043b\\u0443\\u0436\\u0438\\u0432\\u0430\\u043d\\u0438\\u0435\",\"\\u0421\\u041a\\u0421\",\"\\u0410\\u0432\\u0430\\u0440\\u0438\\u0439\\u043d\\u043e-\\u0432\\u043e\\u0441\\u0441\\u0442\\u0430\\u043d\\u043e\\u0432\\u0438\\u0442\\u0435\\u043b\\u044c\\u043d\\u044b\\u0435 \\u0440\\u0430\\u0431\\u043e\\u0442\\u044b\",\"\\u0414\\u0435\\u043b\\u043e\\u0432\\u043e\\u0435 \\u043e\\u0431\\u0449\\u0435\\u043d\\u0438\\u0435\",\"\\u0414\\u0435\\u043b\\u043e\\u0432\\u0430\\u044f \\u043f\\u0435\\u0440\\u0435\\u043f\\u0438\\u0441\\u043a\\u0430\",\"\\u0413\\u0440\\u0430\\u043c\\u043e\\u0442\\u043d\\u043e\\u0441\\u0442\\u044c\",\"\\u0413\\u0440\\u0430\\u043c\\u043e\\u0442\\u043d\\u0430\\u044f \\u0440\\u0435\\u0447\\u044c\",\"\\u0420\\u0430\\u0431\\u043e\\u0442\\u0430 \\u0432 \\u043a\\u043e\\u043c\\u0430\\u043d\\u0434\\u0435\",\"\\u0410\\u043a\\u0442\\u0438\\u0432\\u043d\\u044b\\u0435 \\u043f\\u0440\\u043e\\u0434\\u0430\\u0436\\u0438\",\"B2C \\u043f\\u0440\\u043e\\u0434\\u0430\\u0436\\u0438\",\"\\u0432\\u0445\\u043e\\u0434\\u044f\\u0449\\u0438\\u0435 \\u0437\\u0432\\u043e\\u043d\\u043a\\u0438\",\"\\u041a\\u043e\\u043d\\u0441\\u0443\\u043b\\u044c\\u0442\\u0438\\u0440\\u043e\\u0432\\u0430\\u043d\\u0438\\u0435 \\u043a\\u043b\\u0438\\u0435\\u043d\\u0442\\u043e\\u0432 \\u043f\\u043e \\u0442\\u0435\\u043b\\u0435\\u0444\\u043e\\u043d\\u0443\",\"\\u0422\\u0435\\u043b\\u0435\\u0444\\u043e\\u043d\\u043d\\u044b\\u0435 \\u043f\\u0435\\u0440\\u0435\\u0433\\u043e\\u0432\\u043e\\u0440\\u044b\",\"\\u041a\\u043b\\u0438\\u0435\\u043d\\u0442\\u043e\\u043e\\u0440\\u0438\\u0435\\u043d\\u0442\\u0438\\u0440\\u043e\\u0432\\u0430\\u043d\\u043d\\u043e\\u0441\\u0442\\u044c\",\"\\u0421\\u0442\\u0440\\u0435\\u0441\\u0441\\u043e\\u0443\\u0441\\u0442\\u043e\\u0439\\u0447\\u0438\\u0432\\u043e\\u0441\\u0442\\u044c\",\"Python\",\"SQL\",\"MS PowerPoint\",\"ML\",\"E-Commerce\"],\"values\":[3,2,3,19,12,6,24,23,26,4,3,6,13,12,1,18,31,7,3,1],\"type\":\"pie\"}],                        {\"title\":{\"text\":\"\\u0414\\u0438\\u0430\\u0433\\u0440\\u0430\\u043c\\u043c\\u0430 \\u043d\\u0430\\u0438\\u0431\\u043e\\u043b\\u0435\\u0435 \\u0432\\u043e\\u0441\\u0442\\u0440\\u0435\\u0431\\u043e\\u0432\\u0430\\u043d\\u043d\\u044b\\u0445 \\u043d\\u0430\\u0432\\u044b\\u043a\\u043e\\u0432 \\u0432 \\u043f\\u0440\\u043e\\u0446\\u0435\\u043d\\u0442\\u0430\\u0445\"},\"template\":{\"data\":{\"histogram2dcontour\":[{\"type\":\"histogram2dcontour\",\"colorbar\":{\"outlinewidth\":0,\"ticks\":\"\"},\"colorscale\":[[0.0,\"#0d0887\"],[0.1111111111111111,\"#46039f\"],[0.2222222222222222,\"#7201a8\"],[0.3333333333333333,\"#9c179e\"],[0.4444444444444444,\"#bd3786\"],[0.5555555555555556,\"#d8576b\"],[0.6666666666666666,\"#ed7953\"],[0.7777777777777778,\"#fb9f3a\"],[0.8888888888888888,\"#fdca26\"],[1.0,\"#f0f921\"]]}],\"choropleth\":[{\"type\":\"choropleth\",\"colorbar\":{\"outlinewidth\":0,\"ticks\":\"\"}}],\"histogram2d\":[{\"type\":\"histogram2d\",\"colorbar\":{\"outlinewidth\":0,\"ticks\":\"\"},\"colorscale\":[[0.0,\"#0d0887\"],[0.1111111111111111,\"#46039f\"],[0.2222222222222222,\"#7201a8\"],[0.3333333333333333,\"#9c179e\"],[0.4444444444444444,\"#bd3786\"],[0.5555555555555556,\"#d8576b\"],[0.6666666666666666,\"#ed7953\"],[0.7777777777777778,\"#fb9f3a\"],[0.8888888888888888,\"#fdca26\"],[1.0,\"#f0f921\"]]}],\"heatmap\":[{\"type\":\"heatmap\",\"colorbar\":{\"outlinewidth\":0,\"ticks\":\"\"},\"colorscale\":[[0.0,\"#0d0887\"],[0.1111111111111111,\"#46039f\"],[0.2222222222222222,\"#7201a8\"],[0.3333333333333333,\"#9c179e\"],[0.4444444444444444,\"#bd3786\"],[0.5555555555555556,\"#d8576b\"],[0.6666666666666666,\"#ed7953\"],[0.7777777777777778,\"#fb9f3a\"],[0.8888888888888888,\"#fdca26\"],[1.0,\"#f0f921\"]]}],\"heatmapgl\":[{\"type\":\"heatmapgl\",\"colorbar\":{\"outlinewidth\":0,\"ticks\":\"\"},\"colorscale\":[[0.0,\"#0d0887\"],[0.1111111111111111,\"#46039f\"],[0.2222222222222222,\"#7201a8\"],[0.3333333333333333,\"#9c179e\"],[0.4444444444444444,\"#bd3786\"],[0.5555555555555556,\"#d8576b\"],[0.6666666666666666,\"#ed7953\"],[0.7777777777777778,\"#fb9f3a\"],[0.8888888888888888,\"#fdca26\"],[1.0,\"#f0f921\"]]}],\"contourcarpet\":[{\"type\":\"contourcarpet\",\"colorbar\":{\"outlinewidth\":0,\"ticks\":\"\"}}],\"contour\":[{\"type\":\"contour\",\"colorbar\":{\"outlinewidth\":0,\"ticks\":\"\"},\"colorscale\":[[0.0,\"#0d0887\"],[0.1111111111111111,\"#46039f\"],[0.2222222222222222,\"#7201a8\"],[0.3333333333333333,\"#9c179e\"],[0.4444444444444444,\"#bd3786\"],[0.5555555555555556,\"#d8576b\"],[0.6666666666666666,\"#ed7953\"],[0.7777777777777778,\"#fb9f3a\"],[0.8888888888888888,\"#fdca26\"],[1.0,\"#f0f921\"]]}],\"surface\":[{\"type\":\"surface\",\"colorbar\":{\"outlinewidth\":0,\"ticks\":\"\"},\"colorscale\":[[0.0,\"#0d0887\"],[0.1111111111111111,\"#46039f\"],[0.2222222222222222,\"#7201a8\"],[0.3333333333333333,\"#9c179e\"],[0.4444444444444444,\"#bd3786\"],[0.5555555555555556,\"#d8576b\"],[0.6666666666666666,\"#ed7953\"],[0.7777777777777778,\"#fb9f3a\"],[0.8888888888888888,\"#fdca26\"],[1.0,\"#f0f921\"]]}],\"mesh3d\":[{\"type\":\"mesh3d\",\"colorbar\":{\"outlinewidth\":0,\"ticks\":\"\"}}],\"scatter\":[{\"fillpattern\":{\"fillmode\":\"overlay\",\"size\":10,\"solidity\":0.2},\"type\":\"scatter\"}],\"parcoords\":[{\"type\":\"parcoords\",\"line\":{\"colorbar\":{\"outlinewidth\":0,\"ticks\":\"\"}}}],\"scatterpolargl\":[{\"type\":\"scatterpolargl\",\"marker\":{\"colorbar\":{\"outlinewidth\":0,\"ticks\":\"\"}}}],\"bar\":[{\"error_x\":{\"color\":\"#2a3f5f\"},\"error_y\":{\"color\":\"#2a3f5f\"},\"marker\":{\"line\":{\"color\":\"#E5ECF6\",\"width\":0.5},\"pattern\":{\"fillmode\":\"overlay\",\"size\":10,\"solidity\":0.2}},\"type\":\"bar\"}],\"scattergeo\":[{\"type\":\"scattergeo\",\"marker\":{\"colorbar\":{\"outlinewidth\":0,\"ticks\":\"\"}}}],\"scatterpolar\":[{\"type\":\"scatterpolar\",\"marker\":{\"colorbar\":{\"outlinewidth\":0,\"ticks\":\"\"}}}],\"histogram\":[{\"marker\":{\"pattern\":{\"fillmode\":\"overlay\",\"size\":10,\"solidity\":0.2}},\"type\":\"histogram\"}],\"scattergl\":[{\"type\":\"scattergl\",\"marker\":{\"colorbar\":{\"outlinewidth\":0,\"ticks\":\"\"}}}],\"scatter3d\":[{\"type\":\"scatter3d\",\"line\":{\"colorbar\":{\"outlinewidth\":0,\"ticks\":\"\"}},\"marker\":{\"colorbar\":{\"outlinewidth\":0,\"ticks\":\"\"}}}],\"scattermapbox\":[{\"type\":\"scattermapbox\",\"marker\":{\"colorbar\":{\"outlinewidth\":0,\"ticks\":\"\"}}}],\"scatterternary\":[{\"type\":\"scatterternary\",\"marker\":{\"colorbar\":{\"outlinewidth\":0,\"ticks\":\"\"}}}],\"scattercarpet\":[{\"type\":\"scattercarpet\",\"marker\":{\"colorbar\":{\"outlinewidth\":0,\"ticks\":\"\"}}}],\"carpet\":[{\"aaxis\":{\"endlinecolor\":\"#2a3f5f\",\"gridcolor\":\"white\",\"linecolor\":\"white\",\"minorgridcolor\":\"white\",\"startlinecolor\":\"#2a3f5f\"},\"baxis\":{\"endlinecolor\":\"#2a3f5f\",\"gridcolor\":\"white\",\"linecolor\":\"white\",\"minorgridcolor\":\"white\",\"startlinecolor\":\"#2a3f5f\"},\"type\":\"carpet\"}],\"table\":[{\"cells\":{\"fill\":{\"color\":\"#EBF0F8\"},\"line\":{\"color\":\"white\"}},\"header\":{\"fill\":{\"color\":\"#C8D4E3\"},\"line\":{\"color\":\"white\"}},\"type\":\"table\"}],\"barpolar\":[{\"marker\":{\"line\":{\"color\":\"#E5ECF6\",\"width\":0.5},\"pattern\":{\"fillmode\":\"overlay\",\"size\":10,\"solidity\":0.2}},\"type\":\"barpolar\"}],\"pie\":[{\"automargin\":true,\"type\":\"pie\"}]},\"layout\":{\"autotypenumbers\":\"strict\",\"colorway\":[\"#636efa\",\"#EF553B\",\"#00cc96\",\"#ab63fa\",\"#FFA15A\",\"#19d3f3\",\"#FF6692\",\"#B6E880\",\"#FF97FF\",\"#FECB52\"],\"font\":{\"color\":\"#2a3f5f\"},\"hovermode\":\"closest\",\"hoverlabel\":{\"align\":\"left\"},\"paper_bgcolor\":\"white\",\"plot_bgcolor\":\"#E5ECF6\",\"polar\":{\"bgcolor\":\"#E5ECF6\",\"angularaxis\":{\"gridcolor\":\"white\",\"linecolor\":\"white\",\"ticks\":\"\"},\"radialaxis\":{\"gridcolor\":\"white\",\"linecolor\":\"white\",\"ticks\":\"\"}},\"ternary\":{\"bgcolor\":\"#E5ECF6\",\"aaxis\":{\"gridcolor\":\"white\",\"linecolor\":\"white\",\"ticks\":\"\"},\"baxis\":{\"gridcolor\":\"white\",\"linecolor\":\"white\",\"ticks\":\"\"},\"caxis\":{\"gridcolor\":\"white\",\"linecolor\":\"white\",\"ticks\":\"\"}},\"coloraxis\":{\"colorbar\":{\"outlinewidth\":0,\"ticks\":\"\"}},\"colorscale\":{\"sequential\":[[0.0,\"#0d0887\"],[0.1111111111111111,\"#46039f\"],[0.2222222222222222,\"#7201a8\"],[0.3333333333333333,\"#9c179e\"],[0.4444444444444444,\"#bd3786\"],[0.5555555555555556,\"#d8576b\"],[0.6666666666666666,\"#ed7953\"],[0.7777777777777778,\"#fb9f3a\"],[0.8888888888888888,\"#fdca26\"],[1.0,\"#f0f921\"]],\"sequentialminus\":[[0.0,\"#0d0887\"],[0.1111111111111111,\"#46039f\"],[0.2222222222222222,\"#7201a8\"],[0.3333333333333333,\"#9c179e\"],[0.4444444444444444,\"#bd3786\"],[0.5555555555555556,\"#d8576b\"],[0.6666666666666666,\"#ed7953\"],[0.7777777777777778,\"#fb9f3a\"],[0.8888888888888888,\"#fdca26\"],[1.0,\"#f0f921\"]],\"diverging\":[[0,\"#8e0152\"],[0.1,\"#c51b7d\"],[0.2,\"#de77ae\"],[0.3,\"#f1b6da\"],[0.4,\"#fde0ef\"],[0.5,\"#f7f7f7\"],[0.6,\"#e6f5d0\"],[0.7,\"#b8e186\"],[0.8,\"#7fbc41\"],[0.9,\"#4d9221\"],[1,\"#276419\"]]},\"xaxis\":{\"gridcolor\":\"white\",\"linecolor\":\"white\",\"ticks\":\"\",\"title\":{\"standoff\":15},\"zerolinecolor\":\"white\",\"automargin\":true,\"zerolinewidth\":2},\"yaxis\":{\"gridcolor\":\"white\",\"linecolor\":\"white\",\"ticks\":\"\",\"title\":{\"standoff\":15},\"zerolinecolor\":\"white\",\"automargin\":true,\"zerolinewidth\":2},\"scene\":{\"xaxis\":{\"backgroundcolor\":\"#E5ECF6\",\"gridcolor\":\"white\",\"linecolor\":\"white\",\"showbackground\":true,\"ticks\":\"\",\"zerolinecolor\":\"white\",\"gridwidth\":2},\"yaxis\":{\"backgroundcolor\":\"#E5ECF6\",\"gridcolor\":\"white\",\"linecolor\":\"white\",\"showbackground\":true,\"ticks\":\"\",\"zerolinecolor\":\"white\",\"gridwidth\":2},\"zaxis\":{\"backgroundcolor\":\"#E5ECF6\",\"gridcolor\":\"white\",\"linecolor\":\"white\",\"showbackground\":true,\"ticks\":\"\",\"zerolinecolor\":\"white\",\"gridwidth\":2}},\"shapedefaults\":{\"line\":{\"color\":\"#2a3f5f\"}},\"annotationdefaults\":{\"arrowcolor\":\"#2a3f5f\",\"arrowhead\":0,\"arrowwidth\":1},\"geo\":{\"bgcolor\":\"white\",\"landcolor\":\"#E5ECF6\",\"subunitcolor\":\"white\",\"showland\":true,\"showlakes\":true,\"lakecolor\":\"white\"},\"title\":{\"x\":0.05},\"mapbox\":{\"style\":\"light\"}}}},                        {\"responsive\": true}                    ).then(function(){\n",
       "                            \n",
       "var gd = document.getElementById('2f653787-a18c-44c5-8258-5a33981de3e2');\n",
       "var x = new MutationObserver(function (mutations, observer) {{\n",
       "        var display = window.getComputedStyle(gd).display;\n",
       "        if (!display || display === 'none') {{\n",
       "            console.log([gd, 'removed!']);\n",
       "            Plotly.purge(gd);\n",
       "            observer.disconnect();\n",
       "        }}\n",
       "}});\n",
       "\n",
       "// Listen for the removal of the full notebook cells\n",
       "var notebookContainer = gd.closest('#notebook-container');\n",
       "if (notebookContainer) {{\n",
       "    x.observe(notebookContainer, {childList: true});\n",
       "}}\n",
       "\n",
       "// Listen for the clearing of the current output cell\n",
       "var outputEl = gd.closest('.output');\n",
       "if (outputEl) {{\n",
       "    x.observe(outputEl, {childList: true});\n",
       "}}\n",
       "\n",
       "                        })                };                });            </script>        </div>"
      ]
     },
     "metadata": {},
     "output_type": "display_data"
    }
   ],
   "source": [
    "import plotly as py\n",
    "import plotly.graph_objs as go\n",
    "pyplt=py.offline.plot\n",
    "labels=list(dct_skill.keys())[0:20]\n",
    "values=list(dct_skill.values())[0:20]\n",
    "trace=[go.Pie(labels=labels,values=values)]\n",
    "layout=go.Layout(\n",
    "    title='Диаграмма наиболее востребованных навыков в процентах'\n",
    ")\n",
    "fig=go.Figure(data=trace,layout=layout)\n",
    "fig.show()"
   ]
  },
  {
   "cell_type": "code",
   "execution_count": null,
   "metadata": {},
   "outputs": [],
   "source": []
  },
  {
   "cell_type": "code",
   "execution_count": null,
   "metadata": {},
   "outputs": [],
   "source": []
  }
 ],
 "metadata": {
  "kernelspec": {
   "display_name": "Python 3 (ipykernel)",
   "language": "python",
   "name": "python3"
  },
  "language_info": {
   "codemirror_mode": {
    "name": "ipython",
    "version": 3
   },
   "file_extension": ".py",
   "mimetype": "text/x-python",
   "name": "python",
   "nbconvert_exporter": "python",
   "pygments_lexer": "ipython3",
   "version": "3.9.13"
  }
 },
 "nbformat": 4,
 "nbformat_minor": 4
}
