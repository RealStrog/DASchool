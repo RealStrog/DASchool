{
 "cells": [
  {
   "cell_type": "markdown",
   "metadata": {
    "id": "pDrecLU-4QjS"
   },
   "source": [
    "# Практика"
   ]
  },
  {
   "cell_type": "markdown",
   "metadata": {
    "id": "gUvTNDlMaV-a"
   },
   "source": [
    "## Определение вероятности. События\n",
    "\n",
    "Требуется сгенерировать необходимые выборки и произвести по ним расчеты"
   ]
  },
  {
   "cell_type": "markdown",
   "metadata": {
    "id": "5V70InEBTgup"
   },
   "source": [
    "### Задача 1\n",
    "Брошено две монеты. Найти вероятность того, что монеты выпали разными сторонами"
   ]
  },
  {
   "cell_type": "code",
   "execution_count": 61,
   "metadata": {
    "id": "88Iw-SL3jYQV"
   },
   "outputs": [],
   "source": [
    "import pandas as pd\n",
    "import numpy as np\n",
    "import matplotlib.pyplot as plt\n",
    "import random\n",
    "import scipy.stats as sts\n",
    "%matplotlib inline\n",
    "from itertools import product\n",
    "import warnings\n",
    "warnings.filterwarnings('ignore')"
   ]
  },
  {
   "cell_type": "code",
   "execution_count": 62,
   "metadata": {},
   "outputs": [],
   "source": [
    "#B1 = [\"head\"] * 1 + ['tail'] * 1\n",
    "#B2 = [\"head\"] * 1 + ['tail'] * 1\n",
    "#n = 1000000\n",
    "#A = pd.DataFrame({\"A\":list(map(lambda a: random.choice([\n",
    "#                           random.choice(B1)\n",
    "#                           ]), range(n)\n",
    "#                             ))})\n",
    "#B = pd.DataFrame({\"B\":list(map(lambda a: random.choice([\n",
    "#                           random.choice(B2)\n",
    "#                           \n",
    "#                           ]), range(n)\n",
    "#                              ))})\n",
    "#result = pd.concat([A, B], axis=1)\n",
    "#result['new'] = np.where((result['A'] == result['B']), 1, 0)\n",
    "#result\n",
    "#P_mix = len(result[result.new == 0])/result.shape[0]\n",
    "#P_mix"
   ]
  },
  {
   "cell_type": "code",
   "execution_count": 63,
   "metadata": {},
   "outputs": [
    {
     "name": "stdout",
     "output_type": "stream",
     "text": [
      "Вероятность того, что монеты выпали разными сторонами равна 0.499664\n"
     ]
    }
   ],
   "source": [
    "coin1 = ['Head', 'Tail']\n",
    "coin2 = ['Head', 'Tail']\n",
    "n = 1000000\n",
    "x = 0\n",
    "i = 1\n",
    "while i <= n:\n",
    "  if random.choice(coin1) != random.choice(coin2):\n",
    "    x += 1\n",
    "    i += 1\n",
    "  else: i += 1\n",
    "P = x/n\n",
    "print(f'Вероятность того, что монеты выпали разными сторонами равна {P}')"
   ]
  },
  {
   "cell_type": "markdown",
   "metadata": {
    "id": "t0XOMos2Tl0e"
   },
   "source": [
    "### Задача 2\n",
    "Брошено три монеты. Описать множество всех элементарных событий. Найти вероятности следующих событий:\n",
    "\n",
    "\n",
    "1.   A = {не выпало ни одного герба}\n",
    "2.   B = {выпало четное число гербов}\n",
    "3.   C = {на третьей монете выпал герб}\n"
   ]
  },
  {
   "cell_type": "code",
   "execution_count": 64,
   "metadata": {},
   "outputs": [
    {
     "name": "stdout",
     "output_type": "stream",
     "text": [
      "Вероятность, что не выпало ни одного Орла = 0.12611\n",
      "Вероятность, что выпало четное число Орлов = 0.37287\n",
      "Вероятность, что на третьей монете выпал Орёл = 0.50011\n",
      "\n",
      "Возможные варианты событий: \n",
      " [0 0 0 0 1 1 1 1] \n",
      " [0 0 1 1 0 0 1 1] \n",
      " [0 1 0 1 0 1 0 1]\n"
     ]
    }
   ],
   "source": [
    "# 0 - Орел, 1 - Решка\n",
    "N = 100000\n",
    "count_A = 0\n",
    "count_B = 0\n",
    "count_C = 0\n",
    "B1 = [random.choice(range(0,2)) for i in range(N)] \n",
    "B2 = [random.choice(range(0,2)) for i in range(N)] \n",
    "B3 = [random.choice(range(0,2)) for i in range(N)] \n",
    "\n",
    "for i in range(N):\n",
    "  if B1[i] == 1 and B2[i] == 1 and B3[i] == 1: \n",
    "    count_A += 1 \n",
    "  if (B1[i] == 0 and B2[i] == 0 and B3[i] == 1) or (B1[i] == 0 and B3[i] == 0 and B2[i] == 1) or (B2[i] == 0 and B3[i] == 0 and B1[i] == 1):\n",
    "    count_B += 1 \n",
    "  if B3[i] == 0:\n",
    "    count_C += 1 \n",
    "\n",
    "#print(count_A,'\\n',count_B,'\\n',count_C)\n",
    "print('Вероятность, что не выпало ни одного Орла =', count_A/N)\n",
    "print('Вероятность, что выпало четное число Орлов =', count_B/N)\n",
    "print('Вероятность, что на третьей монете выпал Орёл =', count_C/N)\n",
    "all_var = np.unique([B1, B2, B3], axis = 1)\n",
    "print('\\nВозможные варианты событий: \\n', all_var[0],'\\n', all_var[1], '\\n', all_var[2])"
   ]
  },
  {
   "cell_type": "markdown",
   "metadata": {},
   "source": [
    "Предлагается также решить задачи: \n",
    "\n",
    "### Задача 3\n",
    "Из двух претендентов E и L на ответственную должность три члена комиссии должны отобрать одного. Каждый член комиссии должен указать либо одного достойного, либо забраковать обоих. Претендент считается выбранным, если он был признана достойным хотя бы двумя членами комиссии.\n",
    "Найти вероятность событий:\n",
    "\n",
    "A = {рекомендован L}, B = {рекомендован E}\n"
   ]
  },
  {
   "cell_type": "code",
   "execution_count": 65,
   "metadata": {},
   "outputs": [
    {
     "name": "stdout",
     "output_type": "stream",
     "text": [
      "Вероятность того, что рекомендован L = 0.25844\n",
      "Вероятность того, что рекомендован E = 0.26017\n"
     ]
    }
   ],
   "source": [
    "N = 100000\n",
    "E = 0\n",
    "L = 0\n",
    "# каждый член комисии может поставить 0 1 или 2\n",
    "# 1 - рекомендован Е\n",
    "# 2 - рекомендован L \n",
    "# 0 - ни кто не рекомендован\n",
    "B1 = [random.choice(range(0,3)) for i in range(N)]\n",
    "B2 = [random.choice(range(0,3)) for i in range(N)]\n",
    "B3 = [random.choice(range(0,3)) for i in range(N)]\n",
    " \n",
    "for i in range(N):\n",
    "  if (B1[i] == 1 and B2[i] == 1) or (B1[i] == 1 and B3[i] == 1) or (B2[i] == 1 and B3[i] == 1):\n",
    "    E += 1\n",
    "  if (B1[i] == 2 and B2[i] == 2) or (B1[i] == 2 and B3[i] == 2) or (B2[i] == 2 and B3[i] == 2):\n",
    "    L += 1\n",
    "print('Вероятность того, что рекомендован L =', E/N)\n",
    "print('Вероятность того, что рекомендован E =', L/N)"
   ]
  },
  {
   "cell_type": "markdown",
   "metadata": {
    "id": "peM38mVfYa5B"
   },
   "source": [
    "### Задача 4\n",
    "Брошено две игральных кости. Описать множество элементарных событий. Найти вероятности событий:\n",
    "\n",
    "A = {вышло две \"шестерки\"}\n",
    "\n",
    "B = {сумма выпавших очков не меньше 11}\n",
    "\n",
    "C = {не выпала ни одна \"шестерка\"}"
   ]
  },
  {
   "cell_type": "code",
   "execution_count": 66,
   "metadata": {},
   "outputs": [
    {
     "name": "stdout",
     "output_type": "stream",
     "text": [
      "Вероятность того, что выпало две \"шестерки\" = 0.02791\n",
      "Вероятность того, что сумма выпавших очков не меньше 11 = 0.08383\n",
      "Вероятность того, что не выпала ни одна \"шестерка\" 0.69321\n",
      "\n",
      "Возможные варианты событий: \n",
      " [1 1 1 1 1 1 2 2 2 2 2 2 3 3 3 3 3 3 4 4 4 4 4 4 5 5 5 5 5 5 6 6 6 6 6 6] \n",
      " [1 2 3 4 5 6 1 2 3 4 5 6 1 2 3 4 5 6 1 2 3 4 5 6 1 2 3 4 5 6 1 2 3 4 5 6]\n"
     ]
    }
   ],
   "source": [
    "N = 100000\n",
    "A = 0\n",
    "B = 0\n",
    "C = 0\n",
    "dice1 = [random.choice(range(1,7)) for i in range(N)] \n",
    "dice2 = [random.choice(range(1,7)) for i in range(N)] \n",
    " \n",
    "for i in range(N):\n",
    "    if dice1[i] == 6 and dice2[i] == 6:\n",
    "        A += 1\n",
    "    if dice1[i] + dice2[i] >= 11:\n",
    "        B += 1\n",
    "    if dice1[i] != 6 and dice2[i] != 6:\n",
    "        C += 1\n",
    "print('Вероятность того, что выпало две \"шестерки\" =', A/N)\n",
    "print('Вероятность того, что сумма выпавших очков не меньше 11 =', B/N)\n",
    "print('Вероятность того, что не выпала ни одна \"шестерка\"', C/N)\n",
    "all_var = np.unique([dice1, dice2], axis = 1)\n",
    "print('\\nВозможные варианты событий: \\n', all_var[0],'\\n', all_var[1])"
   ]
  },
  {
   "cell_type": "markdown",
   "metadata": {
    "id": "f-Bi0p8haclB"
   },
   "source": [
    "## Вероятность суммы событий"
   ]
  },
  {
   "cell_type": "markdown",
   "metadata": {
    "id": "g7A7QlvGTnwZ"
   },
   "source": [
    "### Задача 5\n",
    "Брошены две игральные кости. Найти вероятность события D = {выпала хотя бы одна шестёрка}\n"
   ]
  },
  {
   "cell_type": "code",
   "execution_count": 67,
   "metadata": {
    "id": "vjtTJN-kUp9D"
   },
   "outputs": [
    {
     "name": "stdout",
     "output_type": "stream",
     "text": [
      "Вероятность того, что выпала хотя бы одна шестёрка = 0.30608\n"
     ]
    }
   ],
   "source": [
    "N = 100000\n",
    "D = 0\n",
    "dice1 = [random.choice(range(1,7)) for i in range(N)] \n",
    "dice2 = [random.choice(range(1,7)) for i in range(N)] \n",
    " \n",
    "for i in range(N):\n",
    "    if dice1[i] == 6 or dice2[i] == 6 or(dice1[i] == 6 and  dice2[i] == 6):\n",
    "        D += 1\n",
    "\n",
    "print('Вероятность того, что выпала хотя бы одна шестёрка =', D/N)"
   ]
  },
  {
   "cell_type": "markdown",
   "metadata": {
    "id": "R1bYSzQQbC6I"
   },
   "source": [
    "Предлагается также решить задачи: \n",
    "\n",
    "### Задача 6\n",
    "В телефонном номере три последние цифры стерлись. Считая, что все возможные значения стершихся цифр равновероятны, найти вероятность событий:\n",
    "\n",
    "A = {Стерлись различные цифры},\n",
    "\n",
    "B = {Стерлись одинаковые цифры},\n",
    "\n",
    "C = {Среди стершихся цифр хотя бы две совпадают},\n",
    "\n",
    "D = {Среди стершихся цифр хотя бы две различны}\n"
   ]
  },
  {
   "cell_type": "code",
   "execution_count": 51,
   "metadata": {},
   "outputs": [
    {
     "name": "stdout",
     "output_type": "stream",
     "text": [
      "Вероятность того, что стерлись различные цифры = 0.72057\n",
      "Вероятность того, что стерлись одинаковые цифры = 0.01046\n",
      "Вероятность того, что среди стершихся цифр хотя бы две совпадают 0.27943\n",
      "Вероятность того, что среди стершихся цифр хотя бы две различны 0.98954\n"
     ]
    }
   ],
   "source": [
    "N = 100000\n",
    "a = 0\n",
    "b = 0\n",
    "c = 0\n",
    "d = 0\n",
    "number1 = [random.choice(range(0,10)) for i in range(N)] \n",
    "number2 = [random.choice(range(0,10)) for i in range(N)] \n",
    "number3 = [random.choice(range(0,10)) for i in range(N)] \n",
    "\n",
    "for i in range(N):\n",
    "    if number1[i] != number2[i] and number2[i] != number3[i] and number1[i] != number3[i]:\n",
    "        a += 1\n",
    "    if number1[i] == number2[i] and number2[i] == number3[i] and number1[i] == number3[i]:\n",
    "        b += 1\n",
    "    if number1[i] == number2[i] or number2[i] == number3[i] or number1[i] == number3[i]:\n",
    "        c += 1\n",
    "    if number1[i] != number2[i] or number2[i] != number3[i] or number1[i] != number3[i]:\n",
    "        d += 1\n",
    "\n",
    "print('Вероятность того, что стерлись различные цифры =', a/N)\n",
    "print('Вероятность того, что стерлись одинаковые цифры =', b/N)\n",
    "print('Вероятность того, что среди стершихся цифр хотя бы две совпадают', c/N)\n",
    "print('Вероятность того, что среди стершихся цифр хотя бы две различны', d/N)"
   ]
  },
  {
   "cell_type": "markdown",
   "metadata": {
    "id": "RnugkR8BalK_"
   },
   "source": [
    "## Случайные величины"
   ]
  },
  {
   "cell_type": "markdown",
   "metadata": {
    "id": "yLoZDZ17UVsp"
   },
   "source": [
    "### Задача 7\n",
    "В лотерее имеется 10 билетов, из которых один выигрышный. Размер выигрыша 10 ден. ед.; стоимость билета 1 ден ед. Найти закон распределения случайной величины X, равной чистому выигрышу участника лотереи, который вытаскивает билет первым."
   ]
  },
  {
   "cell_type": "code",
   "execution_count": null,
   "metadata": {
    "id": "oNk432sKUqzT"
   },
   "outputs": [],
   "source": []
  },
  {
   "cell_type": "markdown",
   "metadata": {
    "id": "U-NK9liSbpvb"
   },
   "source": [
    "Предлагается также решить задачу: \n",
    "\n",
    "### Задача 8\n",
    "Брошены две игральные кости. Найти закон распределения случайной величины $X$, равной сумме выпавших очков. Найти вероятности событий ${X <= 4}$, ${X > 4}$"
   ]
  },
  {
   "cell_type": "code",
   "execution_count": 60,
   "metadata": {},
   "outputs": [
    {
     "name": "stdout",
     "output_type": "stream",
     "text": [
      "Вероятность события  X <= 4 0.16652\n",
      "Вероятность события  X > 4 0.83348\n"
     ]
    },
    {
     "data": {
      "text/plain": [
       "[]"
      ]
     },
     "execution_count": 60,
     "metadata": {},
     "output_type": "execute_result"
    },
    {
     "data": {
      "image/png": "[encoded data removed]",
      "text/plain": [
       "<Figure size 640x480 with 1 Axes>"
      ]
     },
     "metadata": {},
     "output_type": "display_data"
    }
   ],
   "source": [
    "N = 100000\n",
    "A = 0 \n",
    "B = 0 \n",
    "dice1 = [random.choice(range(1,7)) for i in range(N)] \n",
    "dice2 = [random.choice(range(1,7)) for i in range(N)] \n",
    "summ = [dice1[i] + dice2[i] for i in range(N)] \n",
    "dice_summ = {i: summ.count(i) for i in range(2,13)}  \n",
    "dice_summ_P = {i: summ.count(i) / N for i in range(2,13)}  \n",
    "\n",
    "for key, value in dice_summ.items():\n",
    "  if key <= 4:\n",
    "    A += value\n",
    "  else:\n",
    "    B += value\n",
    "    \n",
    "print('Вероятность события  X <= 4', A / N)\n",
    "print('Вероятность события  X > 4', B / N)\n",
    "\n",
    "plt.bar(range(len(dice_summ_P)), list(dice_summ_P.values()), align = 'center')\n",
    "plt.xticks(range(len(dice_summ_P)), list(dice_summ_P.keys()))\n",
    "plt.plot()"
   ]
  },
  {
   "cell_type": "markdown",
   "metadata": {
    "id": "shgW4D83awjK"
   },
   "source": [
    "## Условные вероятности"
   ]
  }
 ],
 "metadata": {
  "colab": {
   "collapsed_sections": [],
   "name": "Практика к занятию 11.ipynb",
   "provenance": []
  },
  "kernelspec": {
   "display_name": "Python 3 (ipykernel)",
   "language": "python",
   "name": "python3"
  },
  "language_info": {
   "codemirror_mode": {
    "name": "ipython",
    "version": 3
   },
   "file_extension": ".py",
   "mimetype": "text/x-python",
   "name": "python",
   "nbconvert_exporter": "python",
   "pygments_lexer": "ipython3",
   "version": "3.9.13"
  }
 },
 "nbformat": 4,
 "nbformat_minor": 1
}
