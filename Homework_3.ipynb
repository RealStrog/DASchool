{
 "cells": [
  {
   "cell_type": "markdown",
   "metadata": {},
   "source": [
    "<a target=\"_blank\" href=\"https://colab.research.google.com/github/da-python/new-modul-python/blob/main/Lesson3/hometask/SyntheticRubber.ipynb\">\n",
    "  <img src=\"https://colab.research.google.com/assets/colab-badge.svg\" alt=\"Open In Colab\"/>\n",
    "</a>"
   ]
  },
  {
   "cell_type": "code",
   "execution_count": 2,
   "metadata": {},
   "outputs": [
    {
     "name": "stdout",
     "output_type": "stream",
     "text": [
      "Collecting yfinance\n",
      "  Downloading yfinance-0.2.14-py2.py3-none-any.whl (59 kB)\n",
      "     -------------------------------------- 59.7/59.7 kB 526.2 kB/s eta 0:00:00\n",
      "Requirement already satisfied: appdirs>=1.4.4 in c:\\users\\user\\anaconda3\\lib\\site-packages (from yfinance) (1.4.4)\n",
      "Requirement already satisfied: cryptography>=3.3.2 in c:\\users\\user\\anaconda3\\lib\\site-packages (from yfinance) (37.0.1)\n",
      "Requirement already satisfied: beautifulsoup4>=4.11.1 in c:\\users\\user\\anaconda3\\lib\\site-packages (from yfinance) (4.11.1)\n",
      "Collecting multitasking>=0.0.7\n",
      "  Downloading multitasking-0.0.11-py3-none-any.whl (8.5 kB)\n",
      "Requirement already satisfied: pandas>=1.3.0 in c:\\users\\user\\anaconda3\\lib\\site-packages (from yfinance) (1.4.4)\n",
      "Collecting frozendict>=2.3.4\n",
      "  Downloading frozendict-2.3.6-cp39-cp39-win_amd64.whl (35 kB)\n",
      "Requirement already satisfied: numpy>=1.16.5 in c:\\users\\user\\anaconda3\\lib\\site-packages (from yfinance) (1.21.5)\n",
      "Collecting pytz>=2022.5\n",
      "  Downloading pytz-2023.3-py2.py3-none-any.whl (502 kB)\n",
      "     -------------------------------------- 502.3/502.3 kB 2.9 MB/s eta 0:00:00\n",
      "Collecting html5lib>=1.1\n",
      "  Downloading html5lib-1.1-py2.py3-none-any.whl (112 kB)\n",
      "     -------------------------------------- 112.2/112.2 kB 6.4 MB/s eta 0:00:00\n",
      "Requirement already satisfied: requests>=2.26 in c:\\users\\user\\anaconda3\\lib\\site-packages (from yfinance) (2.28.1)\n",
      "Requirement already satisfied: lxml>=4.9.1 in c:\\users\\user\\anaconda3\\lib\\site-packages (from yfinance) (4.9.1)\n",
      "Requirement already satisfied: soupsieve>1.2 in c:\\users\\user\\anaconda3\\lib\\site-packages (from beautifulsoup4>=4.11.1->yfinance) (2.3.1)\n",
      "Requirement already satisfied: cffi>=1.12 in c:\\users\\user\\anaconda3\\lib\\site-packages (from cryptography>=3.3.2->yfinance) (1.15.1)\n",
      "Requirement already satisfied: six>=1.9 in c:\\users\\user\\anaconda3\\lib\\site-packages (from html5lib>=1.1->yfinance) (1.16.0)\n",
      "Requirement already satisfied: webencodings in c:\\users\\user\\anaconda3\\lib\\site-packages (from html5lib>=1.1->yfinance) (0.5.1)\n",
      "Requirement already satisfied: python-dateutil>=2.8.1 in c:\\users\\user\\anaconda3\\lib\\site-packages (from pandas>=1.3.0->yfinance) (2.8.2)\n",
      "Requirement already satisfied: charset-normalizer<3,>=2 in c:\\users\\user\\anaconda3\\lib\\site-packages (from requests>=2.26->yfinance) (2.0.4)\n",
      "Requirement already satisfied: urllib3<1.27,>=1.21.1 in c:\\users\\user\\anaconda3\\lib\\site-packages (from requests>=2.26->yfinance) (1.26.11)\n",
      "Requirement already satisfied: certifi>=2017.4.17 in c:\\users\\user\\anaconda3\\lib\\site-packages (from requests>=2.26->yfinance) (2022.9.14)\n",
      "Requirement already satisfied: idna<4,>=2.5 in c:\\users\\user\\anaconda3\\lib\\site-packages (from requests>=2.26->yfinance) (3.3)\n",
      "Requirement already satisfied: pycparser in c:\\users\\user\\anaconda3\\lib\\site-packages (from cffi>=1.12->cryptography>=3.3.2->yfinance) (2.21)\n",
      "Installing collected packages: pytz, multitasking, html5lib, frozendict, yfinance\n",
      "  Attempting uninstall: pytz\n",
      "    Found existing installation: pytz 2022.1\n",
      "    Uninstalling pytz-2022.1:\n",
      "      Successfully uninstalled pytz-2022.1\n",
      "Successfully installed frozendict-2.3.6 html5lib-1.1 multitasking-0.0.11 pytz-2023.3 yfinance-0.2.14\n"
     ]
    },
    {
     "name": "stderr",
     "output_type": "stream",
     "text": [
      "ERROR: pip's dependency resolver does not currently take into account all the packages that are installed. This behaviour is the source of the following dependency conflicts.\n",
      "conda-repo-cli 1.0.20 requires clyent==1.2.1, but you have clyent 1.2.2 which is incompatible.\n",
      "conda-repo-cli 1.0.20 requires nbformat==5.4.0, but you have nbformat 5.5.0 which is incompatible.\n"
     ]
    }
   ],
   "source": [
    "!pip install yfinance"
   ]
  },
  {
   "cell_type": "code",
   "execution_count": 184,
   "metadata": {},
   "outputs": [],
   "source": [
    "import os\n",
    "import yfinance as yf\n",
    "import pandas as pd\n",
    "import matplotlib.pyplot as plt \n",
    "import xlsxwriter\n",
    "import requests\n",
    "import numpy as np\n",
    "import json\n",
    "from pylab import rcParams"
   ]
  },
  {
   "cell_type": "code",
   "execution_count": 185,
   "metadata": {},
   "outputs": [
    {
     "name": "stdout",
     "output_type": "stream",
     "text": [
      "[*********************100%***********************]  1 of 1 completed\n",
      "[*********************100%***********************]  1 of 1 completed\n",
      "[*********************100%***********************]  1 of 1 completed\n"
     ]
    }
   ],
   "source": [
    "crude_oil_ticker = \"CL=F\"\n",
    "euro_usd = 'EURUSD=X'\n",
    "usd_rub = 'RUB=X'\n",
    "crude_oil = yf.Ticker(crude_oil_ticker)\n",
    "Oil_price_full = yf.download(crude_oil_ticker)\n",
    "euro_price_full = yf.download(euro_usd)\n",
    "rub_price_full = yf.download(usd_rub)"
   ]
  },
  {
   "cell_type": "markdown",
   "metadata": {},
   "source": [
    "# Задание 1.\n",
    "\n",
    "* Вы - менеджер по продажам в нефтехимической компании. Вы ведете несколько ключевых клиентов, которые закупают продукты вашей компании. Ваша компания запускает новый продукт - \"Синтетический каучук\" (СК), который по своим свойствам похож на тот, что уже есть на рынке. Ваши клиенты предпочитают формульный подход к ценообразованию. Вам нужно предложить клиентам формулу расчета цены на СК. В зависимости от объемов, которые покупают клиенты, им может быть предложена скидка.\n",
    "\n",
    "\n",
    "* СК производиться из нефти. Один из известных способов производства предполагает, что из 10 баррелей нефти сделают одну тонну СК, а затраты на производство в районе 400 евро."
   ]
  },
  {
   "cell_type": "code",
   "execution_count": 186,
   "metadata": {},
   "outputs": [],
   "source": [
    "\n",
    "# Затраты на производство\n",
    "PRODUCTION_COST = 400 # (EUR)\n",
    "\n",
    "# Расходы на логистику\n",
    "EU_LOGISTIC_COST_EUR = 30 # в Европу в евро\n",
    "CN_LOGISTIC_COST_USD = 130 # в Китай в долларах\n",
    "\n",
    "# * Справочная информация по клиентам(объемы, локации, комментарии) \n",
    "with open('customers.txt') as f:\n",
    "    data = f.read()\n",
    "    customers = json.loads(data)\n",
    "# Скидки\n",
    "discounts = {'99': 0.01, # до 100 тонн 1%\n",
    "             '299': 0.05, #  до 300 тонн 5%\n",
    "             '300': 0.1}   # больше 300 тонн 10%\n"
   ]
  },
  {
   "cell_type": "code",
   "execution_count": 187,
   "metadata": {},
   "outputs": [],
   "source": [
    "#open(\"customers.txt\", \"w\").write(json.dumps(customers))"
   ]
  },
  {
   "cell_type": "markdown",
   "metadata": {},
   "source": [
    "### Что нужно сделать?\n",
    "\n",
    "1. Определить базовую формулу цены на заводе. То есть как бы выглядела цена на исторических данных. \n",
    "* Важно, чтобы цена покрывала расходы на производство и при этом была в рынке, то есть на уровне натурального каучука или с небольшим дисконтом, котировки на который можно взять с сайта http://www3.lgm.gov.my/mre/MonthlyPrices.aspx (в центах за килограм). Можно перевести в доллары за тонну.\n",
    "2. Отобразить на графике.\n",
    "3. Сделать расчет возможной цены по формуле для каждого из клиентов на условиях DDP (цена с доставкой). Записать все в один эксель файл, на разных листах. Каждый лист - название клиента.\n",
    "4. Предложить формулу цены каждому из клиентов на условиях DDP (цена с доставкой).\n",
    "- Создать директорию «для клиентов» и в ней сложить  файлы с расчетами.\n",
    "- Каждый клиент - отдельный файл (любой из docx, xlsx, pptx, pdf)  с именем клиента… \n",
    "\n"
   ]
  },
  {
   "cell_type": "code",
   "execution_count": 188,
   "metadata": {},
   "outputs": [],
   "source": [
    "Oil_price = pd.DataFrame(Oil_price_full, columns = ['Close'])\n",
    "euro_price = pd.DataFrame(euro_price_full, columns = ['Close'])\n",
    "oil_and_euro = pd.merge(Oil_price.reset_index(), euro_price.reset_index(), on=('Date') , how='inner')\n",
    "oil_and_euro.rename(columns={\"Close_x\": \"oil_p\", \"Close_y\": \"euro_p\"},\n",
    "    inplace=True,\n",
    ")"
   ]
  },
  {
   "cell_type": "code",
   "execution_count": 189,
   "metadata": {},
   "outputs": [],
   "source": [
    "oil_euro_cost = oil_and_euro.assign(cost = 10 * oil_and_euro['oil_p']+ 400 * oil_and_euro['euro_p'])\n",
    "oil_euro_cost_2022 = oil_euro_cost[oil_euro_cost['Date']>='2022-01-01']\n",
    "oil_euro_cost_2022 = oil_euro_cost_2022[oil_euro_cost_2022['Date']<'2023-01-01']\n",
    "oil_euro_cost_2022 = oil_euro_cost_2022.reset_index(drop=True)"
   ]
  },
  {
   "cell_type": "code",
   "execution_count": 190,
   "metadata": {},
   "outputs": [
    {
     "name": "stdout",
     "output_type": "stream",
     "text": [
      "01\n",
      "02\n",
      "03\n",
      "04\n",
      "05\n",
      "06\n",
      "07\n",
      "08\n",
      "09\n",
      "10\n",
      "11\n",
      "12\n"
     ]
    }
   ],
   "source": [
    "rubberprice=[]\n",
    "for i in range(1,13):\n",
    "    if len(str(i)) == 1:\n",
    "        i=str(i)\n",
    "        i= '0' + i\n",
    "    else: i = str(i)\n",
    "    print(i) \n",
    "    year = '2022'\n",
    "    month = i\n",
    "    url = f\"https://www.lgm.gov.my/webv2api/api/rubberprice/month={month}&year={year}\"\n",
    "    res = requests.get(url)\n",
    "    rj = res.json()\n",
    "    df = pd.DataFrame(rj)\n",
    "    rubberprice.append(df)   \n",
    "rubberprice_df =pd.concat(rubberprice, axis=0)\n",
    "rubberprice_df = rubberprice_df.reset_index(drop=True)"
   ]
  },
  {
   "cell_type": "code",
   "execution_count": 191,
   "metadata": {},
   "outputs": [],
   "source": [
    "rubberprice_df_cv = rubberprice_df[rubberprice_df['grade']== 'SMR CV']\n",
    "rubberprice_df_cv = rubberprice_df_cv.reset_index(drop=True) \n",
    "rubberprice_df_cv['us']=rubberprice_df_cv['us'].apply(pd.to_numeric)\n",
    "rubberprice_df_cv_new = rubberprice_df_cv.assign(USD = rubberprice_df_cv['us']*10) #mass conversion to usd per ton\n",
    "rubberprice_df_cv_total= pd.DataFrame(rubberprice_df_cv_new, columns = ['date','USD'])\n",
    "rubberprice_df_cv_total.rename(columns={\"USD\": \"USDperTon\"},\n",
    "    inplace=True,\n",
    ")"
   ]
  },
  {
   "cell_type": "code",
   "execution_count": 192,
   "metadata": {},
   "outputs": [],
   "source": [
    "rubberprice_df_cv_total_2022 = rubberprice_df_cv_total[rubberprice_df_cv_total['date']>='2022-01-01']\n",
    "rubberprice_df_cv_total_2022 = rubberprice_df_cv_total[rubberprice_df_cv_total['date']<'2023-01-01']\n",
    "rubberprice_df_cv_total_2022['date']=pd.to_datetime(rubberprice_df_cv_total_2022['date'])\n",
    "total = pd.merge(oil_euro_cost_2022, rubberprice_df_cv_total_2022, left_on =('Date'), right_on =('date'),  how='inner')"
   ]
  },
  {
   "cell_type": "code",
   "execution_count": 193,
   "metadata": {},
   "outputs": [
    {
     "data": {
      "text/html": [
       "<div>\n",
       "<style scoped>\n",
       "    .dataframe tbody tr th:only-of-type {\n",
       "        vertical-align: middle;\n",
       "    }\n",
       "\n",
       "    .dataframe tbody tr th {\n",
       "        vertical-align: top;\n",
       "    }\n",
       "\n",
       "    .dataframe thead th {\n",
       "        text-align: right;\n",
       "    }\n",
       "</style>\n",
       "<table border=\"1\" class=\"dataframe\">\n",
       "  <thead>\n",
       "    <tr style=\"text-align: right;\">\n",
       "      <th></th>\n",
       "      <th>Date</th>\n",
       "      <th>oil_p</th>\n",
       "      <th>euro_p</th>\n",
       "      <th>cost</th>\n",
       "      <th>date</th>\n",
       "      <th>USDperTon</th>\n",
       "      <th>compare</th>\n",
       "    </tr>\n",
       "  </thead>\n",
       "  <tbody>\n",
       "  </tbody>\n",
       "</table>\n",
       "</div>"
      ],
      "text/plain": [
       "Empty DataFrame\n",
       "Columns: [Date, oil_p, euro_p, cost, date, USDperTon, compare]\n",
       "Index: []"
      ]
     },
     "execution_count": 193,
     "metadata": {},
     "output_type": "execute_result"
    }
   ],
   "source": [
    "total['compare'] = total['cost'] < total['USDperTon']\n",
    "total[total['compare'] == False]"
   ]
  },
  {
   "cell_type": "code",
   "execution_count": 194,
   "metadata": {},
   "outputs": [],
   "source": [
    "total_plt = total[['Date','cost']]\n",
    "total_plt = total_plt.round({'cost': 0})\n",
    "total_plt_graf = total_plt.set_index('Date')['cost']"
   ]
  },
  {
   "cell_type": "code",
   "execution_count": 199,
   "metadata": {
    "scrolled": true
   },
   "outputs": [
    {
     "data": {
      "text/plain": [
       "<AxesSubplot:title={'center':'Колебания цены в 2022 году'}, xlabel='Date', ylabel='цена в USD'>"
      ]
     },
     "execution_count": 199,
     "metadata": {},
     "output_type": "execute_result"
    },
    {
     "data": {
      "image/png": "[encoded data removed]",
      "text/plain": [
       "<Figure size 1000x600 with 1 Axes>"
      ]
     },
     "metadata": {},
     "output_type": "display_data"
    }
   ],
   "source": [
    "title_dict = {'fontsize':14, \n",
    "              'fontweight':'bold',\n",
    "              'color':'DarkGreen',\n",
    "              'family':'Times New Roman'}\n",
    "rcParams['figure.figsize'] = 10,6\n",
    "plt.title('Колебания цены в 2022 году', fontdict=title_dict)\n",
    "plt.xlabel('Дата', fontdict=title_dict)\n",
    "plt.ylabel('цена в USD', fontdict=title_dict)\n",
    "total_plt_graf.plot()"
   ]
  },
  {
   "cell_type": "code",
   "execution_count": 200,
   "metadata": {},
   "outputs": [
    {
     "data": {
      "text/html": [
       "<div>\n",
       "<style scoped>\n",
       "    .dataframe tbody tr th:only-of-type {\n",
       "        vertical-align: middle;\n",
       "    }\n",
       "\n",
       "    .dataframe tbody tr th {\n",
       "        vertical-align: top;\n",
       "    }\n",
       "\n",
       "    .dataframe thead th {\n",
       "        text-align: right;\n",
       "    }\n",
       "</style>\n",
       "<table border=\"1\" class=\"dataframe\">\n",
       "  <thead>\n",
       "    <tr style=\"text-align: right;\">\n",
       "      <th></th>\n",
       "      <th>Date</th>\n",
       "      <th>oil_p</th>\n",
       "      <th>euro_p</th>\n",
       "      <th>cost</th>\n",
       "      <th>Сonty</th>\n",
       "      <th>Triangle</th>\n",
       "      <th>Stone</th>\n",
       "      <th>Ant</th>\n",
       "      <th>Ivan</th>\n",
       "    </tr>\n",
       "    <tr>\n",
       "      <th>Date</th>\n",
       "      <th></th>\n",
       "      <th></th>\n",
       "      <th></th>\n",
       "      <th></th>\n",
       "      <th></th>\n",
       "      <th></th>\n",
       "      <th></th>\n",
       "      <th></th>\n",
       "      <th></th>\n",
       "    </tr>\n",
       "  </thead>\n",
       "  <tbody>\n",
       "    <tr>\n",
       "      <th>2022-01-03</th>\n",
       "      <td>2022-01-03</td>\n",
       "      <td>76.080002</td>\n",
       "      <td>1.137346</td>\n",
       "      <td>1215.738382</td>\n",
       "      <td>6.929709</td>\n",
       "      <td>4.693966</td>\n",
       "      <td>5.197282</td>\n",
       "      <td>2.527520</td>\n",
       "      <td>0.328249</td>\n",
       "    </tr>\n",
       "    <tr>\n",
       "      <th>2022-01-04</th>\n",
       "      <td>2022-01-04</td>\n",
       "      <td>76.989998</td>\n",
       "      <td>1.130224</td>\n",
       "      <td>1221.989765</td>\n",
       "      <td>6.965342</td>\n",
       "      <td>4.718102</td>\n",
       "      <td>5.224006</td>\n",
       "      <td>2.540517</td>\n",
       "      <td>0.329937</td>\n",
       "    </tr>\n",
       "    <tr>\n",
       "      <th>2022-01-05</th>\n",
       "      <td>2022-01-05</td>\n",
       "      <td>77.849998</td>\n",
       "      <td>1.128363</td>\n",
       "      <td>1229.844999</td>\n",
       "      <td>7.010116</td>\n",
       "      <td>4.748432</td>\n",
       "      <td>5.257587</td>\n",
       "      <td>2.556848</td>\n",
       "      <td>0.332058</td>\n",
       "    </tr>\n",
       "    <tr>\n",
       "      <th>2022-01-06</th>\n",
       "      <td>2022-01-06</td>\n",
       "      <td>79.459999</td>\n",
       "      <td>1.131350</td>\n",
       "      <td>1247.139864</td>\n",
       "      <td>7.108697</td>\n",
       "      <td>4.815207</td>\n",
       "      <td>5.331523</td>\n",
       "      <td>2.592804</td>\n",
       "      <td>0.336728</td>\n",
       "    </tr>\n",
       "    <tr>\n",
       "      <th>2022-01-07</th>\n",
       "      <td>2022-01-07</td>\n",
       "      <td>78.900002</td>\n",
       "      <td>1.129688</td>\n",
       "      <td>1240.875273</td>\n",
       "      <td>7.072989</td>\n",
       "      <td>4.791019</td>\n",
       "      <td>5.304742</td>\n",
       "      <td>2.579780</td>\n",
       "      <td>0.335036</td>\n",
       "    </tr>\n",
       "    <tr>\n",
       "      <th>...</th>\n",
       "      <td>...</td>\n",
       "      <td>...</td>\n",
       "      <td>...</td>\n",
       "      <td>...</td>\n",
       "      <td>...</td>\n",
       "      <td>...</td>\n",
       "      <td>...</td>\n",
       "      <td>...</td>\n",
       "      <td>...</td>\n",
       "    </tr>\n",
       "    <tr>\n",
       "      <th>2022-12-23</th>\n",
       "      <td>2022-12-23</td>\n",
       "      <td>79.559998</td>\n",
       "      <td>1.060333</td>\n",
       "      <td>1219.733181</td>\n",
       "      <td>6.952479</td>\n",
       "      <td>4.709390</td>\n",
       "      <td>5.214359</td>\n",
       "      <td>2.535825</td>\n",
       "      <td>0.329328</td>\n",
       "    </tr>\n",
       "    <tr>\n",
       "      <th>2022-12-27</th>\n",
       "      <td>2022-12-27</td>\n",
       "      <td>79.529999</td>\n",
       "      <td>1.064022</td>\n",
       "      <td>1220.908861</td>\n",
       "      <td>6.959181</td>\n",
       "      <td>4.713929</td>\n",
       "      <td>5.219385</td>\n",
       "      <td>2.538270</td>\n",
       "      <td>0.329645</td>\n",
       "    </tr>\n",
       "    <tr>\n",
       "      <th>2022-12-28</th>\n",
       "      <td>2022-12-28</td>\n",
       "      <td>78.959999</td>\n",
       "      <td>1.063717</td>\n",
       "      <td>1215.086651</td>\n",
       "      <td>6.925994</td>\n",
       "      <td>4.691450</td>\n",
       "      <td>5.194495</td>\n",
       "      <td>2.526165</td>\n",
       "      <td>0.328073</td>\n",
       "    </tr>\n",
       "    <tr>\n",
       "      <th>2022-12-29</th>\n",
       "      <td>2022-12-29</td>\n",
       "      <td>78.400002</td>\n",
       "      <td>1.062925</td>\n",
       "      <td>1209.170055</td>\n",
       "      <td>6.892269</td>\n",
       "      <td>4.668606</td>\n",
       "      <td>5.169202</td>\n",
       "      <td>2.513865</td>\n",
       "      <td>0.326476</td>\n",
       "    </tr>\n",
       "    <tr>\n",
       "      <th>2022-12-30</th>\n",
       "      <td>2022-12-30</td>\n",
       "      <td>80.260002</td>\n",
       "      <td>1.066075</td>\n",
       "      <td>1229.030151</td>\n",
       "      <td>7.005472</td>\n",
       "      <td>4.745285</td>\n",
       "      <td>5.254104</td>\n",
       "      <td>2.555154</td>\n",
       "      <td>0.331838</td>\n",
       "    </tr>\n",
       "  </tbody>\n",
       "</table>\n",
       "<p>252 rows × 9 columns</p>\n",
       "</div>"
      ],
      "text/plain": [
       "                 Date      oil_p    euro_p         cost     Сonty  Triangle  \\\n",
       "Date                                                                          \n",
       "2022-01-03 2022-01-03  76.080002  1.137346  1215.738382  6.929709  4.693966   \n",
       "2022-01-04 2022-01-04  76.989998  1.130224  1221.989765  6.965342  4.718102   \n",
       "2022-01-05 2022-01-05  77.849998  1.128363  1229.844999  7.010116  4.748432   \n",
       "2022-01-06 2022-01-06  79.459999  1.131350  1247.139864  7.108697  4.815207   \n",
       "2022-01-07 2022-01-07  78.900002  1.129688  1240.875273  7.072989  4.791019   \n",
       "...               ...        ...       ...          ...       ...       ...   \n",
       "2022-12-23 2022-12-23  79.559998  1.060333  1219.733181  6.952479  4.709390   \n",
       "2022-12-27 2022-12-27  79.529999  1.064022  1220.908861  6.959181  4.713929   \n",
       "2022-12-28 2022-12-28  78.959999  1.063717  1215.086651  6.925994  4.691450   \n",
       "2022-12-29 2022-12-29  78.400002  1.062925  1209.170055  6.892269  4.668606   \n",
       "2022-12-30 2022-12-30  80.260002  1.066075  1229.030151  7.005472  4.745285   \n",
       "\n",
       "               Stone       Ant      Ivan  \n",
       "Date                                      \n",
       "2022-01-03  5.197282  2.527520  0.328249  \n",
       "2022-01-04  5.224006  2.540517  0.329937  \n",
       "2022-01-05  5.257587  2.556848  0.332058  \n",
       "2022-01-06  5.331523  2.592804  0.336728  \n",
       "2022-01-07  5.304742  2.579780  0.335036  \n",
       "...              ...       ...       ...  \n",
       "2022-12-23  5.214359  2.535825  0.329328  \n",
       "2022-12-27  5.219385  2.538270  0.329645  \n",
       "2022-12-28  5.194495  2.526165  0.328073  \n",
       "2022-12-29  5.169202  2.513865  0.326476  \n",
       "2022-12-30  5.254104  2.555154  0.331838  \n",
       "\n",
       "[252 rows x 9 columns]"
      ]
     },
     "execution_count": 200,
     "metadata": {},
     "output_type": "execute_result"
    }
   ],
   "source": [
    "total_cost_for_customers = oil_euro_cost_2022\n",
    "for x in range(0,len(customers)):\n",
    "    customer = customers[list(customers.keys())[x]]\n",
    "    name_customer= list(customers.keys())[x]\n",
    "    volume = customers[list(customers.keys())[x]]['volumes']\n",
    "    if volume <= int(list(discounts.keys())[0]):\n",
    "        sale = 1-(discounts[list(discounts.keys())[0]])\n",
    "        #print(sale)\n",
    "    elif volume > int(list(discounts.keys())[0]) and volume <= int(list(discounts.keys())[1]):\n",
    "        sale = 1-(discounts[list(discounts.keys())[1]])\n",
    "        #print(sale)\n",
    "    elif volume >= int(list(discounts.keys())[2]):\n",
    "        sale = 1-(discounts[list(discounts.keys())[2]])\n",
    "    else: sale = 1\n",
    "        #print(sale)\n",
    "    if customers[list(customers.keys())[x]]['location'] == 'EU':\n",
    "        region = EU_LOGISTIC_COST_EUR\n",
    "    elif customers[list(customers.keys())[x]]['location'] == 'CN':\n",
    "        region = CN_LOGISTIC_COST_USD\n",
    "    else: region = 1\n",
    "    total_cost_for_customers[name_customer] = total_cost_for_customers['cost'].apply(lambda x: 0.000001 * x * volume * region * sale)\n",
    "    #\n",
    "total_cost_for_customers"
   ]
  },
  {
   "cell_type": "code",
   "execution_count": 201,
   "metadata": {},
   "outputs": [],
   "source": [
    "total_cost_for_customers_for_excel = total_cost_for_customers\n",
    "total_cost_for_customers_for_excel.index = total_cost_for_customers_for_excel['Date']\n",
    "total_cost_for_customers_for_excel = total_cost_for_customers_for_excel.resample('M').mean()\n",
    "total_cost_for_customers_for_excel = total_cost_for_customers_for_excel.reset_index() \n"
   ]
  },
  {
   "cell_type": "code",
   "execution_count": 202,
   "metadata": {},
   "outputs": [],
   "source": [
    "xlfilepath = 'prices_for_customers.xlsx'\n",
    "with pd.ExcelWriter(xlfilepath, engine='xlsxwriter') as writer:\n",
    "    for x in range(0,len(customers)):\n",
    "        customer = customers[list(customers.keys())[x]]\n",
    "        name_customer= list(customers.keys())[x]\n",
    "        volume = customers[list(customers.keys())[x]]['volumes']\n",
    "        if volume <= int(list(discounts.keys())[0]):\n",
    "            sale = 100*(discounts[list(discounts.keys())[0]])\n",
    "        elif volume > int(list(discounts.keys())[0]) and volume <= int(list(discounts.keys())[1]):\n",
    "            sale = 100*(discounts[list(discounts.keys())[1]])\n",
    "        elif volume >= int(list(discounts.keys())[2]):\n",
    "            sale = 100*(discounts[list(discounts.keys())[2]])\n",
    "        else: sale = 0   \n",
    "        if customers[list(customers.keys())[x]]['location'] == 'EU':\n",
    "            region2 = EU_LOGISTIC_COST_EUR\n",
    "        elif customers[list(customers.keys())[x]]['location'] == 'CN':\n",
    "            region2 = CN_LOGISTIC_COST_USD\n",
    "        else:\n",
    "            region2 = 0\n",
    "        customer_df = pd.DataFrame(total_cost_for_customers_for_excel, columns = ['Date', 'cost', name_customer])\n",
    "        customer_df = customer_df.rename(columns = {name_customer : 'Total_cost'})\n",
    "        customer_df.Date = customer_df.Date.dt.strftime('%B %Y')\n",
    "        customer_df_graf = customer_df.set_index('Date')['Total_cost']\n",
    "        title_dict = {'fontsize':14, \n",
    "                      'fontweight':'bold',\n",
    "                      'color':'DarkRed',\n",
    "                      'family':'Times New Roman'}\n",
    "        rcParams['figure.figsize'] = 9,6\n",
    "        plt.title('Цена за прошлый год', fontdict=title_dict)\n",
    "        plt.xlabel('Дата', fontdict=title_dict)\n",
    "        plt.ylabel('цена в миллионах $', fontdict=title_dict)\n",
    "        customer_df_graf.plot()\n",
    "        plt.grid()\n",
    "        #plt.show()\n",
    "        plt.savefig(f'{name_customer}_price.png')\n",
    "        plt.close()\n",
    "        \n",
    "        \n",
    "        max_row, max_col = customer_df.shape\n",
    "        customer_df.to_excel(writer, sheet_name=name_customer, startrow=2, header=False, index=False)\n",
    "        workbook = writer.book\n",
    "        worksheet = writer.sheets[name_customer]\n",
    "        cell_format = workbook.add_format({'bold': True, 'font_color': 'black', 'size':14})\n",
    "        worksheet.write('A1', f'Покупатель:{name_customer} Объем: {volume} Цена доставки: {region2} $, скидка: {sale}%. Общая цена в миллионах долларов', cell_format)\n",
    "        mean_cost_for_customer = round(customer_df['Total_cost'].mean(), 2)\n",
    "        worksheet.write('A2', f'Средняя цена за прошлый год на заданный объем с учетом скидки и доставки:{mean_cost_for_customer} миллионов долларов', cell_format)\n",
    "        column_settings = [{'header': column} for column in customer_df.columns]\n",
    "        worksheet.add_table(2, 0, max_row, max_col - 1, {'columns': column_settings})\n",
    "        worksheet.insert_image(max_row + 4, 1, f'{name_customer}_price.png')"
   ]
  },
  {
   "cell_type": "markdown",
   "metadata": {},
   "source": [
    "# Задание 2"
   ]
  },
  {
   "cell_type": "markdown",
   "metadata": {},
   "source": [
    "Клиенты согласились на ваше предложение. \n",
    "Вам нужно сделать написать скрипт, с помощью которого можно автоматом рассчитывать цены для всех клиентов одновременно. \n",
    "Важный момент: данные для расчета скрипт должен подтягивать сам."
   ]
  },
  {
   "cell_type": "code",
   "execution_count": 203,
   "metadata": {},
   "outputs": [],
   "source": [
    "#Данные о клиентах и объемах торгов лежат в файле customers.txt откуда автоматически выгружаются и могут быть редактированы. \n",
    "#Остальное считается автоматически."
   ]
  },
  {
   "cell_type": "markdown",
   "metadata": {},
   "source": [
    "# Задание 3\n",
    "\n",
    "К вам пришел новый клиент из России. Который использует продукт А и готов регулярно закупать СК для того, чтобы не быть привязанным к одному поставщику. Клиент готов забирать СК с завода самостоятельно.\n",
    "На основе тех данных, которые уже есть предложите цену новому клиенту в рублях. \n",
    "\n"
   ]
  },
  {
   "cell_type": "code",
   "execution_count": 204,
   "metadata": {},
   "outputs": [],
   "source": [
    "rub_price = pd.DataFrame(rub_price_full, columns = ['Close'])\n",
    "rub_price = rub_price.reset_index()\n",
    "rub_price_2022 = rub_price[rub_price['Date']>='2022-01-01']\n",
    "rub_price_2022 = rub_price_2022[rub_price_2022['Date']<'2023-01-01']\n",
    "rub_price_2022 = rub_price_2022.reset_index(drop=True)\n",
    "rubberprice_2022 = pd.DataFrame(total_cost_for_customers, columns = ['Date' , 'Ivan'])\n",
    "rubberprice_2022 = rubberprice_2022.reset_index(drop=True)"
   ]
  },
  {
   "cell_type": "code",
   "execution_count": 205,
   "metadata": {},
   "outputs": [
    {
     "data": {
      "text/html": [
       "<div>\n",
       "<style scoped>\n",
       "    .dataframe tbody tr th:only-of-type {\n",
       "        vertical-align: middle;\n",
       "    }\n",
       "\n",
       "    .dataframe tbody tr th {\n",
       "        vertical-align: top;\n",
       "    }\n",
       "\n",
       "    .dataframe thead th {\n",
       "        text-align: right;\n",
       "    }\n",
       "</style>\n",
       "<table border=\"1\" class=\"dataframe\">\n",
       "  <thead>\n",
       "    <tr style=\"text-align: right;\">\n",
       "      <th></th>\n",
       "      <th>Date</th>\n",
       "      <th>Ivan</th>\n",
       "      <th>Close</th>\n",
       "      <th>Ivan_ru</th>\n",
       "    </tr>\n",
       "  </thead>\n",
       "  <tbody>\n",
       "    <tr>\n",
       "      <th>0</th>\n",
       "      <td>2022-01-03</td>\n",
       "      <td>0.328249</td>\n",
       "      <td>74.986000</td>\n",
       "      <td>24.614107</td>\n",
       "    </tr>\n",
       "    <tr>\n",
       "      <th>1</th>\n",
       "      <td>2022-01-04</td>\n",
       "      <td>0.329937</td>\n",
       "      <td>74.371803</td>\n",
       "      <td>24.538027</td>\n",
       "    </tr>\n",
       "    <tr>\n",
       "      <th>2</th>\n",
       "      <td>2022-01-05</td>\n",
       "      <td>0.332058</td>\n",
       "      <td>75.263000</td>\n",
       "      <td>24.991693</td>\n",
       "    </tr>\n",
       "    <tr>\n",
       "      <th>3</th>\n",
       "      <td>2022-01-06</td>\n",
       "      <td>0.336728</td>\n",
       "      <td>76.661598</td>\n",
       "      <td>25.814088</td>\n",
       "    </tr>\n",
       "    <tr>\n",
       "      <th>4</th>\n",
       "      <td>2022-01-07</td>\n",
       "      <td>0.335036</td>\n",
       "      <td>76.353699</td>\n",
       "      <td>25.581263</td>\n",
       "    </tr>\n",
       "    <tr>\n",
       "      <th>...</th>\n",
       "      <td>...</td>\n",
       "      <td>...</td>\n",
       "      <td>...</td>\n",
       "      <td>...</td>\n",
       "    </tr>\n",
       "    <tr>\n",
       "      <th>247</th>\n",
       "      <td>2022-12-23</td>\n",
       "      <td>0.329328</td>\n",
       "      <td>68.214996</td>\n",
       "      <td>22.465106</td>\n",
       "    </tr>\n",
       "    <tr>\n",
       "      <th>248</th>\n",
       "      <td>2022-12-27</td>\n",
       "      <td>0.329645</td>\n",
       "      <td>68.330002</td>\n",
       "      <td>22.524670</td>\n",
       "    </tr>\n",
       "    <tr>\n",
       "      <th>249</th>\n",
       "      <td>2022-12-28</td>\n",
       "      <td>0.328073</td>\n",
       "      <td>69.964996</td>\n",
       "      <td>22.953654</td>\n",
       "    </tr>\n",
       "    <tr>\n",
       "      <th>250</th>\n",
       "      <td>2022-12-29</td>\n",
       "      <td>0.326476</td>\n",
       "      <td>72.714996</td>\n",
       "      <td>23.739695</td>\n",
       "    </tr>\n",
       "    <tr>\n",
       "      <th>251</th>\n",
       "      <td>2022-12-30</td>\n",
       "      <td>0.331838</td>\n",
       "      <td>73.964996</td>\n",
       "      <td>24.544407</td>\n",
       "    </tr>\n",
       "  </tbody>\n",
       "</table>\n",
       "<p>252 rows × 4 columns</p>\n",
       "</div>"
      ],
      "text/plain": [
       "          Date      Ivan      Close    Ivan_ru\n",
       "0   2022-01-03  0.328249  74.986000  24.614107\n",
       "1   2022-01-04  0.329937  74.371803  24.538027\n",
       "2   2022-01-05  0.332058  75.263000  24.991693\n",
       "3   2022-01-06  0.336728  76.661598  25.814088\n",
       "4   2022-01-07  0.335036  76.353699  25.581263\n",
       "..         ...       ...        ...        ...\n",
       "247 2022-12-23  0.329328  68.214996  22.465106\n",
       "248 2022-12-27  0.329645  68.330002  22.524670\n",
       "249 2022-12-28  0.328073  69.964996  22.953654\n",
       "250 2022-12-29  0.326476  72.714996  23.739695\n",
       "251 2022-12-30  0.331838  73.964996  24.544407\n",
       "\n",
       "[252 rows x 4 columns]"
      ]
     },
     "execution_count": 205,
     "metadata": {},
     "output_type": "execute_result"
    }
   ],
   "source": [
    "rubberprice_2022_ru = pd.merge(rubberprice_2022, rub_price_2022, on=('Date') , how='inner')\n",
    "rubberprice_2022_ru_cost = rubberprice_2022_ru.assign(Ivan_ru = rubberprice_2022_ru['Ivan'] * rubberprice_2022_ru['Close'])\n",
    "rubberprice_2022_ru_cost"
   ]
  },
  {
   "cell_type": "code",
   "execution_count": 206,
   "metadata": {},
   "outputs": [
    {
     "name": "stdout",
     "output_type": "stream",
     "text": [
      "Средняя цена для покупателя из России за прошлый год на запрашиваемый объем составила: 26.13 миллионов рублей \n"
     ]
    }
   ],
   "source": [
    "ru_cost_mean = round(rubberprice_2022_ru_cost['Ivan_ru'].mean(),2)\n",
    "print(f'Средняя цена для покупателя из России за прошлый год на запрашиваемый объем составила: {ru_cost_mean} миллионов рублей ')"
   ]
  },
  {
   "cell_type": "code",
   "execution_count": null,
   "metadata": {},
   "outputs": [],
   "source": []
  },
  {
   "cell_type": "code",
   "execution_count": null,
   "metadata": {},
   "outputs": [],
   "source": []
  }
 ],
 "metadata": {
  "kernelspec": {
   "display_name": "Python 3 (ipykernel)",
   "language": "python",
   "name": "python3"
  },
  "language_info": {
   "codemirror_mode": {
    "name": "ipython",
    "version": 3
   },
   "file_extension": ".py",
   "mimetype": "text/x-python",
   "name": "python",
   "nbconvert_exporter": "python",
   "pygments_lexer": "ipython3",
   "version": "3.9.13"
  }
 },
 "nbformat": 4,
 "nbformat_minor": 2
}
